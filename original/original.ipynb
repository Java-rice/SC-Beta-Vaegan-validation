{
 "cells": [
  {
   "cell_type": "code",
   "execution_count": 1,
   "metadata": {},
   "outputs": [],
   "source": [
    "# Cell 1 - Import required libraries\n",
    "import numpy as np\n",
    "import pandas as pd\n",
    "import glob\n",
    "import os\n",
    "import tensorflow as tf\n",
    "from scipy.stats import skew, kurtosis\n",
    "from sklearn.preprocessing import StandardScaler\n",
    "from tensorflow.keras.models import load_model\n",
    "from tensorflow.keras import layers, Model\n",
    "from tensorflow.keras.regularizers import l2\n",
    "from tensorflow.keras.saving import register_keras_serializable\n",
    "import joblib\n",
    "import xlsxwriter\n",
    "from tqdm import tqdm\n",
    "from sklearn.metrics import confusion_matrix, classification_report\n",
    "from tensorflow.keras.models import load_model\n",
    "from scipy.stats import skew, kurtosis\n",
    "import matplotlib.pyplot as plt\n",
    "import seaborn as sns"
   ]
  },
  {
   "cell_type": "code",
   "execution_count": 2,
   "metadata": {},
   "outputs": [],
   "source": [
    "# Cell 2 - Define Transformer model classes (needed for loading the saved model)\n",
    "@register_keras_serializable()\n",
    "class MultiHeadSelfAttention(layers.Layer):\n",
    "    def __init__(self, embed_dim, num_heads, dropout_rate=0.1, **kwargs):\n",
    "        super().__init__(**kwargs)\n",
    "        self.embed_dim = embed_dim\n",
    "        self.num_heads = num_heads\n",
    "        self.dropout_rate = dropout_rate\n",
    "        if embed_dim % num_heads != 0:\n",
    "            raise ValueError(f\"embedding dimension = {embed_dim} should be divisible by number of heads = {num_heads}\")\n",
    "        self.projection_dim = embed_dim // num_heads\n",
    "        self.query_dense = layers.Dense(embed_dim, kernel_regularizer=l2(0.01))\n",
    "        self.key_dense = layers.Dense(embed_dim, kernel_regularizer=l2(0.01))\n",
    "        self.value_dense = layers.Dense(embed_dim, kernel_regularizer=l2(0.01))\n",
    "        self.combine_heads = layers.Dense(embed_dim, kernel_regularizer=l2(0.01))\n",
    "        self.dropout = layers.Dropout(dropout_rate)\n",
    "    \n",
    "    def get_config(self):\n",
    "        config = super().get_config()\n",
    "        config.update({\n",
    "            \"embed_dim\": self.embed_dim,\n",
    "            \"num_heads\": self.num_heads,\n",
    "            \"dropout_rate\": self.dropout_rate,\n",
    "        })\n",
    "        return config\n",
    "\n",
    "    def attention(self, query, key, value):\n",
    "        score = tf.matmul(query, key, transpose_b=True)\n",
    "        dim_key = tf.cast(tf.shape(key)[-1], tf.float32)\n",
    "        scaled_score = score / tf.math.sqrt(dim_key)\n",
    "        weights = tf.nn.softmax(scaled_score, axis=-1)\n",
    "        weights = self.dropout(weights)\n",
    "        output = tf.matmul(weights, value)\n",
    "        return output, weights\n",
    "\n",
    "    def separate_heads(self, x, batch_size):\n",
    "        x = tf.reshape(x, (batch_size, -1, self.num_heads, self.projection_dim))\n",
    "        return tf.transpose(x, perm=[0, 2, 1, 3])\n",
    "\n",
    "    def call(self, inputs, training=False):\n",
    "        batch_size = tf.shape(inputs)[0]\n",
    "        query = self.query_dense(inputs)\n",
    "        key = self.key_dense(inputs)\n",
    "        value = self.value_dense(inputs)\n",
    "        query = self.separate_heads(query, batch_size)\n",
    "        key = self.separate_heads(key, batch_size)\n",
    "        value = self.separate_heads(value, batch_size)\n",
    "        attention, weights = self.attention(query, key, value)\n",
    "        attention = tf.transpose(attention, perm=[0, 2, 1, 3])\n",
    "        concat_attention = tf.reshape(attention, (batch_size, -1, self.embed_dim))\n",
    "        output = self.combine_heads(concat_attention)\n",
    "        return output\n",
    "\n",
    "@register_keras_serializable()\n",
    "class TransformerBlock(layers.Layer):\n",
    "    def __init__(self, embed_dim, num_heads, ff_dim, rate=0.2, **kwargs):\n",
    "        super().__init__(**kwargs)\n",
    "        self.embed_dim = embed_dim\n",
    "        self.num_heads = num_heads\n",
    "        self.ff_dim = ff_dim\n",
    "        self.rate = rate\n",
    "        self.att = MultiHeadSelfAttention(embed_dim, num_heads, rate)\n",
    "        self.ffn = tf.keras.Sequential([\n",
    "            layers.Dense(ff_dim, activation=\"relu\", kernel_regularizer=l2(0.01)),\n",
    "            layers.Dropout(rate),\n",
    "            layers.Dense(embed_dim, kernel_regularizer=l2(0.01))\n",
    "        ])\n",
    "        self.layernorm1 = layers.LayerNormalization(epsilon=1e-6)\n",
    "        self.layernorm2 = layers.LayerNormalization(epsilon=1e-6)\n",
    "        self.dropout1 = layers.Dropout(rate)\n",
    "        self.dropout2 = layers.Dropout(rate)\n",
    "\n",
    "    def get_config(self):\n",
    "        config = super().get_config()\n",
    "        config.update({\n",
    "            \"embed_dim\": self.embed_dim,\n",
    "            \"num_heads\": self.num_heads,\n",
    "            \"ff_dim\": self.ff_dim,\n",
    "            \"rate\": self.rate,\n",
    "        })\n",
    "        return config\n",
    "\n",
    "    def call(self, inputs, training=False):\n",
    "        attn_output = self.att(inputs, training=training)\n",
    "        attn_output = self.dropout1(attn_output, training=training)\n",
    "        out1 = self.layernorm1(inputs + attn_output)\n",
    "        ffn_output = self.ffn(out1)\n",
    "        ffn_output = self.dropout2(ffn_output, training=training)\n",
    "        return self.layernorm2(out1 + ffn_output)\n",
    "\n",
    "@register_keras_serializable()\n",
    "class TransformerClassifier(Model):\n",
    "    def __init__(self, num_classes, embed_dim, num_heads, ff_dim, num_layers, **kwargs):\n",
    "        super().__init__(**kwargs)\n",
    "        self.num_classes = num_classes\n",
    "        self.embed_dim = embed_dim\n",
    "        self.num_heads = num_heads\n",
    "        self.ff_dim = ff_dim\n",
    "        self.num_layers = num_layers\n",
    "        \n",
    "        self.input_norm = layers.BatchNormalization()\n",
    "        self.dense_input = layers.Dense(embed_dim, kernel_regularizer=l2(0.01))\n",
    "        self.input_dropout = layers.Dropout(0.2)\n",
    "        \n",
    "        self.transformer_blocks = [\n",
    "            TransformerBlock(embed_dim, num_heads, ff_dim) for _ in range(num_layers)\n",
    "        ]\n",
    "        \n",
    "        self.global_average_pooling = layers.GlobalAveragePooling1D()\n",
    "        self.dropout1 = layers.Dropout(0.2)\n",
    "        self.dense1 = layers.Dense(128, activation='relu', kernel_regularizer=l2(0.01))\n",
    "        self.dropout2 = layers.Dropout(0.2)\n",
    "        self.dense2 = layers.Dense(num_classes, activation='softmax', kernel_regularizer=l2(0.01))\n",
    "\n",
    "    def get_config(self):\n",
    "        config = super().get_config()\n",
    "        config.update({\n",
    "            \"num_classes\": self.num_classes,\n",
    "            \"embed_dim\": self.embed_dim,\n",
    "            \"num_heads\": self.num_heads,\n",
    "            \"ff_dim\": self.ff_dim,\n",
    "            \"num_layers\": self.num_layers,\n",
    "        })\n",
    "        return config\n",
    "\n",
    "    def call(self, inputs, training=False):\n",
    "        x = self.input_norm(inputs)\n",
    "        x = self.dense_input(x)\n",
    "        x = self.input_dropout(x, training=training)\n",
    "        \n",
    "        for transformer in self.transformer_blocks:\n",
    "            x = transformer(x, training=training)\n",
    "            \n",
    "        x = self.global_average_pooling(x)\n",
    "        x = self.dropout1(x, training=training)\n",
    "        x = self.dense1(x)\n",
    "        x = self.dropout2(x, training=training)\n",
    "        return self.dense2(x)"
   ]
  },
  {
   "cell_type": "code",
   "execution_count": 3,
   "metadata": {},
   "outputs": [],
   "source": [
    "# Cell 3 - Define feature extraction functions\n",
    "def extract_time_domain_features(data):\n",
    "    \"\"\"Extract time domain features from the input data\"\"\"\n",
    "    means = np.mean(data, axis=1)\n",
    "    stds = np.std(data, axis=1)\n",
    "    mins = np.min(data, axis=1)\n",
    "    maxs = np.max(data, axis=1)\n",
    "    percentile_25 = np.percentile(data, 25, axis=1)\n",
    "    percentile_50 = np.percentile(data, 50, axis=1)\n",
    "    percentile_75 = np.percentile(data, 75, axis=1)\n",
    "    \n",
    "    time_features = np.column_stack([\n",
    "        means, stds, mins, maxs,\n",
    "        percentile_25, percentile_50, percentile_75\n",
    "    ])\n",
    "    \n",
    "    return time_features\n",
    "\n",
    "def extract_frequency_domain_features(data):\n",
    "    \"\"\"Extract frequency domain features from the input data\"\"\"\n",
    "    freq_features = np.fft.fft(data, axis=1)\n",
    "    freq_magnitude = np.abs(freq_features)\n",
    "    \n",
    "    dominant_freqs = np.argmax(freq_magnitude, axis=1)\n",
    "    freq_energies = np.sum(freq_magnitude, axis=1)\n",
    "    \n",
    "    freq_features = np.column_stack([dominant_freqs, freq_energies])\n",
    "    \n",
    "    return freq_features\n",
    "\n",
    "def extract_statistical_features(data):\n",
    "    \"\"\"Extract statistical features from the input data\"\"\"\n",
    "    means = np.mean(data, axis=1)\n",
    "    medians = np.median(data, axis=1)\n",
    "    variances = np.var(data, axis=1)\n",
    "    skewness = skew(data, axis=1)\n",
    "    kurtosis_vals = kurtosis(data, axis=1)\n",
    "    \n",
    "    statistical_features = np.column_stack([\n",
    "        means, medians, variances, skewness, kurtosis_vals\n",
    "    ])\n",
    "    \n",
    "    return statistical_features"
   ]
  },
  {
   "cell_type": "code",
   "execution_count": 4,
   "metadata": {},
   "outputs": [],
   "source": [
    "# Cell 4 - Define preprocessing and classification functions\n",
    "def load_and_preprocess_file(file_path, scaler):\n",
    "    \"\"\"\n",
    "    Load and preprocess a single file for classification\n",
    "    \"\"\"\n",
    "    try:\n",
    "        # Read the file\n",
    "        with open(file_path, 'r') as f:\n",
    "            lines = [line.strip() for line in f.readlines() if line.strip()]\n",
    "\n",
    "        # Convert to DataFrame\n",
    "        df = pd.DataFrame([line.split() for line in lines])\n",
    "        \n",
    "        if df.empty:\n",
    "            raise ValueError(f\"File is empty after processing\")\n",
    "\n",
    "        # First row contains total number of rows\n",
    "        total_rows = int(df.iloc[0, 0])\n",
    "        \n",
    "        # Extract feature data\n",
    "        data = df.iloc[1:, :].values\n",
    "        \n",
    "        # Ensure each row has 7 features\n",
    "        reshaped_data = []\n",
    "        for row in data:\n",
    "            if len(row) == 7:\n",
    "                reshaped_data.append(row)\n",
    "        \n",
    "        if not reshaped_data:\n",
    "            raise ValueError(\"No valid data rows found\")\n",
    "        \n",
    "        # Convert to numpy array\n",
    "        reshaped_data = np.array(reshaped_data, dtype=float)\n",
    "        \n",
    "        # Extract features\n",
    "        time_features = extract_time_domain_features(reshaped_data)\n",
    "        freq_features = extract_frequency_domain_features(reshaped_data)\n",
    "        stat_features = extract_statistical_features(reshaped_data)\n",
    "        \n",
    "        # Combine features\n",
    "        combined_features = np.concatenate((time_features, freq_features, stat_features), axis=1)\n",
    "        combined_features = scaler.transform(combined_features)\n",
    "        return combined_features\n",
    "        \n",
    "    except Exception as e:\n",
    "        raise Exception(f\"Error processing file {file_path}: {e}\")\n",
    "\n",
    "def batch_classify_emotions(model_path, scaler_path, directory_path, results_file):\n",
    "    \"\"\"\n",
    "    Batch classify emotions in a directory with progress bar and detailed tracking.\n",
    "    Results are logged in a file and printed in the notebook.\n",
    "    \"\"\"\n",
    "    # Load model and scaler\n",
    "    model = load_model(model_path)\n",
    "    scaler = joblib.load(scaler_path)\n",
    "    \n",
    "    # Define label mapping\n",
    "    label_map = {'0': 'Normal', '1': 'Depression', '2': 'Anxiety', '3': 'Stress'}\n",
    "    class_labels = ['Normal', 'Depression', 'Anxiety', 'Stress']\n",
    "    \n",
    "    # Find all .svc files\n",
    "    file_paths = glob.glob(os.path.join(directory_path, \"*.svc\"))\n",
    "    \n",
    "    if not file_paths:\n",
    "        raise ValueError(\"No .svc files found in the directory\")\n",
    "    \n",
    "    # Prepare dictionaries to store results\n",
    "    base_filename_correct_files = {}\n",
    "    base_filename_all_files = {}\n",
    "    true_labels = []\n",
    "    predicted_labels = []\n",
    "    classification_results = []\n",
    "    \n",
    "    # Clear existing results file\n",
    "    open(results_file, 'w').close()\n",
    "    \n",
    "    # Process files with progress bar\n",
    "    with tqdm(file_paths, desc=\"Classifying Files\", unit=\"file\") as pbar:\n",
    "        for file_path in pbar:\n",
    "            try:\n",
    "                # Extract true label from filename\n",
    "                filename = os.path.basename(file_path)\n",
    "                \n",
    "                # Extract base filename (everything before hw)\n",
    "                base_filename = filename.split('hw')[0]\n",
    "                \n",
    "                # Ensure base filename is in our tracking dictionaries\n",
    "                if base_filename not in base_filename_correct_files:\n",
    "                    base_filename_correct_files[base_filename] = []\n",
    "                if base_filename not in base_filename_all_files:\n",
    "                    base_filename_all_files[base_filename] = []\n",
    "                \n",
    "                label_key = filename[0]\n",
    "                true_label = label_map.get(label_key)\n",
    "                \n",
    "                # Preprocess file\n",
    "                features = load_and_preprocess_file(file_path, scaler)\n",
    "                \n",
    "                # Predict emotions for each row\n",
    "                predictions = model.predict(features)\n",
    "                predicted_classes = np.argmax(predictions, axis=1)\n",
    "                \n",
    "                # Find the most frequent class\n",
    "                unique_classes, class_counts = np.unique(predicted_classes, return_counts=True)\n",
    "                most_frequent_class_index = unique_classes[np.argmax(class_counts)]\n",
    "                final_prediction = class_labels[most_frequent_class_index]\n",
    "                \n",
    "                # Calculate confidence\n",
    "                confidence = (np.max(class_counts) / len(predicted_classes)) * 100\n",
    "                \n",
    "                # Detailed confidence levels\n",
    "                emotion_confidences = [\n",
    "                    (label, float(np.mean(predictions[:, i]) * 100)) \n",
    "                    for i, label in enumerate(class_labels)\n",
    "                ]\n",
    "                emotion_confidences.sort(key=lambda x: x[1], reverse=True)\n",
    "                \n",
    "                # Prepare results string\n",
    "                results_str = f\"{filename}: Predicted Emotion - {final_prediction} | \" + \\\n",
    "                              \"Confidence Levels: \" + \\\n",
    "                              \", \".join([f\"{emotion}: {conf:.2f}%\" for emotion, conf in emotion_confidences])\n",
    "                \n",
    "                # Print classification result\n",
    "                print(results_str)\n",
    "                \n",
    "                # Log results\n",
    "                with open(results_file, 'a') as f:\n",
    "                    f.write(results_str + '\\n')\n",
    "                \n",
    "                # Track classifications\n",
    "                true_labels.append(true_label)\n",
    "                predicted_labels.append(final_prediction)\n",
    "                \n",
    "                # Store classification result\n",
    "                classification_results.append({\n",
    "                    'Filename': filename,\n",
    "                    'True Label': true_label,\n",
    "                    'Predicted Label': final_prediction,\n",
    "                    **{f'{emotion} Confidence': conf for emotion, conf in emotion_confidences}\n",
    "                })\n",
    "                \n",
    "                # Track files for base filename\n",
    "                base_filename_all_files[base_filename].append(filename)\n",
    "                \n",
    "                # If classification is correct, add to correct files\n",
    "                if true_label == final_prediction:\n",
    "                    base_filename_correct_files[base_filename].append(filename)\n",
    "                \n",
    "                # Update progress bar description\n",
    "                pbar.set_description(f\"Classifying {filename}\")\n",
    "                \n",
    "            except Exception as e:\n",
    "                print(f\"Error processing {file_path}: {e}\")\n",
    "                continue\n",
    "    \n",
    "    # Calculate overall accuracy\n",
    "    accuracy = sum(t == p for t, p in zip(true_labels, predicted_labels)) / len(true_labels) * 100\n",
    "    \n",
    "    # Print overall accuracy\n",
    "    print(f\"\\nOverall Classification Accuracy: {accuracy:.2f}%\")\n",
    "    \n",
    "    # Create confusion matrix\n",
    "    cm = confusion_matrix(true_labels, predicted_labels, labels=class_labels)\n",
    "    \n",
    "    # Prepare DataFrame for classification results\n",
    "    df_results = pd.DataFrame(classification_results)\n",
    "    \n",
    "    return df_results, cm, accuracy, true_labels, predicted_labels\n",
    "\n",
    "\n",
    "def create_classification_report(true_labels, predicted_labels, class_labels, output_file):\n",
    "    \"\"\"\n",
    "    Generate a detailed classification report\n",
    "    \"\"\"\n",
    "    report = classification_report(true_labels, predicted_labels, target_names=class_labels)\n",
    "    \n",
    "    # Write report to file\n",
    "    with open(output_file, 'w') as f:\n",
    "        f.write(report)\n",
    "    \n",
    "    print(f\"\\nDetailed Classification Report saved to {output_file}\")\n",
    "    print(report)\n",
    "\n",
    "def classify_emotion(model_path, scaler_path, file_path, results_file):\n",
    "    try:\n",
    "        # Load model and scaler\n",
    "        model = load_model(model_path)\n",
    "        scaler = joblib.load(scaler_path)\n",
    "        \n",
    "        filename = os.path.basename(file_path)\n",
    "        \n",
    "        # Process the input file\n",
    "        features = load_and_preprocess_file(file_path, scaler)\n",
    "        \n",
    "        # Predict emotions for each row\n",
    "        predictions = model.predict(features)\n",
    "        \n",
    "        # Get the predicted class for each row\n",
    "        predicted_classes = np.argmax(predictions, axis=1)\n",
    "        \n",
    "        # Count occurrences of each class\n",
    "        class_labels = ['Normal', 'Depression', 'Anxiety', 'Stress']\n",
    "        unique_classes, class_counts = np.unique(predicted_classes, return_counts=True)\n",
    "        \n",
    "        # Find the most frequent class\n",
    "        most_frequent_class_index = unique_classes[np.argmax(class_counts)]\n",
    "        final_prediction = class_labels[most_frequent_class_index]\n",
    "        \n",
    "        # Calculate confidence as the proportion of rows with this prediction\n",
    "        confidence = (np.max(class_counts) / len(predicted_classes)) * 100\n",
    "        \n",
    "        # Detailed confidence levels\n",
    "        emotion_confidences = [\n",
    "            (label, float(np.mean(predictions[:, i]) * 100)) \n",
    "            for i, label in enumerate(class_labels)\n",
    "        ]\n",
    "        emotion_confidences.sort(key=lambda x: x[1], reverse=True)\n",
    "        \n",
    "        # Prepare results string\n",
    "        results_str = f\"{filename}: Predicted Emotion - {final_prediction} | \" + \\\n",
    "                      \"Confidence Levels: \" + \\\n",
    "                      \", \".join([f\"{emotion}: {conf:.2f}%\" for emotion, conf in emotion_confidences])\n",
    "        \n",
    "        # Print and log results\n",
    "        print(results_str)\n",
    "        with open(results_file, 'a') as f:\n",
    "            f.write(results_str + '\\n')\n",
    "        \n",
    "        return final_prediction, emotion_confidences\n",
    "        \n",
    "    except Exception as e:\n",
    "        error_msg = f\"Error processing {filename}: {e}\"\n",
    "        print(error_msg)\n",
    "        with open(results_file, 'a') as f:\n",
    "            f.write(error_msg + '\\n')\n",
    "        raise\n",
    "\n",
    "def plot_confusion_matrix(cm, class_labels):\n",
    "    \"\"\"\n",
    "    Plot the confusion matrix using seaborn heatmap\n",
    "    \"\"\"\n",
    "    plt.figure(figsize=(10, 8))\n",
    "    sns.heatmap(cm, annot=True, fmt='d', cmap='Blues', \n",
    "                xticklabels=class_labels, \n",
    "                yticklabels=class_labels)\n",
    "    plt.title('Confusion Matrix')\n",
    "    plt.xlabel('Predicted Label')\n",
    "    plt.ylabel('True Label')\n",
    "    plt.tight_layout()\n",
    "    plt.show()"
   ]
  },
  {
   "cell_type": "code",
   "execution_count": null,
   "metadata": {},
   "outputs": [
    {
     "name": "stderr",
     "output_type": "stream",
     "text": [
      "Classifying Files:   0%|          | 0/182 [00:00<?, ?file/s]"
     ]
    },
    {
     "name": "stdout",
     "output_type": "stream",
     "text": [
      "\u001b[1m83/83\u001b[0m \u001b[32m━━━━━━━━━━━━━━━━━━━━\u001b[0m\u001b[37m\u001b[0m \u001b[1m3s\u001b[0m 23ms/step\n"
     ]
    },
    {
     "name": "stderr",
     "output_type": "stream",
     "text": [
      "Classifying 0_u00003s00001hw00001.svc:   1%|          | 1/182 [00:02<08:55,  2.96s/file]"
     ]
    },
    {
     "name": "stdout",
     "output_type": "stream",
     "text": [
      "0_u00003s00001hw00001.svc: Predicted Emotion - Normal | Confidence Levels: Normal: 54.67%, Depression: 28.97%, Anxiety: 16.33%, Stress: 0.03%\n",
      "\u001b[1m178/178\u001b[0m \u001b[32m━━━━━━━━━━━━━━━━━━━━\u001b[0m\u001b[37m\u001b[0m \u001b[1m3s\u001b[0m 16ms/step\n"
     ]
    },
    {
     "name": "stderr",
     "output_type": "stream",
     "text": [
      "Classifying 0_u00003s00001hw00002.svc:   1%|          | 2/182 [00:06<09:42,  3.23s/file]"
     ]
    },
    {
     "name": "stdout",
     "output_type": "stream",
     "text": [
      "0_u00003s00001hw00002.svc: Predicted Emotion - Normal | Confidence Levels: Normal: 48.67%, Anxiety: 27.37%, Depression: 23.79%, Stress: 0.16%\n",
      "\u001b[1m121/121\u001b[0m \u001b[32m━━━━━━━━━━━━━━━━━━━━\u001b[0m\u001b[37m\u001b[0m \u001b[1m2s\u001b[0m 16ms/step\n",
      "0_u00003s00001hw00003.svc: Predicted Emotion - Normal | Confidence Levels: Normal: 45.37%, Anxiety: 30.93%, Depression: 23.69%, Stress: 0.01%\n"
     ]
    },
    {
     "name": "stderr",
     "output_type": "stream",
     "text": [
      "Classifying 0_u00003s00001hw00003.svc:   2%|▏         | 3/182 [00:08<08:21,  2.80s/file]"
     ]
    },
    {
     "name": "stdout",
     "output_type": "stream",
     "text": [
      "\u001b[1m37/37\u001b[0m \u001b[32m━━━━━━━━━━━━━━━━━━━━\u001b[0m\u001b[37m\u001b[0m \u001b[1m1s\u001b[0m 15ms/step\n"
     ]
    },
    {
     "name": "stderr",
     "output_type": "stream",
     "text": [
      "Classifying 0_u00003s00001hw00004.svc:   2%|▏         | 4/182 [00:09<05:57,  2.01s/file]"
     ]
    },
    {
     "name": "stdout",
     "output_type": "stream",
     "text": [
      "0_u00003s00001hw00004.svc: Predicted Emotion - Anxiety | Confidence Levels: Anxiety: 85.58%, Normal: 8.34%, Depression: 6.06%, Stress: 0.01%\n",
      "\u001b[1m25/25\u001b[0m \u001b[32m━━━━━━━━━━━━━━━━━━━━\u001b[0m\u001b[37m\u001b[0m \u001b[1m0s\u001b[0m 15ms/step\n",
      "0_u00003s00001hw00005.svc: Predicted Emotion - Anxiety | Confidence Levels: Anxiety: 82.42%, Normal: 9.96%, Depression: 6.40%, Stress: 1.22%"
     ]
    },
    {
     "name": "stderr",
     "output_type": "stream",
     "text": [
      "Classifying 0_u00003s00001hw00005.svc:   3%|▎         | 5/182 [00:10<04:31,  1.53s/file]"
     ]
    },
    {
     "name": "stdout",
     "output_type": "stream",
     "text": [
      "\n",
      "\u001b[1m127/127\u001b[0m \u001b[32m━━━━━━━━━━━━━━━━━━━━\u001b[0m\u001b[37m\u001b[0m \u001b[1m2s\u001b[0m 13ms/step\n"
     ]
    },
    {
     "name": "stderr",
     "output_type": "stream",
     "text": [
      "Classifying 0_u00003s00001hw00006.svc:   3%|▎         | 6/182 [00:12<05:03,  1.72s/file]"
     ]
    },
    {
     "name": "stdout",
     "output_type": "stream",
     "text": [
      "0_u00003s00001hw00006.svc: Predicted Emotion - Anxiety | Confidence Levels: Anxiety: 55.29%, Depression: 24.63%, Normal: 19.56%, Stress: 0.51%\n",
      "\u001b[1m96/96\u001b[0m \u001b[32m━━━━━━━━━━━━━━━━━━━━\u001b[0m\u001b[37m\u001b[0m \u001b[1m2s\u001b[0m 16ms/step\n"
     ]
    },
    {
     "name": "stderr",
     "output_type": "stream",
     "text": [
      "Classifying 0_u00003s00001hw00007.svc:   4%|▍         | 7/182 [00:14<05:09,  1.77s/file]"
     ]
    },
    {
     "name": "stdout",
     "output_type": "stream",
     "text": [
      "0_u00003s00001hw00007.svc: Predicted Emotion - Anxiety | Confidence Levels: Anxiety: 73.38%, Depression: 13.15%, Normal: 12.58%, Stress: 0.88%\n",
      "\u001b[1m56/56\u001b[0m \u001b[32m━━━━━━━━━━━━━━━━━━━━\u001b[0m\u001b[37m\u001b[0m \u001b[1m1s\u001b[0m 15ms/step\n"
     ]
    },
    {
     "name": "stderr",
     "output_type": "stream",
     "text": [
      "Classifying 0_u00013s00001hw00001.svc:   4%|▍         | 8/182 [00:15<04:31,  1.56s/file]"
     ]
    },
    {
     "name": "stdout",
     "output_type": "stream",
     "text": [
      "0_u00013s00001hw00001.svc: Predicted Emotion - Stress | Confidence Levels: Stress: 77.74%, Anxiety: 17.93%, Normal: 4.14%, Depression: 0.19%\n",
      "\u001b[1m120/120\u001b[0m \u001b[32m━━━━━━━━━━━━━━━━━━━━\u001b[0m\u001b[37m\u001b[0m \u001b[1m2s\u001b[0m 14ms/step\n"
     ]
    },
    {
     "name": "stderr",
     "output_type": "stream",
     "text": [
      "Classifying 0_u00013s00001hw00002.svc:   5%|▍         | 9/182 [00:17<04:57,  1.72s/file]"
     ]
    },
    {
     "name": "stdout",
     "output_type": "stream",
     "text": [
      "0_u00013s00001hw00002.svc: Predicted Emotion - Anxiety | Confidence Levels: Anxiety: 75.54%, Stress: 16.20%, Normal: 7.73%, Depression: 0.53%\n",
      "\u001b[1m120/120\u001b[0m \u001b[32m━━━━━━━━━━━━━━━━━━━━\u001b[0m\u001b[37m\u001b[0m \u001b[1m2s\u001b[0m 15ms/step\n",
      "0_u00013s00001hw00003.svc: Predicted Emotion - Anxiety | Confidence Levels: Anxiety: 90.36%, Normal: 6.76%, Depression: 2.85%, Stress: 0.04%\n"
     ]
    },
    {
     "name": "stderr",
     "output_type": "stream",
     "text": [
      "Classifying 0_u00013s00001hw00003.svc:   5%|▌         | 10/182 [00:19<05:16,  1.84s/file]"
     ]
    },
    {
     "name": "stdout",
     "output_type": "stream",
     "text": [
      "\u001b[1m22/22\u001b[0m \u001b[32m━━━━━━━━━━━━━━━━━━━━\u001b[0m\u001b[37m\u001b[0m \u001b[1m0s\u001b[0m 16ms/step\n",
      "0_u00013s00001hw00004.svc: Predicted Emotion - Anxiety | Confidence Levels: Anxiety: 69.32%, Normal: 19.40%, Depression: 11.25%, Stress: 0.03%"
     ]
    },
    {
     "name": "stderr",
     "output_type": "stream",
     "text": [
      "Classifying 0_u00013s00001hw00004.svc:   6%|▌         | 11/182 [00:19<04:06,  1.44s/file]"
     ]
    },
    {
     "name": "stdout",
     "output_type": "stream",
     "text": [
      "\n",
      "\u001b[1m19/19\u001b[0m \u001b[32m━━━━━━━━━━━━━━━━━━━━\u001b[0m\u001b[37m\u001b[0m \u001b[1m0s\u001b[0m 16ms/step\n"
     ]
    },
    {
     "name": "stderr",
     "output_type": "stream",
     "text": [
      "Classifying 0_u00013s00001hw00005.svc:   7%|▋         | 12/182 [00:20<03:16,  1.16s/file]"
     ]
    },
    {
     "name": "stdout",
     "output_type": "stream",
     "text": [
      "0_u00013s00001hw00005.svc: Predicted Emotion - Anxiety | Confidence Levels: Anxiety: 96.34%, Normal: 2.96%, Depression: 0.61%, Stress: 0.08%\n",
      "\u001b[1m140/140\u001b[0m \u001b[32m━━━━━━━━━━━━━━━━━━━━\u001b[0m\u001b[37m\u001b[0m \u001b[1m2s\u001b[0m 15ms/step\n"
     ]
    },
    {
     "name": "stderr",
     "output_type": "stream",
     "text": [
      "Classifying 0_u00013s00001hw00006.svc:   7%|▋         | 13/182 [00:22<04:18,  1.53s/file]"
     ]
    },
    {
     "name": "stdout",
     "output_type": "stream",
     "text": [
      "0_u00013s00001hw00006.svc: Predicted Emotion - Normal | Confidence Levels: Normal: 36.93%, Depression: 33.88%, Anxiety: 29.19%, Stress: 0.01%\n",
      "\u001b[1m122/122\u001b[0m \u001b[32m━━━━━━━━━━━━━━━━━━━━\u001b[0m\u001b[37m\u001b[0m \u001b[1m2s\u001b[0m 15ms/step\n",
      "0_u00013s00001hw00007.svc: Predicted Emotion - Anxiety | Confidence Levels: Anxiety: 46.80%, Normal: 32.74%, Depression: 20.44%, Stress: 0.02%"
     ]
    },
    {
     "name": "stderr",
     "output_type": "stream",
     "text": [
      "Classifying 0_u00013s00001hw00007.svc:   8%|▊         | 14/182 [00:25<04:53,  1.75s/file]"
     ]
    },
    {
     "name": "stdout",
     "output_type": "stream",
     "text": [
      "\n",
      "\u001b[1m75/75\u001b[0m \u001b[32m━━━━━━━━━━━━━━━━━━━━\u001b[0m\u001b[37m\u001b[0m \u001b[1m1s\u001b[0m 15ms/step\n"
     ]
    },
    {
     "name": "stderr",
     "output_type": "stream",
     "text": [
      "Classifying 0_u00015s00001hw00001.svc:   8%|▊         | 15/182 [00:26<04:31,  1.63s/file]"
     ]
    },
    {
     "name": "stdout",
     "output_type": "stream",
     "text": [
      "0_u00015s00001hw00001.svc: Predicted Emotion - Normal | Confidence Levels: Normal: 51.99%, Depression: 32.49%, Anxiety: 15.51%, Stress: 0.00%\n",
      "\u001b[1m134/134\u001b[0m \u001b[32m━━━━━━━━━━━━━━━━━━━━\u001b[0m\u001b[37m\u001b[0m \u001b[1m2s\u001b[0m 14ms/step\n",
      "0_u00015s00001hw00002.svc: Predicted Emotion - Normal | Confidence Levels: Normal: 48.66%, Anxiety: 27.33%, Depression: 23.98%, Stress: 0.03%\n"
     ]
    },
    {
     "name": "stderr",
     "output_type": "stream",
     "text": [
      "Classifying 0_u00015s00001hw00002.svc:   9%|▉         | 16/182 [00:28<05:00,  1.81s/file]"
     ]
    },
    {
     "name": "stdout",
     "output_type": "stream",
     "text": [
      "\u001b[1m118/118\u001b[0m \u001b[32m━━━━━━━━━━━━━━━━━━━━\u001b[0m\u001b[37m\u001b[0m \u001b[1m2s\u001b[0m 15ms/step\n",
      "0_u00015s00001hw00003.svc: Predicted Emotion - Normal | Confidence Levels: Normal: 53.57%, Anxiety: 23.60%, Depression: 22.79%, Stress: 0.04%\n"
     ]
    },
    {
     "name": "stderr",
     "output_type": "stream",
     "text": [
      "Classifying 0_u00015s00001hw00003.svc:   9%|▉         | 17/182 [00:30<05:15,  1.91s/file]"
     ]
    },
    {
     "name": "stdout",
     "output_type": "stream",
     "text": [
      "\u001b[1m27/27\u001b[0m \u001b[32m━━━━━━━━━━━━━━━━━━━━\u001b[0m\u001b[37m\u001b[0m \u001b[1m0s\u001b[0m 15ms/step\n",
      "0_u00015s00001hw00004.svc: Predicted Emotion - Depression | Confidence Levels: Depression: 48.81%, Anxiety: 29.75%, Normal: 21.42%, Stress: 0.02%\n"
     ]
    },
    {
     "name": "stderr",
     "output_type": "stream",
     "text": [
      "Classifying 0_u00015s00001hw00004.svc:  10%|▉         | 18/182 [00:31<04:08,  1.51s/file]"
     ]
    },
    {
     "name": "stdout",
     "output_type": "stream",
     "text": [
      "\u001b[1m38/38\u001b[0m \u001b[32m━━━━━━━━━━━━━━━━━━━━\u001b[0m\u001b[37m\u001b[0m \u001b[1m1s\u001b[0m 16ms/step\n"
     ]
    },
    {
     "name": "stderr",
     "output_type": "stream",
     "text": [
      "Classifying 0_u00015s00001hw00005.svc:  10%|█         | 19/182 [00:32<03:32,  1.30s/file]"
     ]
    },
    {
     "name": "stdout",
     "output_type": "stream",
     "text": [
      "0_u00015s00001hw00005.svc: Predicted Emotion - Anxiety | Confidence Levels: Anxiety: 81.79%, Normal: 11.62%, Depression: 6.08%, Stress: 0.51%\n",
      "\u001b[1m89/89\u001b[0m \u001b[32m━━━━━━━━━━━━━━━━━━━━\u001b[0m\u001b[37m\u001b[0m \u001b[1m1s\u001b[0m 13ms/step\n"
     ]
    },
    {
     "name": "stderr",
     "output_type": "stream",
     "text": [
      "Classifying 0_u00015s00001hw00006.svc:  10%|█         | 19/182 [00:33<03:32,  1.30s/file]"
     ]
    },
    {
     "name": "stdout",
     "output_type": "stream",
     "text": [
      "0_u00015s00001hw00006.svc: Predicted Emotion - Anxiety | Confidence Levels: Anxiety: 73.75%, Normal: 14.55%, Depression: 11.13%, Stress: 0.56%\n"
     ]
    },
    {
     "name": "stderr",
     "output_type": "stream",
     "text": [
      "Classifying 0_u00015s00001hw00006.svc:  11%|█         | 20/182 [00:33<03:39,  1.36s/file]"
     ]
    },
    {
     "name": "stdout",
     "output_type": "stream",
     "text": [
      "\u001b[1m99/99\u001b[0m \u001b[32m━━━━━━━━━━━━━━━━━━━━\u001b[0m\u001b[37m\u001b[0m \u001b[1m2s\u001b[0m 16ms/step\n"
     ]
    },
    {
     "name": "stderr",
     "output_type": "stream",
     "text": [
      "Classifying 0_u00015s00001hw00007.svc:  12%|█▏        | 21/182 [00:35<04:06,  1.53s/file]"
     ]
    },
    {
     "name": "stdout",
     "output_type": "stream",
     "text": [
      "0_u00015s00001hw00007.svc: Predicted Emotion - Anxiety | Confidence Levels: Anxiety: 55.84%, Normal: 25.29%, Depression: 13.67%, Stress: 5.21%\n",
      "\u001b[1m100/100\u001b[0m \u001b[32m━━━━━━━━━━━━━━━━━━━━\u001b[0m\u001b[37m\u001b[0m \u001b[1m2s\u001b[0m 16ms/step\n"
     ]
    },
    {
     "name": "stderr",
     "output_type": "stream",
     "text": [
      "Classifying 0_u00027s00001hw00001.svc:  12%|█▏        | 22/182 [00:37<04:24,  1.65s/file]"
     ]
    },
    {
     "name": "stdout",
     "output_type": "stream",
     "text": [
      "0_u00027s00001hw00001.svc: Predicted Emotion - Normal | Confidence Levels: Normal: 53.68%, Depression: 34.66%, Anxiety: 11.65%, Stress: 0.01%\n",
      "\u001b[1m115/115\u001b[0m \u001b[32m━━━━━━━━━━━━━━━━━━━━\u001b[0m\u001b[37m\u001b[0m \u001b[1m2s\u001b[0m 14ms/step\n",
      "0_u00027s00001hw00002.svc: Predicted Emotion - Normal | Confidence Levels: Normal: 53.37%, Depression: 35.26%, Anxiety: 11.21%, Stress: 0.17%\n"
     ]
    },
    {
     "name": "stderr",
     "output_type": "stream",
     "text": [
      "Classifying 0_u00027s00001hw00002.svc:  13%|█▎        | 23/182 [00:39<04:35,  1.73s/file]"
     ]
    },
    {
     "name": "stdout",
     "output_type": "stream",
     "text": [
      "\u001b[1m137/137\u001b[0m \u001b[32m━━━━━━━━━━━━━━━━━━━━\u001b[0m\u001b[37m\u001b[0m \u001b[1m2s\u001b[0m 14ms/step\n",
      "0_u00027s00001hw00003.svc: Predicted Emotion - Normal | Confidence Levels: Normal: 57.25%, Depression: 31.80%, Anxiety: 10.84%, Stress: 0.11%"
     ]
    },
    {
     "name": "stderr",
     "output_type": "stream",
     "text": [
      "Classifying 0_u00027s00001hw00003.svc:  13%|█▎        | 24/182 [00:41<05:05,  1.93s/file]"
     ]
    },
    {
     "name": "stdout",
     "output_type": "stream",
     "text": [
      "\n",
      "\u001b[1m24/24\u001b[0m \u001b[32m━━━━━━━━━━━━━━━━━━━━\u001b[0m\u001b[37m\u001b[0m \u001b[1m0s\u001b[0m 19ms/step\n"
     ]
    },
    {
     "name": "stderr",
     "output_type": "stream",
     "text": [
      "Classifying 0_u00027s00001hw00004.svc:  14%|█▎        | 25/182 [00:42<04:03,  1.55s/file]"
     ]
    },
    {
     "name": "stdout",
     "output_type": "stream",
     "text": [
      "0_u00027s00001hw00004.svc: Predicted Emotion - Depression | Confidence Levels: Depression: 79.64%, Normal: 17.87%, Anxiety: 2.48%, Stress: 0.00%\n",
      "\u001b[1m25/25\u001b[0m \u001b[32m━━━━━━━━━━━━━━━━━━━━\u001b[0m\u001b[37m\u001b[0m \u001b[1m0s\u001b[0m 16ms/step\n"
     ]
    },
    {
     "name": "stderr",
     "output_type": "stream",
     "text": [
      "Classifying 0_u00027s00001hw00005.svc:  14%|█▍        | 26/182 [00:43<03:16,  1.26s/file]"
     ]
    },
    {
     "name": "stdout",
     "output_type": "stream",
     "text": [
      "0_u00027s00001hw00005.svc: Predicted Emotion - Anxiety | Confidence Levels: Anxiety: 59.43%, Normal: 21.41%, Depression: 13.49%, Stress: 5.68%\n",
      "\u001b[1m98/98\u001b[0m \u001b[32m━━━━━━━━━━━━━━━━━━━━\u001b[0m\u001b[37m\u001b[0m \u001b[1m1s\u001b[0m 14ms/step\n",
      "0_u00027s00001hw00006.svc: Predicted Emotion - Anxiety | Confidence Levels: Anxiety: 46.48%, Depression: 25.98%, Normal: 24.78%, Stress: 2.76%\n"
     ]
    },
    {
     "name": "stderr",
     "output_type": "stream",
     "text": [
      "Classifying 0_u00027s00001hw00006.svc:  15%|█▍        | 27/182 [00:44<03:36,  1.39s/file]"
     ]
    },
    {
     "name": "stdout",
     "output_type": "stream",
     "text": [
      "\u001b[1m93/93\u001b[0m \u001b[32m━━━━━━━━━━━━━━━━━━━━\u001b[0m\u001b[37m\u001b[0m \u001b[1m2s\u001b[0m 15ms/step\n"
     ]
    },
    {
     "name": "stderr",
     "output_type": "stream",
     "text": [
      "Classifying 0_u00027s00001hw00007.svc:  15%|█▌        | 28/182 [00:48<05:13,  2.04s/file]"
     ]
    },
    {
     "name": "stdout",
     "output_type": "stream",
     "text": [
      "0_u00027s00001hw00007.svc: Predicted Emotion - Anxiety | Confidence Levels: Anxiety: 31.89%, Depression: 29.40%, Normal: 29.25%, Stress: 9.46%\n",
      "\u001b[1m54/54\u001b[0m \u001b[32m━━━━━━━━━━━━━━━━━━━━\u001b[0m\u001b[37m\u001b[0m \u001b[1m1s\u001b[0m 16ms/step\n",
      "0_u00035s00001hw00001.svc: Predicted Emotion - Stress | Confidence Levels: Stress: 92.02%, Normal: 7.26%, Depression: 0.55%, Anxiety: 0.17%\n"
     ]
    },
    {
     "name": "stderr",
     "output_type": "stream",
     "text": [
      "Classifying 0_u00035s00001hw00001.svc:  16%|█▌        | 29/182 [00:49<04:29,  1.76s/file]"
     ]
    },
    {
     "name": "stdout",
     "output_type": "stream",
     "text": [
      "\u001b[1m96/96\u001b[0m \u001b[32m━━━━━━━━━━━━━━━━━━━━\u001b[0m\u001b[37m\u001b[0m \u001b[1m1s\u001b[0m 15ms/step\n"
     ]
    },
    {
     "name": "stderr",
     "output_type": "stream",
     "text": [
      "Classifying 0_u00035s00001hw00002.svc:  16%|█▋        | 30/182 [00:51<04:26,  1.75s/file]"
     ]
    },
    {
     "name": "stdout",
     "output_type": "stream",
     "text": [
      "0_u00035s00001hw00002.svc: Predicted Emotion - Stress | Confidence Levels: Stress: 97.75%, Normal: 2.04%, Anxiety: 0.17%, Depression: 0.03%\n",
      "\u001b[1m105/105\u001b[0m \u001b[32m━━━━━━━━━━━━━━━━━━━━\u001b[0m\u001b[37m\u001b[0m \u001b[1m2s\u001b[0m 16ms/step\n"
     ]
    },
    {
     "name": "stderr",
     "output_type": "stream",
     "text": [
      "Classifying 0_u00035s00001hw00003.svc:  17%|█▋        | 31/182 [00:53<04:36,  1.83s/file]"
     ]
    },
    {
     "name": "stdout",
     "output_type": "stream",
     "text": [
      "0_u00035s00001hw00003.svc: Predicted Emotion - Stress | Confidence Levels: Stress: 53.86%, Anxiety: 37.33%, Normal: 8.36%, Depression: 0.44%\n",
      "\u001b[1m11/11\u001b[0m \u001b[32m━━━━━━━━━━━━━━━━━━━━\u001b[0m\u001b[37m\u001b[0m \u001b[1m0s\u001b[0m 15ms/step\n",
      "0_u00035s00001hw00004.svc: Predicted Emotion - Normal | Confidence Levels: Normal: 72.11%, Depression: 14.49%, Anxiety: 13.39%, Stress: 0.00%\n"
     ]
    },
    {
     "name": "stderr",
     "output_type": "stream",
     "text": [
      "Classifying 0_u00035s00001hw00004.svc:  18%|█▊        | 32/182 [00:53<03:27,  1.38s/file]"
     ]
    },
    {
     "name": "stdout",
     "output_type": "stream",
     "text": [
      "\u001b[1m15/15\u001b[0m \u001b[32m━━━━━━━━━━━━━━━━━━━━\u001b[0m\u001b[37m\u001b[0m \u001b[1m0s\u001b[0m 17ms/step\n"
     ]
    },
    {
     "name": "stderr",
     "output_type": "stream",
     "text": [
      "Classifying 0_u00035s00001hw00005.svc:  18%|█▊        | 33/182 [00:54<02:45,  1.11s/file]"
     ]
    },
    {
     "name": "stdout",
     "output_type": "stream",
     "text": [
      "0_u00035s00001hw00005.svc: Predicted Emotion - Anxiety | Confidence Levels: Anxiety: 64.41%, Normal: 18.06%, Stress: 16.72%, Depression: 0.81%\n",
      "\u001b[1m60/60\u001b[0m \u001b[32m━━━━━━━━━━━━━━━━━━━━\u001b[0m\u001b[37m\u001b[0m \u001b[1m1s\u001b[0m 15ms/step\n",
      "0_u00035s00001hw00006.svc: Predicted Emotion - Anxiety | Confidence Levels: Anxiety: 46.04%, Normal: 39.05%, Depression: 14.87%, Stress: 0.05%\n"
     ]
    },
    {
     "name": "stderr",
     "output_type": "stream",
     "text": [
      "Classifying 0_u00035s00001hw00006.svc:  19%|█▊        | 34/182 [00:55<02:52,  1.17s/file]"
     ]
    },
    {
     "name": "stdout",
     "output_type": "stream",
     "text": [
      "\u001b[1m132/132\u001b[0m \u001b[32m━━━━━━━━━━━━━━━━━━━━\u001b[0m\u001b[37m\u001b[0m \u001b[1m2s\u001b[0m 14ms/step\n"
     ]
    },
    {
     "name": "stderr",
     "output_type": "stream",
     "text": [
      "Classifying 0_u00035s00001hw00007.svc:  19%|█▉        | 35/182 [00:57<03:41,  1.50s/file]"
     ]
    },
    {
     "name": "stdout",
     "output_type": "stream",
     "text": [
      "0_u00035s00001hw00007.svc: Predicted Emotion - Normal | Confidence Levels: Anxiety: 42.26%, Normal: 40.83%, Depression: 16.68%, Stress: 0.23%\n",
      "\u001b[1m61/61\u001b[0m \u001b[32m━━━━━━━━━━━━━━━━━━━━\u001b[0m\u001b[37m\u001b[0m \u001b[1m1s\u001b[0m 16ms/step\n",
      "0_u00040s00001hw00001.svc: Predicted Emotion - Stress | Confidence Levels: Stress: 97.26%, Normal: 2.31%, Depression: 0.42%, Anxiety: 0.01%"
     ]
    },
    {
     "name": "stderr",
     "output_type": "stream",
     "text": [
      "Classifying 0_u00040s00001hw00001.svc:  20%|█▉        | 36/182 [00:59<03:35,  1.48s/file]"
     ]
    },
    {
     "name": "stdout",
     "output_type": "stream",
     "text": [
      "\n",
      "\u001b[1m86/86\u001b[0m \u001b[32m━━━━━━━━━━━━━━━━━━━━\u001b[0m\u001b[37m\u001b[0m \u001b[1m1s\u001b[0m 13ms/step\n",
      "0_u00040s00001hw00002.svc: Predicted Emotion - Stress | Confidence Levels: Stress: 73.36%, Normal: 26.56%, Depression: 0.05%, Anxiety: 0.03%\n"
     ]
    },
    {
     "name": "stderr",
     "output_type": "stream",
     "text": [
      "Classifying 0_u00040s00001hw00002.svc:  20%|██        | 37/182 [01:00<03:37,  1.50s/file]"
     ]
    },
    {
     "name": "stdout",
     "output_type": "stream",
     "text": [
      "\u001b[1m97/97\u001b[0m \u001b[32m━━━━━━━━━━━━━━━━━━━━\u001b[0m\u001b[37m\u001b[0m \u001b[1m1s\u001b[0m 14ms/step\n",
      "0_u00040s00001hw00003.svc: Predicted Emotion - Normal | Confidence Levels: Normal: 77.27%, Stress: 21.82%, Anxiety: 0.70%, Depression: 0.21%\n"
     ]
    },
    {
     "name": "stderr",
     "output_type": "stream",
     "text": [
      "Classifying 0_u00040s00001hw00003.svc:  21%|██        | 38/182 [01:02<03:43,  1.55s/file]"
     ]
    },
    {
     "name": "stdout",
     "output_type": "stream",
     "text": [
      "\u001b[1m26/26\u001b[0m \u001b[32m━━━━━━━━━━━━━━━━━━━━\u001b[0m\u001b[37m\u001b[0m \u001b[1m0s\u001b[0m 15ms/step\n",
      "0_u00040s00001hw00004.svc: Predicted Emotion - Normal | Confidence Levels: Normal: 84.20%, Anxiety: 11.97%, Depression: 3.77%, Stress: 0.06%\n"
     ]
    },
    {
     "name": "stderr",
     "output_type": "stream",
     "text": [
      "Classifying 0_u00040s00001hw00004.svc:  21%|██▏       | 39/182 [01:02<03:01,  1.27s/file]"
     ]
    },
    {
     "name": "stdout",
     "output_type": "stream",
     "text": [
      "\u001b[1m20/20\u001b[0m \u001b[32m━━━━━━━━━━━━━━━━━━━━\u001b[0m\u001b[37m\u001b[0m \u001b[1m0s\u001b[0m 19ms/step\n",
      "0_u00040s00001hw00005.svc: Predicted Emotion - Stress | Confidence Levels: Stress: 62.16%, Anxiety: 21.71%, Normal: 15.65%, Depression: 0.47%"
     ]
    },
    {
     "name": "stderr",
     "output_type": "stream",
     "text": [
      "Classifying 0_u00040s00001hw00005.svc:  22%|██▏       | 40/182 [01:03<02:31,  1.07s/file]"
     ]
    },
    {
     "name": "stdout",
     "output_type": "stream",
     "text": [
      "\n",
      "\u001b[1m75/75\u001b[0m \u001b[32m━━━━━━━━━━━━━━━━━━━━\u001b[0m\u001b[37m\u001b[0m \u001b[1m1s\u001b[0m 14ms/step\n",
      "0_u00040s00001hw00006.svc: Predicted Emotion - Normal | Confidence Levels: Normal: 58.93%, Depression: 27.42%, Anxiety: 13.64%, Stress: 0.01%"
     ]
    },
    {
     "name": "stderr",
     "output_type": "stream",
     "text": [
      "Classifying 0_u00040s00001hw00006.svc:  23%|██▎       | 41/182 [01:04<02:43,  1.16s/file]"
     ]
    },
    {
     "name": "stdout",
     "output_type": "stream",
     "text": [
      "\n",
      "\u001b[1m77/77\u001b[0m \u001b[32m━━━━━━━━━━━━━━━━━━━━\u001b[0m\u001b[37m\u001b[0m \u001b[1m1s\u001b[0m 15ms/step\n",
      "0_u00040s00001hw00007.svc: Predicted Emotion - Normal | Confidence Levels: Normal: 71.01%, Depression: 17.45%, Anxiety: 11.52%, Stress: 0.01%"
     ]
    },
    {
     "name": "stderr",
     "output_type": "stream",
     "text": [
      "Classifying 0_u00040s00001hw00007.svc:  23%|██▎       | 42/182 [01:06<02:54,  1.25s/file]"
     ]
    },
    {
     "name": "stdout",
     "output_type": "stream",
     "text": [
      "\n",
      "\u001b[1m81/81\u001b[0m \u001b[32m━━━━━━━━━━━━━━━━━━━━\u001b[0m\u001b[37m\u001b[0m \u001b[1m1s\u001b[0m 13ms/step\n"
     ]
    },
    {
     "name": "stderr",
     "output_type": "stream",
     "text": [
      "Classifying 0_u00044s00001hw00001.svc:  24%|██▎       | 43/182 [01:07<02:58,  1.28s/file]"
     ]
    },
    {
     "name": "stdout",
     "output_type": "stream",
     "text": [
      "0_u00044s00001hw00001.svc: Predicted Emotion - Normal | Confidence Levels: Normal: 42.97%, Anxiety: 36.52%, Depression: 20.51%, Stress: 0.00%\n",
      "\u001b[1m154/154\u001b[0m \u001b[32m━━━━━━━━━━━━━━━━━━━━\u001b[0m\u001b[37m\u001b[0m \u001b[1m2s\u001b[0m 15ms/step\n"
     ]
    },
    {
     "name": "stderr",
     "output_type": "stream",
     "text": [
      "Classifying 0_u00044s00001hw00002.svc:  24%|██▍       | 44/182 [01:10<03:55,  1.71s/file]"
     ]
    },
    {
     "name": "stdout",
     "output_type": "stream",
     "text": [
      "0_u00044s00001hw00002.svc: Predicted Emotion - Anxiety | Confidence Levels: Anxiety: 65.97%, Normal: 21.77%, Depression: 12.26%, Stress: 0.01%\n",
      "\u001b[1m87/87\u001b[0m \u001b[32m━━━━━━━━━━━━━━━━━━━━\u001b[0m\u001b[37m\u001b[0m \u001b[1m1s\u001b[0m 15ms/step\n"
     ]
    },
    {
     "name": "stderr",
     "output_type": "stream",
     "text": [
      "Classifying 0_u00044s00001hw00003.svc:  25%|██▍       | 45/182 [01:11<03:48,  1.67s/file]"
     ]
    },
    {
     "name": "stdout",
     "output_type": "stream",
     "text": [
      "0_u00044s00001hw00003.svc: Predicted Emotion - Anxiety | Confidence Levels: Anxiety: 71.64%, Normal: 22.00%, Depression: 6.33%, Stress: 0.02%\n",
      "\u001b[1m8/8\u001b[0m \u001b[32m━━━━━━━━━━━━━━━━━━━━\u001b[0m\u001b[37m\u001b[0m \u001b[1m0s\u001b[0m 13ms/step\n"
     ]
    },
    {
     "name": "stderr",
     "output_type": "stream",
     "text": [
      "Classifying 0_u00044s00001hw00004.svc:  25%|██▌       | 46/182 [01:12<02:50,  1.25s/file]"
     ]
    },
    {
     "name": "stdout",
     "output_type": "stream",
     "text": [
      "0_u00044s00001hw00004.svc: Predicted Emotion - Depression | Confidence Levels: Depression: 84.71%, Normal: 13.74%, Anxiety: 1.55%, Stress: 0.00%\n",
      "\u001b[1m10/10\u001b[0m \u001b[32m━━━━━━━━━━━━━━━━━━━━\u001b[0m\u001b[37m\u001b[0m \u001b[1m0s\u001b[0m 17ms/step\n"
     ]
    },
    {
     "name": "stderr",
     "output_type": "stream",
     "text": [
      "Classifying 0_u00044s00001hw00005.svc:  26%|██▌       | 47/182 [01:12<02:14,  1.01file/s]"
     ]
    },
    {
     "name": "stdout",
     "output_type": "stream",
     "text": [
      "0_u00044s00001hw00005.svc: Predicted Emotion - Anxiety | Confidence Levels: Anxiety: 97.74%, Normal: 1.71%, Depression: 0.52%, Stress: 0.02%\n",
      "\u001b[1m67/67\u001b[0m \u001b[32m━━━━━━━━━━━━━━━━━━━━\u001b[0m\u001b[37m\u001b[0m \u001b[1m1s\u001b[0m 14ms/step\n",
      "0_u00044s00001hw00006.svc: Predicted Emotion - Anxiety | Confidence Levels: Anxiety: 90.06%, Normal: 5.26%, Depression: 4.66%, Stress: 0.02%"
     ]
    },
    {
     "name": "stderr",
     "output_type": "stream",
     "text": [
      "Classifying 0_u00044s00001hw00006.svc:  26%|██▋       | 48/182 [01:13<02:19,  1.04s/file]"
     ]
    },
    {
     "name": "stdout",
     "output_type": "stream",
     "text": [
      "\n",
      "\u001b[1m75/75\u001b[0m \u001b[32m━━━━━━━━━━━━━━━━━━━━\u001b[0m\u001b[37m\u001b[0m \u001b[1m1s\u001b[0m 15ms/step\n",
      "0_u00044s00001hw00007.svc: Predicted Emotion - Anxiety | Confidence Levels: Anxiety: 92.61%, Normal: 3.91%, Depression: 1.84%, Stress: 1.64%\n"
     ]
    },
    {
     "name": "stderr",
     "output_type": "stream",
     "text": [
      "Classifying 0_u00044s00001hw00007.svc:  27%|██▋       | 49/182 [01:15<02:36,  1.18s/file]"
     ]
    },
    {
     "name": "stdout",
     "output_type": "stream",
     "text": [
      "\u001b[1m65/65\u001b[0m \u001b[32m━━━━━━━━━━━━━━━━━━━━\u001b[0m\u001b[37m\u001b[0m \u001b[1m1s\u001b[0m 14ms/step\n"
     ]
    },
    {
     "name": "stderr",
     "output_type": "stream",
     "text": [
      "Classifying 1_u00010s00001hw00001.svc:  27%|██▋       | 50/182 [01:16<02:36,  1.19s/file]"
     ]
    },
    {
     "name": "stdout",
     "output_type": "stream",
     "text": [
      "1_u00010s00001hw00001.svc: Predicted Emotion - Depression | Confidence Levels: Depression: 72.67%, Stress: 27.33%, Normal: 0.00%, Anxiety: 0.00%\n",
      "\u001b[1m96/96\u001b[0m \u001b[32m━━━━━━━━━━━━━━━━━━━━\u001b[0m\u001b[37m\u001b[0m \u001b[1m1s\u001b[0m 13ms/step\n"
     ]
    },
    {
     "name": "stderr",
     "output_type": "stream",
     "text": [
      "Classifying 1_u00010s00001hw00002.svc:  28%|██▊       | 51/182 [01:18<02:53,  1.32s/file]"
     ]
    },
    {
     "name": "stdout",
     "output_type": "stream",
     "text": [
      "1_u00010s00001hw00002.svc: Predicted Emotion - Depression | Confidence Levels: Depression: 85.54%, Stress: 14.46%, Normal: 0.00%, Anxiety: 0.00%\n",
      "\u001b[1m99/99\u001b[0m \u001b[32m━━━━━━━━━━━━━━━━━━━━\u001b[0m\u001b[37m\u001b[0m \u001b[1m1s\u001b[0m 14ms/step\n"
     ]
    },
    {
     "name": "stderr",
     "output_type": "stream",
     "text": [
      "Classifying 1_u00010s00001hw00003.svc:  29%|██▊       | 52/182 [01:19<03:09,  1.45s/file]"
     ]
    },
    {
     "name": "stdout",
     "output_type": "stream",
     "text": [
      "1_u00010s00001hw00003.svc: Predicted Emotion - Depression | Confidence Levels: Depression: 84.39%, Stress: 15.61%, Normal: 0.00%, Anxiety: 0.00%\n",
      "\u001b[1m47/47\u001b[0m \u001b[32m━━━━━━━━━━━━━━━━━━━━\u001b[0m\u001b[37m\u001b[0m \u001b[1m1s\u001b[0m 14ms/step\n"
     ]
    },
    {
     "name": "stderr",
     "output_type": "stream",
     "text": [
      "Classifying 1_u00010s00001hw00004.svc:  29%|██▉       | 53/182 [01:20<02:51,  1.33s/file]"
     ]
    },
    {
     "name": "stdout",
     "output_type": "stream",
     "text": [
      "1_u00010s00001hw00004.svc: Predicted Emotion - Depression | Confidence Levels: Depression: 64.73%, Stress: 35.16%, Anxiety: 0.08%, Normal: 0.02%\n",
      "\u001b[1m23/23\u001b[0m \u001b[32m━━━━━━━━━━━━━━━━━━━━\u001b[0m\u001b[37m\u001b[0m \u001b[1m0s\u001b[0m 15ms/step\n"
     ]
    },
    {
     "name": "stderr",
     "output_type": "stream",
     "text": [
      "Classifying 1_u00010s00001hw00005.svc:  30%|██▉       | 54/182 [01:21<02:21,  1.11s/file]"
     ]
    },
    {
     "name": "stdout",
     "output_type": "stream",
     "text": [
      "1_u00010s00001hw00005.svc: Predicted Emotion - Depression | Confidence Levels: Depression: 89.42%, Stress: 10.58%, Normal: 0.00%, Anxiety: 0.00%\n",
      "\u001b[1m81/81\u001b[0m \u001b[32m━━━━━━━━━━━━━━━━━━━━\u001b[0m\u001b[37m\u001b[0m \u001b[1m1s\u001b[0m 15ms/step\n",
      "1_u00010s00001hw00006.svc: Predicted Emotion - Depression | Confidence Levels: Depression: 84.92%, Stress: 15.08%, Normal: 0.00%, Anxiety: 0.00%\n"
     ]
    },
    {
     "name": "stderr",
     "output_type": "stream",
     "text": [
      "Classifying 1_u00010s00001hw00006.svc:  30%|███       | 55/182 [01:22<02:35,  1.23s/file]"
     ]
    },
    {
     "name": "stdout",
     "output_type": "stream",
     "text": [
      "\u001b[1m77/77\u001b[0m \u001b[32m━━━━━━━━━━━━━━━━━━━━\u001b[0m\u001b[37m\u001b[0m \u001b[1m1s\u001b[0m 14ms/step\n",
      "1_u00010s00001hw00007.svc: Predicted Emotion - Depression | Confidence Levels: Depression: 89.31%, Stress: 10.69%, Normal: 0.00%, Anxiety: 0.00%\n"
     ]
    },
    {
     "name": "stderr",
     "output_type": "stream",
     "text": [
      "Classifying 1_u00010s00001hw00007.svc:  31%|███       | 56/182 [01:24<02:39,  1.26s/file]"
     ]
    },
    {
     "name": "stdout",
     "output_type": "stream",
     "text": [
      "\u001b[1m80/80\u001b[0m \u001b[32m━━━━━━━━━━━━━━━━━━━━\u001b[0m\u001b[37m\u001b[0m \u001b[1m1s\u001b[0m 15ms/step\n"
     ]
    },
    {
     "name": "stderr",
     "output_type": "stream",
     "text": [
      "Classifying 1_u00011s00001hw00001.svc:  31%|███▏      | 57/182 [01:25<02:45,  1.33s/file]"
     ]
    },
    {
     "name": "stdout",
     "output_type": "stream",
     "text": [
      "1_u00011s00001hw00001.svc: Predicted Emotion - Stress | Confidence Levels: Stress: 84.10%, Depression: 15.90%, Normal: 0.00%, Anxiety: 0.00%\n",
      "\u001b[1m97/97\u001b[0m \u001b[32m━━━━━━━━━━━━━━━━━━━━\u001b[0m\u001b[37m\u001b[0m \u001b[1m1s\u001b[0m 14ms/step\n"
     ]
    },
    {
     "name": "stderr",
     "output_type": "stream",
     "text": [
      "Classifying 1_u00011s00001hw00002.svc:  32%|███▏      | 58/182 [01:27<02:56,  1.42s/file]"
     ]
    },
    {
     "name": "stdout",
     "output_type": "stream",
     "text": [
      "1_u00011s00001hw00002.svc: Predicted Emotion - Stress | Confidence Levels: Stress: 80.11%, Depression: 19.89%, Normal: 0.00%, Anxiety: 0.00%\n",
      "\u001b[1m103/103\u001b[0m \u001b[32m━━━━━━━━━━━━━━━━━━━━\u001b[0m\u001b[37m\u001b[0m \u001b[1m2s\u001b[0m 15ms/step\n"
     ]
    },
    {
     "name": "stderr",
     "output_type": "stream",
     "text": [
      "Classifying 1_u00011s00001hw00003.svc:  32%|███▏      | 59/182 [01:29<03:10,  1.55s/file]"
     ]
    },
    {
     "name": "stdout",
     "output_type": "stream",
     "text": [
      "1_u00011s00001hw00003.svc: Predicted Emotion - Stress | Confidence Levels: Stress: 74.65%, Depression: 25.35%, Normal: 0.00%, Anxiety: 0.00%\n",
      "\u001b[1m46/46\u001b[0m \u001b[32m━━━━━━━━━━━━━━━━━━━━\u001b[0m\u001b[37m\u001b[0m \u001b[1m1s\u001b[0m 14ms/step\n"
     ]
    },
    {
     "name": "stderr",
     "output_type": "stream",
     "text": [
      "Classifying 1_u00011s00001hw00004.svc:  32%|███▏      | 59/182 [01:30<03:10,  1.55s/file]"
     ]
    },
    {
     "name": "stdout",
     "output_type": "stream",
     "text": [
      "1_u00011s00001hw00004.svc: Predicted Emotion - Stress | Confidence Levels: Stress: 66.25%, Depression: 33.06%, Anxiety: 0.43%, Normal: 0.26%\n"
     ]
    },
    {
     "name": "stderr",
     "output_type": "stream",
     "text": [
      "Classifying 1_u00011s00001hw00004.svc:  33%|███▎      | 60/182 [01:30<02:44,  1.35s/file]"
     ]
    },
    {
     "name": "stdout",
     "output_type": "stream",
     "text": [
      "\u001b[1m25/25\u001b[0m \u001b[32m━━━━━━━━━━━━━━━━━━━━\u001b[0m\u001b[37m\u001b[0m \u001b[1m0s\u001b[0m 18ms/step\n",
      "1_u00011s00001hw00005.svc: Predicted Emotion - Stress | Confidence Levels: Stress: 64.45%, Depression: 35.53%, Normal: 0.02%, Anxiety: 0.00%"
     ]
    },
    {
     "name": "stderr",
     "output_type": "stream",
     "text": [
      "Classifying 1_u00011s00001hw00005.svc:  34%|███▎      | 61/182 [01:30<02:17,  1.14s/file]"
     ]
    },
    {
     "name": "stdout",
     "output_type": "stream",
     "text": [
      "\n",
      "\u001b[1m51/51\u001b[0m \u001b[32m━━━━━━━━━━━━━━━━━━━━\u001b[0m\u001b[37m\u001b[0m \u001b[1m1s\u001b[0m 16ms/step\n",
      "1_u00011s00001hw00006.svc: Predicted Emotion - Stress | Confidence Levels: Stress: 76.52%, Depression: 23.48%, Normal: 0.01%, Anxiety: 0.00%"
     ]
    },
    {
     "name": "stderr",
     "output_type": "stream",
     "text": [
      "Classifying 1_u00011s00001hw00006.svc:  34%|███▍      | 62/182 [01:31<02:13,  1.11s/file]"
     ]
    },
    {
     "name": "stdout",
     "output_type": "stream",
     "text": [
      "\n",
      "\u001b[1m82/82\u001b[0m \u001b[32m━━━━━━━━━━━━━━━━━━━━\u001b[0m\u001b[37m\u001b[0m \u001b[1m1s\u001b[0m 14ms/step\n"
     ]
    },
    {
     "name": "stderr",
     "output_type": "stream",
     "text": [
      "Classifying 1_u00011s00001hw00007.svc:  35%|███▍      | 63/182 [01:33<02:23,  1.20s/file]"
     ]
    },
    {
     "name": "stdout",
     "output_type": "stream",
     "text": [
      "1_u00011s00001hw00007.svc: Predicted Emotion - Stress | Confidence Levels: Stress: 73.73%, Depression: 26.27%, Normal: 0.01%, Anxiety: 0.00%\n",
      "\u001b[1m94/94\u001b[0m \u001b[32m━━━━━━━━━━━━━━━━━━━━\u001b[0m\u001b[37m\u001b[0m \u001b[1m1s\u001b[0m 13ms/step\n"
     ]
    },
    {
     "name": "stderr",
     "output_type": "stream",
     "text": [
      "Classifying 1_u00021s00001hw00001.svc:  35%|███▍      | 63/182 [01:34<02:23,  1.20s/file]"
     ]
    },
    {
     "name": "stdout",
     "output_type": "stream",
     "text": [
      "1_u00021s00001hw00001.svc: Predicted Emotion - Depression | Confidence Levels: Depression: 74.03%, Normal: 15.45%, Anxiety: 10.53%, Stress: 0.00%\n"
     ]
    },
    {
     "name": "stderr",
     "output_type": "stream",
     "text": [
      "Classifying 1_u00021s00001hw00001.svc:  35%|███▌      | 64/182 [01:34<02:34,  1.31s/file]"
     ]
    },
    {
     "name": "stdout",
     "output_type": "stream",
     "text": [
      "\u001b[1m177/177\u001b[0m \u001b[32m━━━━━━━━━━━━━━━━━━━━\u001b[0m\u001b[37m\u001b[0m \u001b[1m3s\u001b[0m 15ms/step\n"
     ]
    },
    {
     "name": "stderr",
     "output_type": "stream",
     "text": [
      "Classifying 1_u00021s00001hw00002.svc:  36%|███▌      | 65/182 [01:37<03:32,  1.82s/file]"
     ]
    },
    {
     "name": "stdout",
     "output_type": "stream",
     "text": [
      "1_u00021s00001hw00002.svc: Predicted Emotion - Depression | Confidence Levels: Depression: 61.96%, Normal: 19.65%, Anxiety: 18.39%, Stress: 0.00%\n",
      "\u001b[1m121/121\u001b[0m \u001b[32m━━━━━━━━━━━━━━━━━━━━\u001b[0m\u001b[37m\u001b[0m \u001b[1m2s\u001b[0m 14ms/step\n",
      "1_u00021s00001hw00003.svc: Predicted Emotion - Depression | Confidence Levels: Depression: 48.71%, Anxiety: 27.03%, Normal: 24.25%, Stress: 0.00%\n"
     ]
    },
    {
     "name": "stderr",
     "output_type": "stream",
     "text": [
      "Classifying 1_u00021s00001hw00003.svc:  36%|███▋      | 66/182 [01:39<03:35,  1.86s/file]"
     ]
    },
    {
     "name": "stdout",
     "output_type": "stream",
     "text": [
      "\u001b[1m40/40\u001b[0m \u001b[32m━━━━━━━━━━━━━━━━━━━━\u001b[0m\u001b[37m\u001b[0m \u001b[1m1s\u001b[0m 15ms/step\n"
     ]
    },
    {
     "name": "stderr",
     "output_type": "stream",
     "text": [
      "Classifying 1_u00021s00001hw00004.svc:  37%|███▋      | 67/182 [01:40<03:00,  1.57s/file]"
     ]
    },
    {
     "name": "stdout",
     "output_type": "stream",
     "text": [
      "1_u00021s00001hw00004.svc: Predicted Emotion - Depression | Confidence Levels: Depression: 39.61%, Anxiety: 36.17%, Normal: 24.21%, Stress: 0.01%\n",
      "\u001b[1m31/31\u001b[0m \u001b[32m━━━━━━━━━━━━━━━━━━━━\u001b[0m\u001b[37m\u001b[0m \u001b[1m1s\u001b[0m 15ms/step\n"
     ]
    },
    {
     "name": "stderr",
     "output_type": "stream",
     "text": [
      "Classifying 1_u00021s00001hw00005.svc:  37%|███▋      | 68/182 [01:41<02:30,  1.32s/file]"
     ]
    },
    {
     "name": "stdout",
     "output_type": "stream",
     "text": [
      "1_u00021s00001hw00005.svc: Predicted Emotion - Anxiety | Confidence Levels: Anxiety: 48.83%, Depression: 28.43%, Normal: 22.74%, Stress: 0.00%\n",
      "\u001b[1m213/213\u001b[0m \u001b[32m━━━━━━━━━━━━━━━━━━━━\u001b[0m\u001b[37m\u001b[0m \u001b[1m3s\u001b[0m 14ms/step\n"
     ]
    },
    {
     "name": "stderr",
     "output_type": "stream",
     "text": [
      "Classifying 1_u00021s00001hw00006.svc:  38%|███▊      | 69/182 [01:45<03:46,  2.00s/file]"
     ]
    },
    {
     "name": "stdout",
     "output_type": "stream",
     "text": [
      "1_u00021s00001hw00006.svc: Predicted Emotion - Depression | Confidence Levels: Depression: 61.84%, Normal: 19.20%, Anxiety: 18.96%, Stress: 0.00%\n",
      "\u001b[1m115/115\u001b[0m \u001b[32m━━━━━━━━━━━━━━━━━━━━\u001b[0m\u001b[37m\u001b[0m \u001b[1m2s\u001b[0m 14ms/step\n",
      "1_u00021s00001hw00007.svc: Predicted Emotion - Depression | Confidence Levels: Anxiety: 41.31%, Depression: 39.98%, Normal: 18.70%, Stress: 0.00%\n"
     ]
    },
    {
     "name": "stderr",
     "output_type": "stream",
     "text": [
      "Classifying 1_u00021s00001hw00007.svc:  38%|███▊      | 70/182 [01:46<03:40,  1.97s/file]"
     ]
    },
    {
     "name": "stdout",
     "output_type": "stream",
     "text": [
      "\u001b[1m75/75\u001b[0m \u001b[32m━━━━━━━━━━━━━━━━━━━━\u001b[0m\u001b[37m\u001b[0m \u001b[1m1s\u001b[0m 16ms/step\n",
      "1_u00038s00001hw00001.svc: Predicted Emotion - Depression | Confidence Levels: Depression: 43.88%, Anxiety: 35.67%, Normal: 20.45%, Stress: 0.00%"
     ]
    },
    {
     "name": "stderr",
     "output_type": "stream",
     "text": [
      "Classifying 1_u00038s00001hw00001.svc:  39%|███▉      | 71/182 [01:48<03:24,  1.84s/file]"
     ]
    },
    {
     "name": "stdout",
     "output_type": "stream",
     "text": [
      "\n",
      "\u001b[1m92/92\u001b[0m \u001b[32m━━━━━━━━━━━━━━━━━━━━\u001b[0m\u001b[37m\u001b[0m \u001b[1m1s\u001b[0m 14ms/step\n",
      "1_u00038s00001hw00002.svc: Predicted Emotion - Depression | Confidence Levels: Depression: 43.38%, Anxiety: 39.62%, Normal: 17.01%, Stress: 0.00%\n"
     ]
    },
    {
     "name": "stderr",
     "output_type": "stream",
     "text": [
      "Classifying 1_u00038s00001hw00002.svc:  40%|███▉      | 72/182 [01:50<03:13,  1.76s/file]"
     ]
    },
    {
     "name": "stdout",
     "output_type": "stream",
     "text": [
      "\u001b[1m139/139\u001b[0m \u001b[32m━━━━━━━━━━━━━━━━━━━━\u001b[0m\u001b[37m\u001b[0m \u001b[1m2s\u001b[0m 14ms/step\n"
     ]
    },
    {
     "name": "stderr",
     "output_type": "stream",
     "text": [
      "Classifying 1_u00038s00001hw00003.svc:  40%|████      | 73/182 [01:52<03:32,  1.95s/file]"
     ]
    },
    {
     "name": "stdout",
     "output_type": "stream",
     "text": [
      "1_u00038s00001hw00003.svc: Predicted Emotion - Depression | Confidence Levels: Depression: 53.98%, Anxiety: 24.12%, Normal: 21.90%, Stress: 0.00%\n",
      "\u001b[1m20/20\u001b[0m \u001b[32m━━━━━━━━━━━━━━━━━━━━\u001b[0m\u001b[37m\u001b[0m \u001b[1m0s\u001b[0m 14ms/step\n",
      "1_u00038s00001hw00004.svc: Predicted Emotion - Anxiety | Confidence Levels: Anxiety: 50.57%, Depression: 25.16%, Normal: 24.27%, Stress: 0.01%\n"
     ]
    },
    {
     "name": "stderr",
     "output_type": "stream",
     "text": [
      "Classifying 1_u00038s00001hw00004.svc:  41%|████      | 74/182 [01:52<02:43,  1.51s/file]"
     ]
    },
    {
     "name": "stdout",
     "output_type": "stream",
     "text": [
      "\u001b[1m21/21\u001b[0m \u001b[32m━━━━━━━━━━━━━━━━━━━━\u001b[0m\u001b[37m\u001b[0m \u001b[1m0s\u001b[0m 19ms/step\n",
      "1_u00038s00001hw00005.svc: Predicted Emotion - Anxiety | Confidence Levels: Anxiety: 84.83%, Normal: 9.95%, Depression: 5.22%, Stress: 0.00%"
     ]
    },
    {
     "name": "stderr",
     "output_type": "stream",
     "text": [
      "Classifying 1_u00038s00001hw00005.svc:  41%|████      | 75/182 [01:53<02:13,  1.25s/file]"
     ]
    },
    {
     "name": "stdout",
     "output_type": "stream",
     "text": [
      "\n",
      "\u001b[1m58/58\u001b[0m \u001b[32m━━━━━━━━━━━━━━━━━━━━\u001b[0m\u001b[37m\u001b[0m \u001b[1m1s\u001b[0m 14ms/step\n",
      "1_u00038s00001hw00006.svc: Predicted Emotion - Depression | Confidence Levels: Depression: 56.53%, Normal: 29.94%, Anxiety: 13.53%, Stress: 0.00%\n"
     ]
    },
    {
     "name": "stderr",
     "output_type": "stream",
     "text": [
      "Classifying 1_u00038s00001hw00006.svc:  42%|████▏     | 76/182 [01:54<02:09,  1.22s/file]"
     ]
    },
    {
     "name": "stdout",
     "output_type": "stream",
     "text": [
      "\u001b[1m86/86\u001b[0m \u001b[32m━━━━━━━━━━━━━━━━━━━━\u001b[0m\u001b[37m\u001b[0m \u001b[1m1s\u001b[0m 16ms/step\n",
      "1_u00038s00001hw00007.svc: Predicted Emotion - Normal | Confidence Levels: Normal: 41.38%, Anxiety: 30.70%, Depression: 27.90%, Stress: 0.01%\n"
     ]
    },
    {
     "name": "stderr",
     "output_type": "stream",
     "text": [
      "Classifying 1_u00038s00001hw00007.svc:  42%|████▏     | 77/182 [01:56<02:21,  1.35s/file]"
     ]
    },
    {
     "name": "stdout",
     "output_type": "stream",
     "text": [
      "\u001b[1m47/47\u001b[0m \u001b[32m━━━━━━━━━━━━━━━━━━━━\u001b[0m\u001b[37m\u001b[0m \u001b[1m1s\u001b[0m 14ms/step\n"
     ]
    },
    {
     "name": "stderr",
     "output_type": "stream",
     "text": [
      "Classifying 2_u00001s00001hw00001.svc:  43%|████▎     | 78/182 [01:57<02:05,  1.21s/file]"
     ]
    },
    {
     "name": "stdout",
     "output_type": "stream",
     "text": [
      "2_u00001s00001hw00001.svc: Predicted Emotion - Stress | Confidence Levels: Stress: 76.40%, Anxiety: 18.55%, Normal: 4.82%, Depression: 0.23%\n",
      "\u001b[1m86/86\u001b[0m \u001b[32m━━━━━━━━━━━━━━━━━━━━\u001b[0m\u001b[37m\u001b[0m \u001b[1m1s\u001b[0m 15ms/step\n"
     ]
    },
    {
     "name": "stderr",
     "output_type": "stream",
     "text": [
      "Classifying 2_u00001s00001hw00002.svc:  43%|████▎     | 79/182 [01:58<02:16,  1.33s/file]"
     ]
    },
    {
     "name": "stdout",
     "output_type": "stream",
     "text": [
      "2_u00001s00001hw00002.svc: Predicted Emotion - Anxiety | Confidence Levels: Anxiety: 50.11%, Stress: 34.65%, Normal: 14.59%, Depression: 0.64%\n",
      "\u001b[1m97/97\u001b[0m \u001b[32m━━━━━━━━━━━━━━━━━━━━\u001b[0m\u001b[37m\u001b[0m \u001b[1m2s\u001b[0m 15ms/step\n",
      "2_u00001s00001hw00003.svc: Predicted Emotion - Anxiety | Confidence Levels: Anxiety: 82.62%, Normal: 11.87%, Depression: 5.47%, Stress: 0.04%\n"
     ]
    },
    {
     "name": "stderr",
     "output_type": "stream",
     "text": [
      "Classifying 2_u00001s00001hw00003.svc:  44%|████▍     | 80/182 [02:00<02:31,  1.49s/file]"
     ]
    },
    {
     "name": "stdout",
     "output_type": "stream",
     "text": [
      "\u001b[1m61/61\u001b[0m \u001b[32m━━━━━━━━━━━━━━━━━━━━\u001b[0m\u001b[37m\u001b[0m \u001b[1m1s\u001b[0m 15ms/step\n"
     ]
    },
    {
     "name": "stderr",
     "output_type": "stream",
     "text": [
      "Classifying 2_u00001s00001hw00004.svc:  45%|████▍     | 81/182 [02:01<02:21,  1.40s/file]"
     ]
    },
    {
     "name": "stdout",
     "output_type": "stream",
     "text": [
      "2_u00001s00001hw00004.svc: Predicted Emotion - Anxiety | Confidence Levels: Anxiety: 59.78%, Normal: 23.30%, Depression: 16.89%, Stress: 0.03%\n",
      "\u001b[1m38/38\u001b[0m \u001b[32m━━━━━━━━━━━━━━━━━━━━\u001b[0m\u001b[37m\u001b[0m \u001b[1m1s\u001b[0m 14ms/step\n"
     ]
    },
    {
     "name": "stderr",
     "output_type": "stream",
     "text": [
      "Classifying 2_u00001s00001hw00005.svc:  45%|████▌     | 82/182 [02:02<02:00,  1.21s/file]"
     ]
    },
    {
     "name": "stdout",
     "output_type": "stream",
     "text": [
      "2_u00001s00001hw00005.svc: Predicted Emotion - Anxiety | Confidence Levels: Anxiety: 96.05%, Normal: 3.32%, Depression: 0.53%, Stress: 0.10%\n",
      "\u001b[1m79/79\u001b[0m \u001b[32m━━━━━━━━━━━━━━━━━━━━\u001b[0m\u001b[37m\u001b[0m \u001b[1m1s\u001b[0m 14ms/step\n"
     ]
    },
    {
     "name": "stderr",
     "output_type": "stream",
     "text": [
      "Classifying 2_u00001s00001hw00006.svc:  46%|████▌     | 83/182 [02:04<02:06,  1.28s/file]"
     ]
    },
    {
     "name": "stdout",
     "output_type": "stream",
     "text": [
      "2_u00001s00001hw00006.svc: Predicted Emotion - Normal | Confidence Levels: Normal: 39.56%, Anxiety: 31.74%, Depression: 28.70%, Stress: 0.01%\n",
      "\u001b[1m94/94\u001b[0m \u001b[32m━━━━━━━━━━━━━━━━━━━━\u001b[0m\u001b[37m\u001b[0m \u001b[1m1s\u001b[0m 15ms/step\n"
     ]
    },
    {
     "name": "stderr",
     "output_type": "stream",
     "text": [
      "Classifying 2_u00001s00001hw00007.svc:  46%|████▌     | 84/182 [02:05<02:18,  1.41s/file]"
     ]
    },
    {
     "name": "stdout",
     "output_type": "stream",
     "text": [
      "2_u00001s00001hw00007.svc: Predicted Emotion - Anxiety | Confidence Levels: Anxiety: 46.85%, Normal: 34.77%, Depression: 18.37%, Stress: 0.01%\n",
      "\u001b[1m66/66\u001b[0m \u001b[32m━━━━━━━━━━━━━━━━━━━━\u001b[0m\u001b[37m\u001b[0m \u001b[1m1s\u001b[0m 14ms/step\n"
     ]
    },
    {
     "name": "stderr",
     "output_type": "stream",
     "text": [
      "Classifying 2_u00002s00001hw00001.svc:  47%|████▋     | 85/182 [02:07<02:11,  1.36s/file]"
     ]
    },
    {
     "name": "stdout",
     "output_type": "stream",
     "text": [
      "2_u00002s00001hw00001.svc: Predicted Emotion - Anxiety | Confidence Levels: Anxiety: 52.62%, Depression: 29.96%, Normal: 17.42%, Stress: 0.00%\n",
      "\u001b[1m119/119\u001b[0m \u001b[32m━━━━━━━━━━━━━━━━━━━━\u001b[0m\u001b[37m\u001b[0m \u001b[1m2s\u001b[0m 14ms/step\n"
     ]
    },
    {
     "name": "stderr",
     "output_type": "stream",
     "text": [
      "Classifying 2_u00002s00001hw00002.svc:  47%|████▋     | 85/182 [02:09<02:11,  1.36s/file]"
     ]
    },
    {
     "name": "stdout",
     "output_type": "stream",
     "text": [
      "2_u00002s00001hw00002.svc: Predicted Emotion - Anxiety | Confidence Levels: Anxiety: 59.14%, Depression: 27.70%, Normal: 13.16%, Stress: 0.00%\n"
     ]
    },
    {
     "name": "stderr",
     "output_type": "stream",
     "text": [
      "Classifying 2_u00002s00001hw00002.svc:  47%|████▋     | 86/182 [02:09<02:30,  1.57s/file]"
     ]
    },
    {
     "name": "stdout",
     "output_type": "stream",
     "text": [
      "\u001b[1m134/134\u001b[0m \u001b[32m━━━━━━━━━━━━━━━━━━━━\u001b[0m\u001b[37m\u001b[0m \u001b[1m2s\u001b[0m 14ms/step\n"
     ]
    },
    {
     "name": "stderr",
     "output_type": "stream",
     "text": [
      "Classifying 2_u00002s00001hw00003.svc:  48%|████▊     | 87/182 [02:11<02:51,  1.81s/file]"
     ]
    },
    {
     "name": "stdout",
     "output_type": "stream",
     "text": [
      "2_u00002s00001hw00003.svc: Predicted Emotion - Anxiety | Confidence Levels: Anxiety: 63.05%, Depression: 24.20%, Normal: 12.75%, Stress: 0.00%\n",
      "\u001b[1m35/35\u001b[0m \u001b[32m━━━━━━━━━━━━━━━━━━━━\u001b[0m\u001b[37m\u001b[0m \u001b[1m1s\u001b[0m 17ms/step\n"
     ]
    },
    {
     "name": "stderr",
     "output_type": "stream",
     "text": [
      "Classifying 2_u00002s00001hw00004.svc:  48%|████▊     | 88/182 [02:12<02:23,  1.52s/file]"
     ]
    },
    {
     "name": "stdout",
     "output_type": "stream",
     "text": [
      "2_u00002s00001hw00004.svc: Predicted Emotion - Depression | Confidence Levels: Depression: 79.38%, Normal: 18.30%, Anxiety: 2.31%, Stress: 0.00%\n",
      "\u001b[1m27/27\u001b[0m \u001b[32m━━━━━━━━━━━━━━━━━━━━\u001b[0m\u001b[37m\u001b[0m \u001b[1m0s\u001b[0m 14ms/step\n",
      "2_u00002s00001hw00005.svc: Predicted Emotion - Anxiety | Confidence Levels: Anxiety: 98.64%, Normal: 0.98%, Depression: 0.38%, Stress: 0.00%\n"
     ]
    },
    {
     "name": "stderr",
     "output_type": "stream",
     "text": [
      "Classifying 2_u00002s00001hw00005.svc:  49%|████▉     | 89/182 [02:12<01:55,  1.25s/file]"
     ]
    },
    {
     "name": "stdout",
     "output_type": "stream",
     "text": [
      "\u001b[1m100/100\u001b[0m \u001b[32m━━━━━━━━━━━━━━━━━━━━\u001b[0m\u001b[37m\u001b[0m \u001b[1m1s\u001b[0m 14ms/step\n",
      "2_u00002s00001hw00006.svc: Predicted Emotion - Anxiety | Confidence Levels: Anxiety: 65.02%, Depression: 20.48%, Normal: 14.50%, Stress: 0.00%\n"
     ]
    },
    {
     "name": "stderr",
     "output_type": "stream",
     "text": [
      "Classifying 2_u00002s00001hw00006.svc:  49%|████▉     | 90/182 [02:14<02:09,  1.41s/file]"
     ]
    },
    {
     "name": "stdout",
     "output_type": "stream",
     "text": [
      "\u001b[1m99/99\u001b[0m \u001b[32m━━━━━━━━━━━━━━━━━━━━\u001b[0m\u001b[37m\u001b[0m \u001b[1m1s\u001b[0m 14ms/step\n"
     ]
    },
    {
     "name": "stderr",
     "output_type": "stream",
     "text": [
      "Classifying 2_u00002s00001hw00007.svc:  50%|█████     | 91/182 [02:16<02:17,  1.51s/file]"
     ]
    },
    {
     "name": "stdout",
     "output_type": "stream",
     "text": [
      "2_u00002s00001hw00007.svc: Predicted Emotion - Anxiety | Confidence Levels: Anxiety: 86.45%, Normal: 7.75%, Depression: 5.75%, Stress: 0.04%\n",
      "\u001b[1m54/54\u001b[0m \u001b[32m━━━━━━━━━━━━━━━━━━━━\u001b[0m\u001b[37m\u001b[0m \u001b[1m1s\u001b[0m 15ms/step\n",
      "2_u00014s00001hw00001.svc: Predicted Emotion - Anxiety | Confidence Levels: Anxiety: 63.35%, Depression: 22.54%, Normal: 14.11%, Stress: 0.00%\n"
     ]
    },
    {
     "name": "stderr",
     "output_type": "stream",
     "text": [
      "Classifying 2_u00014s00001hw00001.svc:  51%|█████     | 92/182 [02:17<02:05,  1.39s/file]"
     ]
    },
    {
     "name": "stdout",
     "output_type": "stream",
     "text": [
      "\u001b[1m98/98\u001b[0m \u001b[32m━━━━━━━━━━━━━━━━━━━━\u001b[0m\u001b[37m\u001b[0m \u001b[1m1s\u001b[0m 13ms/step\n",
      "2_u00014s00001hw00002.svc: Predicted Emotion - Anxiety | Confidence Levels: Anxiety: 45.65%, Depression: 36.37%, Normal: 17.98%, Stress: 0.00%\n"
     ]
    },
    {
     "name": "stderr",
     "output_type": "stream",
     "text": [
      "Classifying 2_u00014s00001hw00002.svc:  51%|█████     | 93/182 [02:19<02:09,  1.46s/file]"
     ]
    },
    {
     "name": "stdout",
     "output_type": "stream",
     "text": [
      "\u001b[1m106/106\u001b[0m \u001b[32m━━━━━━━━━━━━━━━━━━━━\u001b[0m\u001b[37m\u001b[0m \u001b[1m1s\u001b[0m 14ms/step\n",
      "2_u00014s00001hw00002old.svc: Predicted Emotion - Anxiety | Confidence Levels: Anxiety: 44.79%, Depression: 37.36%, Normal: 17.85%, Stress: 0.00%\n"
     ]
    },
    {
     "name": "stderr",
     "output_type": "stream",
     "text": [
      "Classifying 2_u00014s00001hw00002old.svc:  52%|█████▏    | 94/182 [02:21<02:16,  1.55s/file]"
     ]
    },
    {
     "name": "stdout",
     "output_type": "stream",
     "text": [
      "\u001b[1m95/95\u001b[0m \u001b[32m━━━━━━━━━━━━━━━━━━━━\u001b[0m\u001b[37m\u001b[0m \u001b[1m1s\u001b[0m 15ms/step\n"
     ]
    },
    {
     "name": "stderr",
     "output_type": "stream",
     "text": [
      "Classifying 2_u00014s00001hw00003.svc:  52%|█████▏    | 95/182 [02:22<02:18,  1.59s/file]   "
     ]
    },
    {
     "name": "stdout",
     "output_type": "stream",
     "text": [
      "2_u00014s00001hw00003.svc: Predicted Emotion - Anxiety | Confidence Levels: Anxiety: 47.74%, Depression: 33.18%, Normal: 19.08%, Stress: 0.00%\n",
      "\u001b[1m37/37\u001b[0m \u001b[32m━━━━━━━━━━━━━━━━━━━━\u001b[0m\u001b[37m\u001b[0m \u001b[1m1s\u001b[0m 15ms/step\n"
     ]
    },
    {
     "name": "stderr",
     "output_type": "stream",
     "text": [
      "Classifying 2_u00014s00001hw00004.svc:  53%|█████▎    | 96/182 [02:23<01:58,  1.38s/file]"
     ]
    },
    {
     "name": "stdout",
     "output_type": "stream",
     "text": [
      "2_u00014s00001hw00004.svc: Predicted Emotion - Depression | Confidence Levels: Depression: 70.63%, Normal: 25.62%, Anxiety: 3.76%, Stress: 0.00%\n",
      "\u001b[1m34/34\u001b[0m \u001b[32m━━━━━━━━━━━━━━━━━━━━\u001b[0m\u001b[37m\u001b[0m \u001b[1m1s\u001b[0m 14ms/step\n"
     ]
    },
    {
     "name": "stderr",
     "output_type": "stream",
     "text": [
      "Classifying 2_u00014s00001hw00005.svc:  53%|█████▎    | 97/182 [02:24<01:40,  1.18s/file]"
     ]
    },
    {
     "name": "stdout",
     "output_type": "stream",
     "text": [
      "2_u00014s00001hw00005.svc: Predicted Emotion - Anxiety | Confidence Levels: Anxiety: 87.18%, Normal: 6.81%, Depression: 6.00%, Stress: 0.00%\n",
      "\u001b[1m132/132\u001b[0m \u001b[32m━━━━━━━━━━━━━━━━━━━━\u001b[0m\u001b[37m\u001b[0m \u001b[1m2s\u001b[0m 14ms/step\n"
     ]
    },
    {
     "name": "stderr",
     "output_type": "stream",
     "text": [
      "Classifying 2_u00014s00001hw00006.svc:  54%|█████▍    | 98/182 [02:26<02:03,  1.47s/file]"
     ]
    },
    {
     "name": "stdout",
     "output_type": "stream",
     "text": [
      "2_u00014s00001hw00006.svc: Predicted Emotion - Depression | Confidence Levels: Depression: 44.92%, Anxiety: 29.92%, Normal: 25.16%, Stress: 0.00%\n",
      "\u001b[1m90/90\u001b[0m \u001b[32m━━━━━━━━━━━━━━━━━━━━\u001b[0m\u001b[37m\u001b[0m \u001b[1m1s\u001b[0m 14ms/step\n"
     ]
    },
    {
     "name": "stderr",
     "output_type": "stream",
     "text": [
      "Classifying 2_u00014s00001hw00007.svc:  54%|█████▍    | 99/182 [02:28<02:06,  1.52s/file]"
     ]
    },
    {
     "name": "stdout",
     "output_type": "stream",
     "text": [
      "2_u00014s00001hw00007.svc: Predicted Emotion - Depression | Confidence Levels: Depression: 36.16%, Normal: 35.52%, Anxiety: 28.32%, Stress: 0.00%\n",
      "\u001b[1m70/70\u001b[0m \u001b[32m━━━━━━━━━━━━━━━━━━━━\u001b[0m\u001b[37m\u001b[0m \u001b[1m1s\u001b[0m 13ms/step\n",
      "2_u00025s00001hw00001.svc: Predicted Emotion - Stress | Confidence Levels: Stress: 76.96%, Anxiety: 18.59%, Normal: 4.23%, Depression: 0.22%\n"
     ]
    },
    {
     "name": "stderr",
     "output_type": "stream",
     "text": [
      "Classifying 2_u00025s00001hw00001.svc:  55%|█████▍    | 100/182 [02:29<01:59,  1.45s/file]"
     ]
    },
    {
     "name": "stdout",
     "output_type": "stream",
     "text": [
      "\u001b[1m144/144\u001b[0m \u001b[32m━━━━━━━━━━━━━━━━━━━━\u001b[0m\u001b[37m\u001b[0m \u001b[1m2s\u001b[0m 14ms/step\n"
     ]
    },
    {
     "name": "stderr",
     "output_type": "stream",
     "text": [
      "Classifying 2_u00025s00001hw00002.svc:  55%|█████▌    | 101/182 [02:31<02:19,  1.73s/file]"
     ]
    },
    {
     "name": "stdout",
     "output_type": "stream",
     "text": [
      "2_u00025s00001hw00002.svc: Predicted Emotion - Anxiety | Confidence Levels: Anxiety: 67.93%, Stress: 26.38%, Normal: 5.38%, Depression: 0.31%\n",
      "\u001b[1m141/141\u001b[0m \u001b[32m━━━━━━━━━━━━━━━━━━━━\u001b[0m\u001b[37m\u001b[0m \u001b[1m2s\u001b[0m 14ms/step\n"
     ]
    },
    {
     "name": "stderr",
     "output_type": "stream",
     "text": [
      "Classifying 2_u00025s00001hw00003.svc:  56%|█████▌    | 102/182 [02:34<02:32,  1.91s/file]"
     ]
    },
    {
     "name": "stdout",
     "output_type": "stream",
     "text": [
      "2_u00025s00001hw00003.svc: Predicted Emotion - Anxiety | Confidence Levels: Anxiety: 86.78%, Normal: 8.01%, Depression: 5.19%, Stress: 0.01%\n",
      "\u001b[1m24/24\u001b[0m \u001b[32m━━━━━━━━━━━━━━━━━━━━\u001b[0m\u001b[37m\u001b[0m \u001b[1m0s\u001b[0m 15ms/step\n",
      "2_u00025s00001hw00004.svc: Predicted Emotion - Depression | Confidence Levels: Depression: 40.70%, Normal: 39.29%, Anxiety: 20.01%, Stress: 0.01%\n"
     ]
    },
    {
     "name": "stderr",
     "output_type": "stream",
     "text": [
      "Classifying 2_u00025s00001hw00004.svc:  57%|█████▋    | 103/182 [02:34<01:59,  1.52s/file]"
     ]
    },
    {
     "name": "stdout",
     "output_type": "stream",
     "text": [
      "\u001b[1m22/22\u001b[0m \u001b[32m━━━━━━━━━━━━━━━━━━━━\u001b[0m\u001b[37m\u001b[0m \u001b[1m0s\u001b[0m 15ms/step\n"
     ]
    },
    {
     "name": "stderr",
     "output_type": "stream",
     "text": [
      "Classifying 2_u00025s00001hw00005.svc:  57%|█████▋    | 103/182 [02:35<01:59,  1.52s/file]"
     ]
    },
    {
     "name": "stdout",
     "output_type": "stream",
     "text": [
      "2_u00025s00001hw00005.svc: Predicted Emotion - Anxiety | Confidence Levels: Anxiety: 94.82%, Normal: 3.99%, Depression: 1.14%, Stress: 0.05%\n"
     ]
    },
    {
     "name": "stderr",
     "output_type": "stream",
     "text": [
      "Classifying 2_u00025s00001hw00005.svc:  57%|█████▋    | 104/182 [02:35<01:36,  1.24s/file]"
     ]
    },
    {
     "name": "stdout",
     "output_type": "stream",
     "text": [
      "\u001b[1m106/106\u001b[0m \u001b[32m━━━━━━━━━━━━━━━━━━━━\u001b[0m\u001b[37m\u001b[0m \u001b[1m2s\u001b[0m 14ms/step\n",
      "2_u00025s00001hw00006.svc: Predicted Emotion - Anxiety | Confidence Levels: Anxiety: 47.85%, Normal: 26.82%, Depression: 25.32%, Stress: 0.01%"
     ]
    },
    {
     "name": "stderr",
     "output_type": "stream",
     "text": [
      "Classifying 2_u00025s00001hw00006.svc:  58%|█████▊    | 105/182 [02:37<01:48,  1.40s/file]"
     ]
    },
    {
     "name": "stdout",
     "output_type": "stream",
     "text": [
      "\n",
      "\u001b[1m124/124\u001b[0m \u001b[32m━━━━━━━━━━━━━━━━━━━━\u001b[0m\u001b[37m\u001b[0m \u001b[1m2s\u001b[0m 14ms/step\n",
      "2_u00025s00001hw00007.svc: Predicted Emotion - Anxiety | Confidence Levels: Anxiety: 44.36%, Normal: 29.68%, Depression: 25.95%, Stress: 0.00%\n"
     ]
    },
    {
     "name": "stderr",
     "output_type": "stream",
     "text": [
      "Classifying 2_u00025s00001hw00007.svc:  58%|█████▊    | 106/182 [02:39<02:02,  1.61s/file]"
     ]
    },
    {
     "name": "stdout",
     "output_type": "stream",
     "text": [
      "\u001b[1m52/52\u001b[0m \u001b[32m━━━━━━━━━━━━━━━━━━━━\u001b[0m\u001b[37m\u001b[0m \u001b[1m1s\u001b[0m 14ms/step\n",
      "2_u00026s00001hw00001.svc: Predicted Emotion - Anxiety | Confidence Levels: Anxiety: 71.98%, Depression: 17.80%, Normal: 10.22%, Stress: 0.00%\n"
     ]
    },
    {
     "name": "stderr",
     "output_type": "stream",
     "text": [
      "Classifying 2_u00026s00001hw00001.svc:  59%|█████▉    | 107/182 [02:40<01:46,  1.42s/file]"
     ]
    },
    {
     "name": "stdout",
     "output_type": "stream",
     "text": [
      "\u001b[1m81/81\u001b[0m \u001b[32m━━━━━━━━━━━━━━━━━━━━\u001b[0m\u001b[37m\u001b[0m \u001b[1m1s\u001b[0m 14ms/step\n"
     ]
    },
    {
     "name": "stderr",
     "output_type": "stream",
     "text": [
      "Classifying 2_u00026s00001hw00002.svc:  59%|█████▉    | 108/182 [02:41<01:45,  1.42s/file]"
     ]
    },
    {
     "name": "stdout",
     "output_type": "stream",
     "text": [
      "2_u00026s00001hw00002.svc: Predicted Emotion - Anxiety | Confidence Levels: Anxiety: 58.48%, Depression: 26.94%, Normal: 14.58%, Stress: 0.00%\n",
      "\u001b[1m94/94\u001b[0m \u001b[32m━━━━━━━━━━━━━━━━━━━━\u001b[0m\u001b[37m\u001b[0m \u001b[1m1s\u001b[0m 14ms/step\n"
     ]
    },
    {
     "name": "stderr",
     "output_type": "stream",
     "text": [
      "Classifying 2_u00026s00001hw00003.svc:  60%|█████▉    | 109/182 [02:43<01:48,  1.48s/file]"
     ]
    },
    {
     "name": "stdout",
     "output_type": "stream",
     "text": [
      "2_u00026s00001hw00003.svc: Predicted Emotion - Anxiety | Confidence Levels: Anxiety: 47.01%, Depression: 34.49%, Normal: 18.50%, Stress: 0.00%\n",
      "\u001b[1m23/23\u001b[0m \u001b[32m━━━━━━━━━━━━━━━━━━━━\u001b[0m\u001b[37m\u001b[0m \u001b[1m0s\u001b[0m 15ms/step\n",
      "2_u00026s00001hw00004.svc: Predicted Emotion - Depression | Confidence Levels: Depression: 70.13%, Normal: 26.12%, Anxiety: 3.75%, Stress: 0.00%"
     ]
    },
    {
     "name": "stderr",
     "output_type": "stream",
     "text": [
      "Classifying 2_u00026s00001hw00004.svc:  60%|██████    | 110/182 [02:43<01:27,  1.22s/file]"
     ]
    },
    {
     "name": "stdout",
     "output_type": "stream",
     "text": [
      "\n",
      "\u001b[1m25/25\u001b[0m \u001b[32m━━━━━━━━━━━━━━━━━━━━\u001b[0m\u001b[37m\u001b[0m \u001b[1m0s\u001b[0m 14ms/step\n"
     ]
    },
    {
     "name": "stderr",
     "output_type": "stream",
     "text": [
      "Classifying 2_u00026s00001hw00005.svc:  61%|██████    | 111/182 [02:44<01:14,  1.04s/file]"
     ]
    },
    {
     "name": "stdout",
     "output_type": "stream",
     "text": [
      "2_u00026s00001hw00005.svc: Predicted Emotion - Anxiety | Confidence Levels: Anxiety: 70.50%, Normal: 15.03%, Depression: 14.47%, Stress: 0.00%\n",
      "\u001b[1m71/71\u001b[0m \u001b[32m━━━━━━━━━━━━━━━━━━━━\u001b[0m\u001b[37m\u001b[0m \u001b[1m1s\u001b[0m 14ms/step\n"
     ]
    },
    {
     "name": "stderr",
     "output_type": "stream",
     "text": [
      "Classifying 2_u00026s00001hw00006.svc:  62%|██████▏   | 112/182 [02:45<01:18,  1.13s/file]"
     ]
    },
    {
     "name": "stdout",
     "output_type": "stream",
     "text": [
      "2_u00026s00001hw00006.svc: Predicted Emotion - Depression | Confidence Levels: Depression: 55.57%, Normal: 27.53%, Anxiety: 16.90%, Stress: 0.00%\n",
      "\u001b[1m78/78\u001b[0m \u001b[32m━━━━━━━━━━━━━━━━━━━━\u001b[0m\u001b[37m\u001b[0m \u001b[1m1s\u001b[0m 13ms/step\n",
      "2_u00026s00001hw00007.svc: Predicted Emotion - Depression | Confidence Levels: Depression: 36.06%, Anxiety: 32.20%, Normal: 31.74%, Stress: 0.00%"
     ]
    },
    {
     "name": "stderr",
     "output_type": "stream",
     "text": [
      "Classifying 2_u00026s00001hw00007.svc:  62%|██████▏   | 113/182 [02:47<01:22,  1.20s/file]"
     ]
    },
    {
     "name": "stdout",
     "output_type": "stream",
     "text": [
      "\n",
      "\u001b[1m87/87\u001b[0m \u001b[32m━━━━━━━━━━━━━━━━━━━━\u001b[0m\u001b[37m\u001b[0m \u001b[1m1s\u001b[0m 15ms/step\n",
      "2_u00029s00001hw00001.svc: Predicted Emotion - Anxiety | Confidence Levels: Anxiety: 67.26%, Normal: 22.70%, Depression: 10.04%, Stress: 0.00%\n"
     ]
    },
    {
     "name": "stderr",
     "output_type": "stream",
     "text": [
      "Classifying 2_u00029s00001hw00001.svc:  63%|██████▎   | 114/182 [02:48<01:28,  1.31s/file]"
     ]
    },
    {
     "name": "stdout",
     "output_type": "stream",
     "text": [
      "\u001b[1m156/156\u001b[0m \u001b[32m━━━━━━━━━━━━━━━━━━━━\u001b[0m\u001b[37m\u001b[0m \u001b[1m2s\u001b[0m 14ms/step\n"
     ]
    },
    {
     "name": "stderr",
     "output_type": "stream",
     "text": [
      "Classifying 2_u00029s00001hw00002.svc:  63%|██████▎   | 115/182 [02:51<01:53,  1.69s/file]"
     ]
    },
    {
     "name": "stdout",
     "output_type": "stream",
     "text": [
      "2_u00029s00001hw00002.svc: Predicted Emotion - Anxiety | Confidence Levels: Anxiety: 81.28%, Normal: 10.57%, Depression: 8.14%, Stress: 0.00%\n",
      "\u001b[1m109/109\u001b[0m \u001b[32m━━━━━━━━━━━━━━━━━━━━\u001b[0m\u001b[37m\u001b[0m \u001b[1m2s\u001b[0m 13ms/step\n",
      "2_u00029s00001hw00003.svc: Predicted Emotion - Anxiety | Confidence Levels: Anxiety: 66.60%, Normal: 21.94%, Depression: 11.46%, Stress: 0.00%\n"
     ]
    },
    {
     "name": "stderr",
     "output_type": "stream",
     "text": [
      "Classifying 2_u00029s00001hw00003.svc:  64%|██████▎   | 116/182 [02:53<01:53,  1.72s/file]"
     ]
    },
    {
     "name": "stdout",
     "output_type": "stream",
     "text": [
      "\u001b[1m23/23\u001b[0m \u001b[32m━━━━━━━━━━━━━━━━━━━━\u001b[0m\u001b[37m\u001b[0m \u001b[1m0s\u001b[0m 17ms/step\n"
     ]
    },
    {
     "name": "stderr",
     "output_type": "stream",
     "text": [
      "Classifying 2_u00029s00001hw00004.svc:  64%|██████▍   | 117/182 [02:53<01:29,  1.38s/file]"
     ]
    },
    {
     "name": "stdout",
     "output_type": "stream",
     "text": [
      "2_u00029s00001hw00004.svc: Predicted Emotion - Anxiety | Confidence Levels: Anxiety: 95.93%, Normal: 2.86%, Depression: 1.20%, Stress: 0.01%\n",
      "\u001b[1m21/21\u001b[0m \u001b[32m━━━━━━━━━━━━━━━━━━━━\u001b[0m\u001b[37m\u001b[0m \u001b[1m0s\u001b[0m 14ms/step\n",
      "2_u00029s00001hw00005.svc: Predicted Emotion - Anxiety | Confidence Levels: Anxiety: 94.55%, Depression: 2.74%, Normal: 2.71%, Stress: 0.00%"
     ]
    },
    {
     "name": "stderr",
     "output_type": "stream",
     "text": [
      "Classifying 2_u00029s00001hw00005.svc:  65%|██████▍   | 118/182 [02:54<01:11,  1.12s/file]"
     ]
    },
    {
     "name": "stdout",
     "output_type": "stream",
     "text": [
      "\n",
      "\u001b[1m80/80\u001b[0m \u001b[32m━━━━━━━━━━━━━━━━━━━━\u001b[0m\u001b[37m\u001b[0m \u001b[1m1s\u001b[0m 15ms/step\n",
      "2_u00029s00001hw00006.svc: Predicted Emotion - Anxiety | Confidence Levels: Anxiety: 84.51%, Depression: 8.00%, Normal: 7.48%, Stress: 0.01%\n"
     ]
    },
    {
     "name": "stderr",
     "output_type": "stream",
     "text": [
      "Classifying 2_u00029s00001hw00006.svc:  65%|██████▌   | 119/182 [02:55<01:17,  1.24s/file]"
     ]
    },
    {
     "name": "stdout",
     "output_type": "stream",
     "text": [
      "\u001b[1m111/111\u001b[0m \u001b[32m━━━━━━━━━━━━━━━━━━━━\u001b[0m\u001b[37m\u001b[0m \u001b[1m2s\u001b[0m 13ms/step\n"
     ]
    },
    {
     "name": "stderr",
     "output_type": "stream",
     "text": [
      "Classifying 2_u00029s00001hw00007.svc:  66%|██████▌   | 120/182 [02:57<01:29,  1.44s/file]"
     ]
    },
    {
     "name": "stdout",
     "output_type": "stream",
     "text": [
      "2_u00029s00001hw00007.svc: Predicted Emotion - Anxiety | Confidence Levels: Anxiety: 78.14%, Normal: 14.98%, Depression: 6.72%, Stress: 0.16%\n",
      "\u001b[1m103/103\u001b[0m \u001b[32m━━━━━━━━━━━━━━━━━━━━\u001b[0m\u001b[37m\u001b[0m \u001b[1m1s\u001b[0m 13ms/step\n"
     ]
    },
    {
     "name": "stderr",
     "output_type": "stream",
     "text": [
      "Classifying 2_u00031s00001hw00001.svc:  66%|██████▋   | 121/182 [02:59<01:30,  1.48s/file]"
     ]
    },
    {
     "name": "stdout",
     "output_type": "stream",
     "text": [
      "2_u00031s00001hw00001.svc: Predicted Emotion - Anxiety | Confidence Levels: Anxiety: 80.34%, Depression: 11.38%, Normal: 8.27%, Stress: 0.00%\n",
      "\u001b[1m161/161\u001b[0m \u001b[32m━━━━━━━━━━━━━━━━━━━━\u001b[0m\u001b[37m\u001b[0m \u001b[1m2s\u001b[0m 11ms/step\n"
     ]
    },
    {
     "name": "stderr",
     "output_type": "stream",
     "text": [
      "Classifying 2_u00031s00001hw00002.svc:  67%|██████▋   | 122/182 [03:01<01:41,  1.69s/file]"
     ]
    },
    {
     "name": "stdout",
     "output_type": "stream",
     "text": [
      "2_u00031s00001hw00002.svc: Predicted Emotion - Anxiety | Confidence Levels: Anxiety: 59.26%, Depression: 21.99%, Normal: 18.75%, Stress: 0.00%\n",
      "\u001b[1m132/132\u001b[0m \u001b[32m━━━━━━━━━━━━━━━━━━━━\u001b[0m\u001b[37m\u001b[0m \u001b[1m2s\u001b[0m 11ms/step\n"
     ]
    },
    {
     "name": "stderr",
     "output_type": "stream",
     "text": [
      "Classifying 2_u00031s00001hw00003.svc:  68%|██████▊   | 123/182 [03:03<01:50,  1.87s/file]"
     ]
    },
    {
     "name": "stdout",
     "output_type": "stream",
     "text": [
      "2_u00031s00001hw00003.svc: Predicted Emotion - Anxiety | Confidence Levels: Anxiety: 51.93%, Depression: 28.81%, Normal: 19.26%, Stress: 0.00%\n",
      "\u001b[1m11/11\u001b[0m \u001b[32m━━━━━━━━━━━━━━━━━━━━\u001b[0m\u001b[37m\u001b[0m \u001b[1m0s\u001b[0m 23ms/step\n"
     ]
    },
    {
     "name": "stderr",
     "output_type": "stream",
     "text": [
      "Classifying 2_u00031s00001hw00004.svc:  68%|██████▊   | 124/182 [03:04<01:28,  1.52s/file]"
     ]
    },
    {
     "name": "stdout",
     "output_type": "stream",
     "text": [
      "2_u00031s00001hw00004.svc: Predicted Emotion - Depression | Confidence Levels: Depression: 49.04%, Normal: 31.53%, Anxiety: 19.42%, Stress: 0.00%\n",
      "\u001b[1m24/24\u001b[0m \u001b[32m━━━━━━━━━━━━━━━━━━━━\u001b[0m\u001b[37m\u001b[0m \u001b[1m1s\u001b[0m 22ms/step\n",
      "2_u00031s00001hw00005.svc: Predicted Emotion - Anxiety | Confidence Levels: Anxiety: 88.86%, Normal: 7.77%, Depression: 3.37%, Stress: 0.01%\n"
     ]
    },
    {
     "name": "stderr",
     "output_type": "stream",
     "text": [
      "Classifying 2_u00031s00001hw00005.svc:  69%|██████▊   | 125/182 [03:05<01:14,  1.30s/file]"
     ]
    },
    {
     "name": "stdout",
     "output_type": "stream",
     "text": [
      "\u001b[1m80/80\u001b[0m \u001b[32m━━━━━━━━━━━━━━━━━━━━\u001b[0m\u001b[37m\u001b[0m \u001b[1m1s\u001b[0m 15ms/step\n",
      "2_u00031s00001hw00006.svc: Predicted Emotion - Depression | Confidence Levels: Depression: 39.58%, Normal: 31.50%, Anxiety: 28.92%, Stress: 0.00%"
     ]
    },
    {
     "name": "stderr",
     "output_type": "stream",
     "text": [
      "Classifying 2_u00031s00001hw00006.svc:  69%|██████▉   | 126/182 [03:06<01:16,  1.37s/file]"
     ]
    },
    {
     "name": "stdout",
     "output_type": "stream",
     "text": [
      "\n",
      "\u001b[1m98/98\u001b[0m \u001b[32m━━━━━━━━━━━━━━━━━━━━\u001b[0m\u001b[37m\u001b[0m \u001b[1m2s\u001b[0m 21ms/step\n"
     ]
    },
    {
     "name": "stderr",
     "output_type": "stream",
     "text": [
      "Classifying 2_u00031s00001hw00007.svc:  70%|██████▉   | 127/182 [03:09<01:33,  1.70s/file]"
     ]
    },
    {
     "name": "stdout",
     "output_type": "stream",
     "text": [
      "2_u00031s00001hw00007.svc: Predicted Emotion - Anxiety | Confidence Levels: Anxiety: 36.14%, Normal: 35.58%, Depression: 28.27%, Stress: 0.01%\n",
      "\u001b[1m61/61\u001b[0m \u001b[32m━━━━━━━━━━━━━━━━━━━━\u001b[0m\u001b[37m\u001b[0m \u001b[1m1s\u001b[0m 15ms/step\n"
     ]
    },
    {
     "name": "stderr",
     "output_type": "stream",
     "text": [
      "Classifying 2_u00032s00001hw00001.svc:  70%|███████   | 128/182 [03:10<01:25,  1.58s/file]"
     ]
    },
    {
     "name": "stdout",
     "output_type": "stream",
     "text": [
      "2_u00032s00001hw00001.svc: Predicted Emotion - Anxiety | Confidence Levels: Anxiety: 85.50%, Normal: 8.04%, Depression: 6.46%, Stress: 0.00%\n",
      "\u001b[1m110/110\u001b[0m \u001b[32m━━━━━━━━━━━━━━━━━━━━\u001b[0m\u001b[37m\u001b[0m \u001b[1m2s\u001b[0m 16ms/step\n"
     ]
    },
    {
     "name": "stderr",
     "output_type": "stream",
     "text": [
      "Classifying 2_u00032s00001hw00002.svc:  71%|███████   | 129/182 [03:12<01:34,  1.78s/file]"
     ]
    },
    {
     "name": "stdout",
     "output_type": "stream",
     "text": [
      "2_u00032s00001hw00002.svc: Predicted Emotion - Depression | Confidence Levels: Anxiety: 43.61%, Depression: 38.98%, Normal: 17.41%, Stress: 0.00%\n",
      "\u001b[1m149/149\u001b[0m \u001b[32m━━━━━━━━━━━━━━━━━━━━\u001b[0m\u001b[37m\u001b[0m \u001b[1m3s\u001b[0m 20ms/step\n"
     ]
    },
    {
     "name": "stderr",
     "output_type": "stream",
     "text": [
      "Classifying 2_u00032s00001hw00003.svc:  71%|███████▏  | 130/182 [03:16<01:58,  2.28s/file]"
     ]
    },
    {
     "name": "stdout",
     "output_type": "stream",
     "text": [
      "2_u00032s00001hw00003.svc: Predicted Emotion - Depression | Confidence Levels: Depression: 66.55%, Normal: 20.88%, Anxiety: 12.57%, Stress: 0.00%\n",
      "\u001b[1m26/26\u001b[0m \u001b[32m━━━━━━━━━━━━━━━━━━━━\u001b[0m\u001b[37m\u001b[0m \u001b[1m1s\u001b[0m 20ms/step\n"
     ]
    },
    {
     "name": "stderr",
     "output_type": "stream",
     "text": [
      "Classifying 2_u00032s00001hw00004.svc:  72%|███████▏  | 131/182 [03:16<01:34,  1.85s/file]"
     ]
    },
    {
     "name": "stdout",
     "output_type": "stream",
     "text": [
      "2_u00032s00001hw00004.svc: Predicted Emotion - Anxiety | Confidence Levels: Anxiety: 56.21%, Normal: 22.62%, Depression: 21.16%, Stress: 0.01%\n",
      "\u001b[1m19/19\u001b[0m \u001b[32m━━━━━━━━━━━━━━━━━━━━\u001b[0m\u001b[37m\u001b[0m \u001b[1m1s\u001b[0m 24ms/step\n",
      "2_u00032s00001hw00005.svc: Predicted Emotion - Anxiety | Confidence Levels: Anxiety: 96.94%, Normal: 2.33%, Depression: 0.72%, Stress: 0.01%"
     ]
    },
    {
     "name": "stderr",
     "output_type": "stream",
     "text": [
      "Classifying 2_u00032s00001hw00005.svc:  73%|███████▎  | 132/182 [03:17<01:16,  1.54s/file]"
     ]
    },
    {
     "name": "stdout",
     "output_type": "stream",
     "text": [
      "\n",
      "\u001b[1m90/90\u001b[0m \u001b[32m━━━━━━━━━━━━━━━━━━━━\u001b[0m\u001b[37m\u001b[0m \u001b[1m2s\u001b[0m 20ms/step\n",
      "2_u00032s00001hw00006.svc: Predicted Emotion - Normal | Confidence Levels: Anxiety: 35.56%, Normal: 34.08%, Depression: 30.36%, Stress: 0.01%\n"
     ]
    },
    {
     "name": "stderr",
     "output_type": "stream",
     "text": [
      "Classifying 2_u00032s00001hw00006.svc:  73%|███████▎  | 133/182 [03:20<01:25,  1.75s/file]"
     ]
    },
    {
     "name": "stdout",
     "output_type": "stream",
     "text": [
      "\u001b[1m129/129\u001b[0m \u001b[32m━━━━━━━━━━━━━━━━━━━━\u001b[0m\u001b[37m\u001b[0m \u001b[1m2s\u001b[0m 15ms/step\n"
     ]
    },
    {
     "name": "stderr",
     "output_type": "stream",
     "text": [
      "Classifying 2_u00032s00001hw00007.svc:  74%|███████▎  | 134/182 [03:22<01:34,  1.98s/file]"
     ]
    },
    {
     "name": "stdout",
     "output_type": "stream",
     "text": [
      "2_u00032s00001hw00007.svc: Predicted Emotion - Normal | Confidence Levels: Normal: 49.59%, Depression: 40.50%, Anxiety: 9.91%, Stress: 0.00%\n",
      "\u001b[1m83/83\u001b[0m \u001b[32m━━━━━━━━━━━━━━━━━━━━\u001b[0m\u001b[37m\u001b[0m \u001b[1m2s\u001b[0m 17ms/step\n",
      "2_u00033s00001hw00001.svc: Predicted Emotion - Normal | Confidence Levels: Normal: 40.68%, Anxiety: 35.30%, Depression: 24.03%, Stress: 0.00%"
     ]
    },
    {
     "name": "stderr",
     "output_type": "stream",
     "text": [
      "Classifying 2_u00033s00001hw00001.svc:  74%|███████▍  | 135/182 [03:24<01:31,  1.94s/file]"
     ]
    },
    {
     "name": "stdout",
     "output_type": "stream",
     "text": [
      "\n",
      "\u001b[1m148/148\u001b[0m \u001b[32m━━━━━━━━━━━━━━━━━━━━\u001b[0m\u001b[37m\u001b[0m \u001b[1m3s\u001b[0m 17ms/step\n",
      "2_u00033s00001hw00002.svc: Predicted Emotion - Anxiety | Confidence Levels: Anxiety: 63.13%, Normal: 21.44%, Depression: 15.43%, Stress: 0.00%\n"
     ]
    },
    {
     "name": "stderr",
     "output_type": "stream",
     "text": [
      "Classifying 2_u00033s00001hw00002.svc:  75%|███████▍  | 136/182 [03:27<01:44,  2.27s/file]"
     ]
    },
    {
     "name": "stdout",
     "output_type": "stream",
     "text": [
      "\u001b[1m98/98\u001b[0m \u001b[32m━━━━━━━━━━━━━━━━━━━━\u001b[0m\u001b[37m\u001b[0m \u001b[1m2s\u001b[0m 16ms/step\n",
      "2_u00033s00001hw00003.svc: Predicted Emotion - Anxiety | Confidence Levels: Anxiety: 59.64%, Normal: 24.33%, Depression: 16.02%, Stress: 0.00%\n"
     ]
    },
    {
     "name": "stderr",
     "output_type": "stream",
     "text": [
      "Classifying 2_u00033s00001hw00003.svc:  75%|███████▌  | 137/182 [03:29<01:37,  2.17s/file]"
     ]
    },
    {
     "name": "stdout",
     "output_type": "stream",
     "text": [
      "\u001b[1m34/34\u001b[0m \u001b[32m━━━━━━━━━━━━━━━━━━━━\u001b[0m\u001b[37m\u001b[0m \u001b[1m1s\u001b[0m 16ms/step\n"
     ]
    },
    {
     "name": "stderr",
     "output_type": "stream",
     "text": [
      "Classifying 2_u00033s00001hw00004.svc:  75%|███████▌  | 137/182 [03:30<01:37,  2.17s/file]"
     ]
    },
    {
     "name": "stdout",
     "output_type": "stream",
     "text": [
      "2_u00033s00001hw00004.svc: Predicted Emotion - Anxiety | Confidence Levels: Anxiety: 70.49%, Depression: 15.18%, Normal: 14.32%, Stress: 0.01%\n"
     ]
    },
    {
     "name": "stderr",
     "output_type": "stream",
     "text": [
      "Classifying 2_u00033s00001hw00004.svc:  76%|███████▌  | 138/182 [03:30<01:18,  1.78s/file]"
     ]
    },
    {
     "name": "stdout",
     "output_type": "stream",
     "text": [
      "\u001b[1m32/32\u001b[0m \u001b[32m━━━━━━━━━━━━━━━━━━━━\u001b[0m\u001b[37m\u001b[0m \u001b[1m1s\u001b[0m 15ms/step\n"
     ]
    },
    {
     "name": "stderr",
     "output_type": "stream",
     "text": [
      "Classifying 2_u00033s00001hw00005.svc:  76%|███████▋  | 139/182 [03:30<01:02,  1.46s/file]"
     ]
    },
    {
     "name": "stdout",
     "output_type": "stream",
     "text": [
      "2_u00033s00001hw00005.svc: Predicted Emotion - Anxiety | Confidence Levels: Anxiety: 97.81%, Normal: 1.49%, Depression: 0.70%, Stress: 0.01%\n",
      "\u001b[1m262/262\u001b[0m \u001b[32m━━━━━━━━━━━━━━━━━━━━\u001b[0m\u001b[37m\u001b[0m \u001b[1m4s\u001b[0m 15ms/step\n"
     ]
    },
    {
     "name": "stderr",
     "output_type": "stream",
     "text": [
      "Classifying 2_u00033s00001hw00006.svc:  77%|███████▋  | 140/182 [03:35<01:40,  2.40s/file]"
     ]
    },
    {
     "name": "stdout",
     "output_type": "stream",
     "text": [
      "2_u00033s00001hw00006.svc: Predicted Emotion - Anxiety | Confidence Levels: Anxiety: 86.28%, Depression: 7.60%, Normal: 6.10%, Stress: 0.01%\n",
      "\u001b[1m102/102\u001b[0m \u001b[32m━━━━━━━━━━━━━━━━━━━━\u001b[0m\u001b[37m\u001b[0m \u001b[1m2s\u001b[0m 15ms/step\n"
     ]
    },
    {
     "name": "stderr",
     "output_type": "stream",
     "text": [
      "Classifying 2_u00033s00001hw00007.svc:  77%|███████▋  | 141/182 [03:37<01:32,  2.25s/file]"
     ]
    },
    {
     "name": "stdout",
     "output_type": "stream",
     "text": [
      "2_u00033s00001hw00007.svc: Predicted Emotion - Anxiety | Confidence Levels: Anxiety: 88.05%, Normal: 7.49%, Depression: 4.18%, Stress: 0.27%\n",
      "\u001b[1m80/80\u001b[0m \u001b[32m━━━━━━━━━━━━━━━━━━━━\u001b[0m\u001b[37m\u001b[0m \u001b[1m1s\u001b[0m 15ms/step\n",
      "2_u00036s00001hw00001.svc: Predicted Emotion - Anxiety | Confidence Levels: Anxiety: 98.73%, Normal: 0.94%, Depression: 0.23%, Stress: 0.10%\n"
     ]
    },
    {
     "name": "stderr",
     "output_type": "stream",
     "text": [
      "Classifying 2_u00036s00001hw00001.svc:  78%|███████▊  | 142/182 [03:39<01:23,  2.08s/file]"
     ]
    },
    {
     "name": "stdout",
     "output_type": "stream",
     "text": [
      "\u001b[1m157/157\u001b[0m \u001b[32m━━━━━━━━━━━━━━━━━━━━\u001b[0m\u001b[37m\u001b[0m \u001b[1m3s\u001b[0m 16ms/step\n"
     ]
    },
    {
     "name": "stderr",
     "output_type": "stream",
     "text": [
      "Classifying 2_u00036s00001hw00002.svc:  79%|███████▊  | 143/182 [03:42<01:30,  2.33s/file]"
     ]
    },
    {
     "name": "stdout",
     "output_type": "stream",
     "text": [
      "2_u00036s00001hw00002.svc: Predicted Emotion - Anxiety | Confidence Levels: Anxiety: 96.37%, Normal: 2.62%, Depression: 0.93%, Stress: 0.08%\n",
      "\u001b[1m212/212\u001b[0m \u001b[32m━━━━━━━━━━━━━━━━━━━━\u001b[0m\u001b[37m\u001b[0m \u001b[1m3s\u001b[0m 15ms/step\n"
     ]
    },
    {
     "name": "stderr",
     "output_type": "stream",
     "text": [
      "Classifying 2_u00036s00001hw00003.svc:  79%|███████▉  | 144/182 [03:45<01:46,  2.79s/file]"
     ]
    },
    {
     "name": "stdout",
     "output_type": "stream",
     "text": [
      "2_u00036s00001hw00003.svc: Predicted Emotion - Anxiety | Confidence Levels: Anxiety: 63.61%, Normal: 19.77%, Depression: 16.61%, Stress: 0.01%\n",
      "\u001b[1m10/10\u001b[0m \u001b[32m━━━━━━━━━━━━━━━━━━━━\u001b[0m\u001b[37m\u001b[0m \u001b[1m0s\u001b[0m 15ms/step\n"
     ]
    },
    {
     "name": "stderr",
     "output_type": "stream",
     "text": [
      "Classifying 2_u00036s00001hw00004.svc:  80%|███████▉  | 145/182 [03:46<01:16,  2.06s/file]"
     ]
    },
    {
     "name": "stdout",
     "output_type": "stream",
     "text": [
      "2_u00036s00001hw00004.svc: Predicted Emotion - Depression | Confidence Levels: Depression: 47.18%, Normal: 35.93%, Anxiety: 16.89%, Stress: 0.01%\n",
      "\u001b[1m12/12\u001b[0m \u001b[32m━━━━━━━━━━━━━━━━━━━━\u001b[0m\u001b[37m\u001b[0m \u001b[1m0s\u001b[0m 17ms/step\n"
     ]
    },
    {
     "name": "stderr",
     "output_type": "stream",
     "text": [
      "Classifying 2_u00036s00001hw00005.svc:  80%|████████  | 146/182 [03:46<00:56,  1.57s/file]"
     ]
    },
    {
     "name": "stdout",
     "output_type": "stream",
     "text": [
      "2_u00036s00001hw00005.svc: Predicted Emotion - Anxiety | Confidence Levels: Anxiety: 94.06%, Normal: 4.29%, Depression: 1.64%, Stress: 0.02%\n",
      "\u001b[1m92/92\u001b[0m \u001b[32m━━━━━━━━━━━━━━━━━━━━\u001b[0m\u001b[37m\u001b[0m \u001b[1m2s\u001b[0m 16ms/step\n"
     ]
    },
    {
     "name": "stderr",
     "output_type": "stream",
     "text": [
      "Classifying 2_u00036s00001hw00006.svc:  81%|████████  | 147/182 [03:48<00:59,  1.69s/file]"
     ]
    },
    {
     "name": "stdout",
     "output_type": "stream",
     "text": [
      "2_u00036s00001hw00006.svc: Predicted Emotion - Anxiety | Confidence Levels: Anxiety: 43.11%, Normal: 31.28%, Depression: 25.60%, Stress: 0.01%\n",
      "\u001b[1m129/129\u001b[0m \u001b[32m━━━━━━━━━━━━━━━━━━━━\u001b[0m\u001b[37m\u001b[0m \u001b[1m2s\u001b[0m 15ms/step\n"
     ]
    },
    {
     "name": "stderr",
     "output_type": "stream",
     "text": [
      "Classifying 2_u00036s00001hw00007.svc:  81%|████████▏ | 148/182 [03:51<01:04,  1.91s/file]"
     ]
    },
    {
     "name": "stdout",
     "output_type": "stream",
     "text": [
      "2_u00036s00001hw00007.svc: Predicted Emotion - Normal | Confidence Levels: Normal: 40.49%, Anxiety: 35.72%, Depression: 23.78%, Stress: 0.01%\n",
      "\u001b[1m80/80\u001b[0m \u001b[32m━━━━━━━━━━━━━━━━━━━━\u001b[0m\u001b[37m\u001b[0m \u001b[1m1s\u001b[0m 15ms/step\n"
     ]
    },
    {
     "name": "stderr",
     "output_type": "stream",
     "text": [
      "Classifying 2_u00041s00001hw00001.svc:  82%|████████▏ | 149/182 [03:52<00:59,  1.79s/file]"
     ]
    },
    {
     "name": "stdout",
     "output_type": "stream",
     "text": [
      "2_u00041s00001hw00001.svc: Predicted Emotion - Anxiety | Confidence Levels: Anxiety: 98.81%, Normal: 0.90%, Depression: 0.27%, Stress: 0.02%\n",
      "\u001b[1m106/106\u001b[0m \u001b[32m━━━━━━━━━━━━━━━━━━━━\u001b[0m\u001b[37m\u001b[0m \u001b[1m2s\u001b[0m 16ms/step\n",
      "2_u00041s00001hw00002.svc: Predicted Emotion - Anxiety | Confidence Levels: Anxiety: 96.56%, Normal: 2.43%, Depression: 0.99%, Stress: 0.02%"
     ]
    },
    {
     "name": "stderr",
     "output_type": "stream",
     "text": [
      "Classifying 2_u00041s00001hw00002.svc:  82%|████████▏ | 150/182 [03:54<01:00,  1.91s/file]"
     ]
    },
    {
     "name": "stdout",
     "output_type": "stream",
     "text": [
      "\n",
      "\u001b[1m102/102\u001b[0m \u001b[32m━━━━━━━━━━━━━━━━━━━━\u001b[0m\u001b[37m\u001b[0m \u001b[1m2s\u001b[0m 16ms/step\n"
     ]
    },
    {
     "name": "stderr",
     "output_type": "stream",
     "text": [
      "Classifying 2_u00041s00001hw00003.svc:  83%|████████▎ | 151/182 [03:56<01:00,  1.94s/file]"
     ]
    },
    {
     "name": "stdout",
     "output_type": "stream",
     "text": [
      "2_u00041s00001hw00003.svc: Predicted Emotion - Anxiety | Confidence Levels: Anxiety: 72.78%, Depression: 15.37%, Normal: 11.85%, Stress: 0.00%\n",
      "\u001b[1m13/13\u001b[0m \u001b[32m━━━━━━━━━━━━━━━━━━━━\u001b[0m\u001b[37m\u001b[0m \u001b[1m0s\u001b[0m 15ms/step\n"
     ]
    },
    {
     "name": "stderr",
     "output_type": "stream",
     "text": [
      "Classifying 2_u00041s00001hw00004.svc:  84%|████████▎ | 152/182 [03:57<00:44,  1.50s/file]"
     ]
    },
    {
     "name": "stdout",
     "output_type": "stream",
     "text": [
      "2_u00041s00001hw00004.svc: Predicted Emotion - Anxiety | Confidence Levels: Anxiety: 82.87%, Normal: 10.68%, Depression: 6.44%, Stress: 0.01%\n",
      "\u001b[1m10/10\u001b[0m \u001b[32m━━━━━━━━━━━━━━━━━━━━\u001b[0m\u001b[37m\u001b[0m \u001b[1m0s\u001b[0m 18ms/step\n",
      "2_u00041s00001hw00005.svc: Predicted Emotion - Anxiety | Confidence Levels: Anxiety: 89.52%, Normal: 6.77%, Depression: 3.70%, Stress: 0.01%"
     ]
    },
    {
     "name": "stderr",
     "output_type": "stream",
     "text": [
      "Classifying 2_u00041s00001hw00005.svc:  84%|████████▍ | 153/182 [03:57<00:34,  1.18s/file]"
     ]
    },
    {
     "name": "stdout",
     "output_type": "stream",
     "text": [
      "\n",
      "\u001b[1m86/86\u001b[0m \u001b[32m━━━━━━━━━━━━━━━━━━━━\u001b[0m\u001b[37m\u001b[0m \u001b[1m1s\u001b[0m 14ms/step\n",
      "2_u00041s00001hw00006.svc: Predicted Emotion - Depression | Confidence Levels: Depression: 37.57%, Anxiety: 34.12%, Normal: 28.31%, Stress: 0.00%"
     ]
    },
    {
     "name": "stderr",
     "output_type": "stream",
     "text": [
      "Classifying 2_u00041s00001hw00006.svc:  85%|████████▍ | 154/182 [03:59<00:37,  1.34s/file]"
     ]
    },
    {
     "name": "stdout",
     "output_type": "stream",
     "text": [
      "\n",
      "\u001b[1m110/110\u001b[0m \u001b[32m━━━━━━━━━━━━━━━━━━━━\u001b[0m\u001b[37m\u001b[0m \u001b[1m2s\u001b[0m 16ms/step\n"
     ]
    },
    {
     "name": "stderr",
     "output_type": "stream",
     "text": [
      "Classifying 2_u00041s00001hw00007.svc:  85%|████████▌ | 155/182 [04:01<00:42,  1.57s/file]"
     ]
    },
    {
     "name": "stdout",
     "output_type": "stream",
     "text": [
      "2_u00041s00001hw00007.svc: Predicted Emotion - Depression | Confidence Levels: Depression: 48.22%, Normal: 30.44%, Anxiety: 21.34%, Stress: 0.00%\n",
      "\u001b[1m59/59\u001b[0m \u001b[32m━━━━━━━━━━━━━━━━━━━━\u001b[0m\u001b[37m\u001b[0m \u001b[1m1s\u001b[0m 16ms/step\n"
     ]
    },
    {
     "name": "stderr",
     "output_type": "stream",
     "text": [
      "Classifying 2_u00042s00001hw00001.svc:  86%|████████▌ | 156/182 [04:02<00:39,  1.50s/file]"
     ]
    },
    {
     "name": "stdout",
     "output_type": "stream",
     "text": [
      "2_u00042s00001hw00001.svc: Predicted Emotion - Anxiety | Confidence Levels: Anxiety: 92.77%, Depression: 4.07%, Normal: 3.16%, Stress: 0.00%\n",
      "\u001b[1m134/134\u001b[0m \u001b[32m━━━━━━━━━━━━━━━━━━━━\u001b[0m\u001b[37m\u001b[0m \u001b[1m2s\u001b[0m 15ms/step\n"
     ]
    },
    {
     "name": "stderr",
     "output_type": "stream",
     "text": [
      "Classifying 2_u00042s00001hw00002.svc:  86%|████████▋ | 157/182 [04:05<00:45,  1.82s/file]"
     ]
    },
    {
     "name": "stdout",
     "output_type": "stream",
     "text": [
      "2_u00042s00001hw00002.svc: Predicted Emotion - Anxiety | Confidence Levels: Anxiety: 88.47%, Depression: 6.27%, Normal: 5.26%, Stress: 0.00%\n",
      "\u001b[1m150/150\u001b[0m \u001b[32m━━━━━━━━━━━━━━━━━━━━\u001b[0m\u001b[37m\u001b[0m \u001b[1m2s\u001b[0m 15ms/step\n"
     ]
    },
    {
     "name": "stderr",
     "output_type": "stream",
     "text": [
      "Classifying 2_u00042s00001hw00003.svc:  87%|████████▋ | 158/182 [04:08<00:50,  2.10s/file]"
     ]
    },
    {
     "name": "stdout",
     "output_type": "stream",
     "text": [
      "2_u00042s00001hw00003.svc: Predicted Emotion - Anxiety | Confidence Levels: Anxiety: 70.29%, Depression: 17.64%, Normal: 12.07%, Stress: 0.00%\n",
      "\u001b[1m17/17\u001b[0m \u001b[32m━━━━━━━━━━━━━━━━━━━━\u001b[0m\u001b[37m\u001b[0m \u001b[1m0s\u001b[0m 14ms/step\n"
     ]
    },
    {
     "name": "stderr",
     "output_type": "stream",
     "text": [
      "Classifying 2_u00042s00001hw00004.svc:  87%|████████▋ | 159/182 [04:08<00:36,  1.61s/file]"
     ]
    },
    {
     "name": "stdout",
     "output_type": "stream",
     "text": [
      "2_u00042s00001hw00004.svc: Predicted Emotion - Depression | Confidence Levels: Depression: 80.83%, Normal: 16.96%, Anxiety: 2.21%, Stress: 0.00%\n",
      "\u001b[1m12/12\u001b[0m \u001b[32m━━━━━━━━━━━━━━━━━━━━\u001b[0m\u001b[37m\u001b[0m \u001b[1m0s\u001b[0m 15ms/step\n",
      "2_u00042s00001hw00005.svc: Predicted Emotion - Anxiety | Confidence Levels: Anxiety: 97.73%, Normal: 1.66%, Depression: 0.60%, Stress: 0.00%"
     ]
    },
    {
     "name": "stderr",
     "output_type": "stream",
     "text": [
      "Classifying 2_u00042s00001hw00005.svc:  88%|████████▊ | 160/182 [04:08<00:27,  1.24s/file]"
     ]
    },
    {
     "name": "stdout",
     "output_type": "stream",
     "text": [
      "\n",
      "\u001b[1m82/82\u001b[0m \u001b[32m━━━━━━━━━━━━━━━━━━━━\u001b[0m\u001b[37m\u001b[0m \u001b[1m1s\u001b[0m 16ms/step\n"
     ]
    },
    {
     "name": "stderr",
     "output_type": "stream",
     "text": [
      "Classifying 2_u00042s00001hw00006.svc:  88%|████████▊ | 161/182 [04:10<00:29,  1.39s/file]"
     ]
    },
    {
     "name": "stdout",
     "output_type": "stream",
     "text": [
      "2_u00042s00001hw00006.svc: Predicted Emotion - Anxiety | Confidence Levels: Anxiety: 65.95%, Depression: 18.93%, Normal: 15.11%, Stress: 0.00%\n",
      "\u001b[1m121/121\u001b[0m \u001b[32m━━━━━━━━━━━━━━━━━━━━\u001b[0m\u001b[37m\u001b[0m \u001b[1m2s\u001b[0m 15ms/step\n"
     ]
    },
    {
     "name": "stderr",
     "output_type": "stream",
     "text": [
      "Classifying 2_u00042s00001hw00007.svc:  89%|████████▉ | 162/182 [04:13<00:33,  1.68s/file]"
     ]
    },
    {
     "name": "stdout",
     "output_type": "stream",
     "text": [
      "2_u00042s00001hw00007.svc: Predicted Emotion - Anxiety | Confidence Levels: Anxiety: 63.41%, Depression: 19.99%, Normal: 16.59%, Stress: 0.00%\n",
      "\u001b[1m78/78\u001b[0m \u001b[32m━━━━━━━━━━━━━━━━━━━━\u001b[0m\u001b[37m\u001b[0m \u001b[1m1s\u001b[0m 14ms/step\n"
     ]
    },
    {
     "name": "stderr",
     "output_type": "stream",
     "text": [
      "Classifying 2_u00043s00001hw00001.svc:  90%|████████▉ | 163/182 [04:14<00:30,  1.61s/file]"
     ]
    },
    {
     "name": "stdout",
     "output_type": "stream",
     "text": [
      "2_u00043s00001hw00001.svc: Predicted Emotion - Anxiety | Confidence Levels: Anxiety: 70.19%, Depression: 15.22%, Normal: 14.60%, Stress: 0.00%\n",
      "\u001b[1m111/111\u001b[0m \u001b[32m━━━━━━━━━━━━━━━━━━━━\u001b[0m\u001b[37m\u001b[0m \u001b[1m2s\u001b[0m 18ms/step\n"
     ]
    },
    {
     "name": "stderr",
     "output_type": "stream",
     "text": [
      "Classifying 2_u00043s00001hw00002.svc:  90%|█████████ | 164/182 [04:16<00:33,  1.87s/file]"
     ]
    },
    {
     "name": "stdout",
     "output_type": "stream",
     "text": [
      "2_u00043s00001hw00002.svc: Predicted Emotion - Anxiety | Confidence Levels: Anxiety: 84.37%, Depression: 8.61%, Normal: 7.02%, Stress: 0.00%\n",
      "\u001b[1m130/130\u001b[0m \u001b[32m━━━━━━━━━━━━━━━━━━━━\u001b[0m\u001b[37m\u001b[0m \u001b[1m2s\u001b[0m 15ms/step\n"
     ]
    },
    {
     "name": "stderr",
     "output_type": "stream",
     "text": [
      "Classifying 2_u00043s00001hw00003.svc:  91%|█████████ | 165/182 [04:19<00:34,  2.03s/file]"
     ]
    },
    {
     "name": "stdout",
     "output_type": "stream",
     "text": [
      "2_u00043s00001hw00003.svc: Predicted Emotion - Anxiety | Confidence Levels: Anxiety: 68.04%, Depression: 17.84%, Normal: 14.12%, Stress: 0.00%\n",
      "\u001b[1m12/12\u001b[0m \u001b[32m━━━━━━━━━━━━━━━━━━━━\u001b[0m\u001b[37m\u001b[0m \u001b[1m0s\u001b[0m 13ms/step\n"
     ]
    },
    {
     "name": "stderr",
     "output_type": "stream",
     "text": [
      "Classifying 2_u00043s00001hw00004.svc:  91%|█████████ | 166/182 [04:19<00:24,  1.54s/file]"
     ]
    },
    {
     "name": "stdout",
     "output_type": "stream",
     "text": [
      "2_u00043s00001hw00004.svc: Predicted Emotion - Depression | Confidence Levels: Depression: 85.18%, Normal: 13.24%, Anxiety: 1.57%, Stress: 0.00%\n",
      "\u001b[1m5/5\u001b[0m \u001b[32m━━━━━━━━━━━━━━━━━━━━\u001b[0m\u001b[37m\u001b[0m \u001b[1m0s\u001b[0m 14ms/step\n"
     ]
    },
    {
     "name": "stderr",
     "output_type": "stream",
     "text": [
      "Classifying 2_u00043s00001hw00005.svc:  92%|█████████▏| 167/182 [04:20<00:17,  1.16s/file]"
     ]
    },
    {
     "name": "stdout",
     "output_type": "stream",
     "text": [
      "2_u00043s00001hw00005.svc: Predicted Emotion - Anxiety | Confidence Levels: Anxiety: 95.03%, Normal: 3.10%, Depression: 1.87%, Stress: 0.00%\n",
      "\u001b[1m65/65\u001b[0m \u001b[32m━━━━━━━━━━━━━━━━━━━━\u001b[0m\u001b[37m\u001b[0m \u001b[1m1s\u001b[0m 15ms/step\n"
     ]
    },
    {
     "name": "stderr",
     "output_type": "stream",
     "text": [
      "Classifying 2_u00043s00001hw00006.svc:  92%|█████████▏| 168/182 [04:21<00:17,  1.25s/file]"
     ]
    },
    {
     "name": "stdout",
     "output_type": "stream",
     "text": [
      "2_u00043s00001hw00006.svc: Predicted Emotion - Anxiety | Confidence Levels: Anxiety: 48.01%, Depression: 36.53%, Normal: 15.46%, Stress: 0.00%\n",
      "\u001b[1m82/82\u001b[0m \u001b[32m━━━━━━━━━━━━━━━━━━━━\u001b[0m\u001b[37m\u001b[0m \u001b[1m1s\u001b[0m 16ms/step\n"
     ]
    },
    {
     "name": "stderr",
     "output_type": "stream",
     "text": [
      "Classifying 2_u00043s00001hw00007.svc:  93%|█████████▎| 169/182 [04:23<00:18,  1.40s/file]"
     ]
    },
    {
     "name": "stdout",
     "output_type": "stream",
     "text": [
      "2_u00043s00001hw00007.svc: Predicted Emotion - Anxiety | Confidence Levels: Anxiety: 55.99%, Depression: 26.72%, Normal: 17.29%, Stress: 0.00%\n",
      "\u001b[1m67/67\u001b[0m \u001b[32m━━━━━━━━━━━━━━━━━━━━\u001b[0m\u001b[37m\u001b[0m \u001b[1m1s\u001b[0m 14ms/step\n"
     ]
    },
    {
     "name": "stderr",
     "output_type": "stream",
     "text": [
      "Classifying 3_u00020s00001hw00001.svc:  93%|█████████▎| 170/182 [04:24<00:16,  1.35s/file]"
     ]
    },
    {
     "name": "stdout",
     "output_type": "stream",
     "text": [
      "3_u00020s00001hw00001.svc: Predicted Emotion - Stress | Confidence Levels: Stress: 96.93%, Normal: 1.97%, Depression: 1.09%, Anxiety: 0.01%\n",
      "\u001b[1m100/100\u001b[0m \u001b[32m━━━━━━━━━━━━━━━━━━━━\u001b[0m\u001b[37m\u001b[0m \u001b[1m2s\u001b[0m 15ms/step\n",
      "3_u00020s00001hw00002.svc: Predicted Emotion - Stress | Confidence Levels: Stress: 96.98%, Normal: 2.83%, Depression: 0.18%, Anxiety: 0.01%"
     ]
    },
    {
     "name": "stderr",
     "output_type": "stream",
     "text": [
      "Classifying 3_u00020s00001hw00002.svc:  94%|█████████▍| 171/182 [04:26<00:16,  1.50s/file]"
     ]
    },
    {
     "name": "stdout",
     "output_type": "stream",
     "text": [
      "\n",
      "\u001b[1m102/102\u001b[0m \u001b[32m━━━━━━━━━━━━━━━━━━━━\u001b[0m\u001b[37m\u001b[0m \u001b[1m2s\u001b[0m 15ms/step\n"
     ]
    },
    {
     "name": "stderr",
     "output_type": "stream",
     "text": [
      "Classifying 3_u00020s00001hw00003.svc:  95%|█████████▍| 172/182 [04:28<00:16,  1.63s/file]"
     ]
    },
    {
     "name": "stdout",
     "output_type": "stream",
     "text": [
      "3_u00020s00001hw00003.svc: Predicted Emotion - Stress | Confidence Levels: Stress: 97.23%, Normal: 2.66%, Depression: 0.06%, Anxiety: 0.04%\n",
      "\u001b[1m105/105\u001b[0m \u001b[32m━━━━━━━━━━━━━━━━━━━━\u001b[0m\u001b[37m\u001b[0m \u001b[1m2s\u001b[0m 15ms/step\n",
      "3_u00020s00001hw00003old.svc: Predicted Emotion - Stress | Confidence Levels: Stress: 97.21%, Normal: 2.68%, Depression: 0.07%, Anxiety: 0.04%"
     ]
    },
    {
     "name": "stderr",
     "output_type": "stream",
     "text": [
      "Classifying 3_u00020s00001hw00003old.svc:  95%|█████████▌| 173/182 [04:30<00:15,  1.75s/file]"
     ]
    },
    {
     "name": "stdout",
     "output_type": "stream",
     "text": [
      "\n",
      "\u001b[1m30/30\u001b[0m \u001b[32m━━━━━━━━━━━━━━━━━━━━\u001b[0m\u001b[37m\u001b[0m \u001b[1m1s\u001b[0m 15ms/step\n"
     ]
    },
    {
     "name": "stderr",
     "output_type": "stream",
     "text": [
      "Classifying 3_u00020s00001hw00004.svc:  96%|█████████▌| 174/182 [04:31<00:11,  1.44s/file]   "
     ]
    },
    {
     "name": "stdout",
     "output_type": "stream",
     "text": [
      "3_u00020s00001hw00004.svc: Predicted Emotion - Stress | Confidence Levels: Stress: 67.12%, Normal: 16.59%, Anxiety: 16.09%, Depression: 0.20%\n",
      "\u001b[1m39/39\u001b[0m \u001b[32m━━━━━━━━━━━━━━━━━━━━\u001b[0m\u001b[37m\u001b[0m \u001b[1m1s\u001b[0m 16ms/step\n"
     ]
    },
    {
     "name": "stderr",
     "output_type": "stream",
     "text": [
      "Classifying 3_u00020s00001hw00005.svc:  96%|█████████▌| 175/182 [04:31<00:08,  1.28s/file]"
     ]
    },
    {
     "name": "stdout",
     "output_type": "stream",
     "text": [
      "3_u00020s00001hw00005.svc: Predicted Emotion - Stress | Confidence Levels: Stress: 97.98%, Normal: 1.39%, Anxiety: 0.61%, Depression: 0.01%\n",
      "\u001b[1m73/73\u001b[0m \u001b[32m━━━━━━━━━━━━━━━━━━━━\u001b[0m\u001b[37m\u001b[0m \u001b[1m1s\u001b[0m 14ms/step\n",
      "3_u00020s00001hw00006.svc: Predicted Emotion - Anxiety | Confidence Levels: Anxiety: 58.78%, Normal: 35.33%, Depression: 5.31%, Stress: 0.57%"
     ]
    },
    {
     "name": "stderr",
     "output_type": "stream",
     "text": [
      "Classifying 3_u00020s00001hw00006.svc:  97%|█████████▋| 176/182 [04:33<00:07,  1.33s/file]"
     ]
    },
    {
     "name": "stdout",
     "output_type": "stream",
     "text": [
      "\n",
      "\u001b[1m93/93\u001b[0m \u001b[32m━━━━━━━━━━━━━━━━━━━━\u001b[0m\u001b[37m\u001b[0m \u001b[1m1s\u001b[0m 15ms/step\n"
     ]
    },
    {
     "name": "stderr",
     "output_type": "stream",
     "text": [
      "Classifying 3_u00020s00001hw00007.svc:  97%|█████████▋| 177/182 [04:35<00:07,  1.48s/file]"
     ]
    },
    {
     "name": "stdout",
     "output_type": "stream",
     "text": [
      "3_u00020s00001hw00007.svc: Predicted Emotion - Anxiety | Confidence Levels: Anxiety: 37.19%, Normal: 29.24%, Stress: 27.56%, Depression: 6.01%\n",
      "\u001b[1m67/67\u001b[0m \u001b[32m━━━━━━━━━━━━━━━━━━━━\u001b[0m\u001b[37m\u001b[0m \u001b[1m1s\u001b[0m 14ms/step\n",
      "3_u00021s00001hw00001.svc: Predicted Emotion - Stress | Confidence Levels: Stress: 96.93%, Normal: 1.97%, Depression: 1.09%, Anxiety: 0.01%"
     ]
    },
    {
     "name": "stderr",
     "output_type": "stream",
     "text": [
      "Classifying 3_u00021s00001hw00001.svc:  98%|█████████▊| 178/182 [04:36<00:05,  1.41s/file]"
     ]
    },
    {
     "name": "stdout",
     "output_type": "stream",
     "text": [
      "\n",
      "\u001b[1m100/100\u001b[0m \u001b[32m━━━━━━━━━━━━━━━━━━━━\u001b[0m\u001b[37m\u001b[0m \u001b[1m2s\u001b[0m 15ms/step\n"
     ]
    },
    {
     "name": "stderr",
     "output_type": "stream",
     "text": [
      "Classifying 3_u00021s00001hw00002.svc:  98%|█████████▊| 179/182 [04:38<00:04,  1.54s/file]"
     ]
    },
    {
     "name": "stdout",
     "output_type": "stream",
     "text": [
      "3_u00021s00001hw00002.svc: Predicted Emotion - Stress | Confidence Levels: Stress: 96.98%, Normal: 2.83%, Depression: 0.18%, Anxiety: 0.01%\n",
      "\u001b[1m105/105\u001b[0m \u001b[32m━━━━━━━━━━━━━━━━━━━━\u001b[0m\u001b[37m\u001b[0m \u001b[1m2s\u001b[0m 16ms/step\n"
     ]
    },
    {
     "name": "stderr",
     "output_type": "stream",
     "text": [
      "Classifying 3_u00021s00001hw00003.svc:  99%|█████████▉| 180/182 [04:40<00:03,  1.69s/file]"
     ]
    },
    {
     "name": "stdout",
     "output_type": "stream",
     "text": [
      "3_u00021s00001hw00003.svc: Predicted Emotion - Stress | Confidence Levels: Stress: 97.21%, Normal: 2.68%, Depression: 0.07%, Anxiety: 0.04%\n",
      "\u001b[1m30/30\u001b[0m \u001b[32m━━━━━━━━━━━━━━━━━━━━\u001b[0m\u001b[37m\u001b[0m \u001b[1m1s\u001b[0m 15ms/step\n"
     ]
    },
    {
     "name": "stderr",
     "output_type": "stream",
     "text": [
      "Classifying 3_u00021s00001hw00004.svc:  99%|█████████▉| 181/182 [04:41<00:01,  1.40s/file]"
     ]
    },
    {
     "name": "stdout",
     "output_type": "stream",
     "text": [
      "3_u00021s00001hw00004.svc: Predicted Emotion - Stress | Confidence Levels: Stress: 67.12%, Normal: 16.59%, Anxiety: 16.09%, Depression: 0.20%\n",
      "\u001b[1m39/39\u001b[0m \u001b[32m━━━━━━━━━━━━━━━━━━━━\u001b[0m\u001b[37m\u001b[0m \u001b[1m1s\u001b[0m 15ms/step\n",
      "3_u00021s00001hw00005.svc: Predicted Emotion - Stress | Confidence Levels: Stress: 97.98%, Normal: 1.39%, Anxiety: 0.61%, Depression: 0.01%\n"
     ]
    },
    {
     "name": "stderr",
     "output_type": "stream",
     "text": [
      "Classifying 3_u00021s00001hw00005.svc: 100%|██████████| 182/182 [04:41<00:00,  1.55s/file]"
     ]
    },
    {
     "name": "stdout",
     "output_type": "stream",
     "text": [
      "\n",
      "Overall Classification Accuracy: 62.09%\n"
     ]
    },
    {
     "name": "stderr",
     "output_type": "stream",
     "text": [
      "\n"
     ]
    },
    {
     "name": "stdout",
     "output_type": "stream",
     "text": [
      "\n",
      "Detailed Classification Report saved to ./classification_report.txt\n",
      "              precision    recall  f1-score   support\n",
      "\n",
      "      Normal       0.72      0.74      0.73        92\n",
      "  Depression       0.46      0.61      0.52        28\n",
      "     Anxiety       0.74      0.35      0.47        49\n",
      "      Stress       0.41      0.85      0.55        13\n",
      "\n",
      "    accuracy                           0.62       182\n",
      "   macro avg       0.58      0.63      0.57       182\n",
      "weighted avg       0.66      0.62      0.61       182\n",
      "\n"
     ]
    },
    {
     "data": {
      "image/png": "[encoded data removed]",
      "text/plain": [
       "<Figure size 1000x800 with 2 Axes>"
      ]
     },
     "metadata": {},
     "output_type": "display_data"
    },
    {
     "name": "stdout",
     "output_type": "stream",
     "text": [
      "\n",
      "Results saved to ./classification_results.xlsx\n",
      "Detailed results saved to ./classification_results.txt\n",
      "Confusion matrix saved to ./classification_results.xlsx (Confusion Matrix sheet)\n",
      "Classification report saved to ./classification_report.txt\n"
     ]
    }
   ],
   "source": [
    "# Cell 6 - Import additional library for exporting to Excel\n",
    "import xlsxwriter\n",
    "\n",
    "# Update the classify_directory function to include label verification and export to Excel\n",
    "def classify_directory_with_labels(model_path, scaler_path, directory_path, output_excel, results_txt):\n",
    "    \"\"\"\n",
    "    Classify all .svc files in a directory, verify classifications against labels in filenames,\n",
    "    and export results to Excel and txt\n",
    "    \"\"\"\n",
    "    # Clear existing results file\n",
    "    open(results_txt, 'w').close()\n",
    "    \n",
    "    results = []\n",
    "    label_map = {'0': 'Normal', '1': 'Depression', '2': 'Anxiety', '3': 'Stress'}\n",
    "    \n",
    "    # Find all .svc files\n",
    "    file_paths = glob.glob(os.path.join(directory_path, \"*.svc\"))\n",
    "    \n",
    "    if not file_paths:\n",
    "        raise ValueError(\"No .svc files found in the directory\")\n",
    "    \n",
    "    for file_path in file_paths:\n",
    "        try:\n",
    "            # Extract true label from filename\n",
    "            filename = os.path.basename(file_path)\n",
    "            label_key = filename[0]\n",
    "            true_label = label_map.get(label_key)\n",
    "            \n",
    "            # Classify the file\n",
    "            predicted_emotion, emotion_confidences = classify_emotion(\n",
    "                model_path, scaler_path, file_path, results_txt\n",
    "            )\n",
    "            \n",
    "            # Check if the prediction is correct\n",
    "            is_correct = predicted_emotion == true_label\n",
    "            \n",
    "            # Store the result if classification was correct\n",
    "            if is_correct:\n",
    "                confidence = next(conf[1] for conf in emotion_confidences if conf[0] == predicted_emotion)\n",
    "                results.append({\n",
    "                    'file': filename,\n",
    "                    'true_label': true_label,\n",
    "                    'predicted_emotion': predicted_emotion,\n",
    "                    'confidence': confidence\n",
    "                })\n",
    "                \n",
    "        except Exception as e:\n",
    "            print(f\"Error processing {file_path}: {e}\")\n",
    "            continue\n",
    "    \n",
    "    # Convert results to a DataFrame and export to Excel\n",
    "    df_results = pd.DataFrame(results)\n",
    "    with pd.ExcelWriter(output_excel, engine='xlsxwriter') as writer:\n",
    "        df_results.to_excel(writer, sheet_name='Correct Classifications', index=False)\n",
    "    \n",
    "    print(f\"Results saved to {output_excel} and {results_txt}\")\n",
    "\n",
    "# Cell 7 - Run the classifier with directory and export results\n",
    "# Set the paths\n",
    "model_path = '../trainmodel/original.keras'\n",
    "scaler_path = '../trainmodel/original.save'\n",
    "input_directory = '../test/test_data/'\n",
    "output_excel = './classification_results.xlsx'\n",
    "results_txt = './classification_results.txt'\n",
    "classification_report_file = './classification_report.txt'\n",
    "\n",
    "# Define class labels here to resolve the undefined variable issue\n",
    "class_labels = ['Normal', 'Depression', 'Anxiety', 'Stress']\n",
    "\n",
    "# Run batch classification\n",
    "try:\n",
    "    # Batch classify files\n",
    "    classification_results, confusion_matrix_data, overall_accuracy, true_labels, predicted_labels = batch_classify_emotions(\n",
    "        model_path, scaler_path, input_directory, results_txt\n",
    "    )\n",
    "    \n",
    "    # Export results to Excel\n",
    "    with pd.ExcelWriter(output_excel, engine='xlsxwriter') as writer:\n",
    "        classification_results.to_excel(writer, sheet_name='Classification Results', index=False)\n",
    "        \n",
    "        # Create a separate sheet for confusion matrix\n",
    "        cm_df = pd.DataFrame(confusion_matrix_data, \n",
    "                             index=['Actual ' + label for label in class_labels], \n",
    "                             columns=['Predicted ' + label for label in class_labels])\n",
    "        cm_df.to_excel(writer, sheet_name='Confusion Matrix')\n",
    "    \n",
    "    # Generate detailed classification report\n",
    "    create_classification_report(true_labels, predicted_labels, \n",
    "                                 class_labels, \n",
    "                                 classification_report_file)\n",
    "    \n",
    "    # Plot confusion matrix\n",
    "    plot_confusion_matrix(confusion_matrix_data, class_labels)\n",
    "    \n",
    "    print(f\"\\nResults saved to {output_excel}\")\n",
    "    print(f\"Detailed results saved to {results_txt}\")\n",
    "    print(f\"Confusion matrix saved to {output_excel} (Confusion Matrix sheet)\")\n",
    "    print(f\"Classification report saved to {classification_report_file}\")\n",
    "\n",
    "except Exception as e:\n",
    "    print(f\"Error during classification: {e}\")"
   ]
  },
  {
   "cell_type": "code",
   "execution_count": null,
   "metadata": {},
   "outputs": [],
   "source": []
  }
 ],
 "metadata": {
  "kernelspec": {
   "display_name": "Python 3",
   "language": "python",
   "name": "python3"
  },
  "language_info": {
   "codemirror_mode": {
    "name": "ipython",
    "version": 3
   },
   "file_extension": ".py",
   "mimetype": "text/x-python",
   "name": "python",
   "nbconvert_exporter": "python",
   "pygments_lexer": "ipython3",
   "version": "3.12.6"
  }
 },
 "nbformat": 4,
 "nbformat_minor": 2
}
