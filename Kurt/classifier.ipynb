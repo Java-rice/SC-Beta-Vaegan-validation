{
 "cells": [
  {
   "cell_type": "code",
   "execution_count": 1,
   "metadata": {},
   "outputs": [],
   "source": [
    "# Cell 1 - Import required libraries\n",
    "import numpy as np\n",
    "import pandas as pd\n",
    "import glob\n",
    "import os\n",
    "import tensorflow as tf\n",
    "from scipy.stats import skew, kurtosis\n",
    "from sklearn.preprocessing import StandardScaler\n",
    "from tensorflow.keras.models import load_model\n",
    "from tensorflow.keras import layers, Model\n",
    "from tensorflow.keras.regularizers import l2\n",
    "from tensorflow.keras.saving import register_keras_serializable\n",
    "import joblib\n",
    "import xlsxwriter\n",
    "from tqdm import tqdm\n",
    "from sklearn.metrics import confusion_matrix, classification_report\n",
    "from tensorflow.keras.models import load_model\n",
    "from scipy.stats import skew, kurtosis\n",
    "import matplotlib.pyplot as plt\n",
    "import seaborn as sns"
   ]
  },
  {
   "cell_type": "code",
   "execution_count": 2,
   "metadata": {},
   "outputs": [],
   "source": [
    "# Cell 2 - Define Transformer model classes (needed for loading the saved model)\n",
    "@register_keras_serializable()\n",
    "class MultiHeadSelfAttention(layers.Layer):\n",
    "    def __init__(self, embed_dim, num_heads, dropout_rate=0.1, **kwargs):\n",
    "        super().__init__(**kwargs)\n",
    "        self.embed_dim = embed_dim\n",
    "        self.num_heads = num_heads\n",
    "        self.dropout_rate = dropout_rate\n",
    "        if embed_dim % num_heads != 0:\n",
    "            raise ValueError(f\"embedding dimension = {embed_dim} should be divisible by number of heads = {num_heads}\")\n",
    "        self.projection_dim = embed_dim // num_heads\n",
    "        self.query_dense = layers.Dense(embed_dim, kernel_regularizer=l2(0.01))\n",
    "        self.key_dense = layers.Dense(embed_dim, kernel_regularizer=l2(0.01))\n",
    "        self.value_dense = layers.Dense(embed_dim, kernel_regularizer=l2(0.01))\n",
    "        self.combine_heads = layers.Dense(embed_dim, kernel_regularizer=l2(0.01))\n",
    "        self.dropout = layers.Dropout(dropout_rate)\n",
    "    \n",
    "    def get_config(self):\n",
    "        config = super().get_config()\n",
    "        config.update({\n",
    "            \"embed_dim\": self.embed_dim,\n",
    "            \"num_heads\": self.num_heads,\n",
    "            \"dropout_rate\": self.dropout_rate,\n",
    "        })\n",
    "        return config\n",
    "\n",
    "    def attention(self, query, key, value):\n",
    "        score = tf.matmul(query, key, transpose_b=True)\n",
    "        dim_key = tf.cast(tf.shape(key)[-1], tf.float32)\n",
    "        scaled_score = score / tf.math.sqrt(dim_key)\n",
    "        weights = tf.nn.softmax(scaled_score, axis=-1)\n",
    "        weights = self.dropout(weights)\n",
    "        output = tf.matmul(weights, value)\n",
    "        return output, weights\n",
    "\n",
    "    def separate_heads(self, x, batch_size):\n",
    "        x = tf.reshape(x, (batch_size, -1, self.num_heads, self.projection_dim))\n",
    "        return tf.transpose(x, perm=[0, 2, 1, 3])\n",
    "\n",
    "    def call(self, inputs, training=False):\n",
    "        batch_size = tf.shape(inputs)[0]\n",
    "        query = self.query_dense(inputs)\n",
    "        key = self.key_dense(inputs)\n",
    "        value = self.value_dense(inputs)\n",
    "        query = self.separate_heads(query, batch_size)\n",
    "        key = self.separate_heads(key, batch_size)\n",
    "        value = self.separate_heads(value, batch_size)\n",
    "        attention, weights = self.attention(query, key, value)\n",
    "        attention = tf.transpose(attention, perm=[0, 2, 1, 3])\n",
    "        concat_attention = tf.reshape(attention, (batch_size, -1, self.embed_dim))\n",
    "        output = self.combine_heads(concat_attention)\n",
    "        return output\n",
    "\n",
    "@register_keras_serializable()\n",
    "class TransformerBlock(layers.Layer):\n",
    "    def __init__(self, embed_dim, num_heads, ff_dim, rate=0.2, **kwargs):\n",
    "        super().__init__(**kwargs)\n",
    "        self.embed_dim = embed_dim\n",
    "        self.num_heads = num_heads\n",
    "        self.ff_dim = ff_dim\n",
    "        self.rate = rate\n",
    "        self.att = MultiHeadSelfAttention(embed_dim, num_heads, rate)\n",
    "        self.ffn = tf.keras.Sequential([\n",
    "            layers.Dense(ff_dim, activation=\"relu\", kernel_regularizer=l2(0.01)),\n",
    "            layers.Dropout(rate),\n",
    "            layers.Dense(embed_dim, kernel_regularizer=l2(0.01))\n",
    "        ])\n",
    "        self.layernorm1 = layers.LayerNormalization(epsilon=1e-6)\n",
    "        self.layernorm2 = layers.LayerNormalization(epsilon=1e-6)\n",
    "        self.dropout1 = layers.Dropout(rate)\n",
    "        self.dropout2 = layers.Dropout(rate)\n",
    "\n",
    "    def get_config(self):\n",
    "        config = super().get_config()\n",
    "        config.update({\n",
    "            \"embed_dim\": self.embed_dim,\n",
    "            \"num_heads\": self.num_heads,\n",
    "            \"ff_dim\": self.ff_dim,\n",
    "            \"rate\": self.rate,\n",
    "        })\n",
    "        return config\n",
    "\n",
    "    def call(self, inputs, training=False):\n",
    "        attn_output = self.att(inputs, training=training)\n",
    "        attn_output = self.dropout1(attn_output, training=training)\n",
    "        out1 = self.layernorm1(inputs + attn_output)\n",
    "        ffn_output = self.ffn(out1)\n",
    "        ffn_output = self.dropout2(ffn_output, training=training)\n",
    "        return self.layernorm2(out1 + ffn_output)\n",
    "\n",
    "@register_keras_serializable()\n",
    "class TransformerClassifier(Model):\n",
    "    def __init__(self, num_classes, embed_dim, num_heads, ff_dim, num_layers, **kwargs):\n",
    "        super().__init__(**kwargs)\n",
    "        self.num_classes = num_classes\n",
    "        self.embed_dim = embed_dim\n",
    "        self.num_heads = num_heads\n",
    "        self.ff_dim = ff_dim\n",
    "        self.num_layers = num_layers\n",
    "        \n",
    "        self.input_norm = layers.BatchNormalization()\n",
    "        self.dense_input = layers.Dense(embed_dim, kernel_regularizer=l2(0.01))\n",
    "        self.input_dropout = layers.Dropout(0.2)\n",
    "        \n",
    "        self.transformer_blocks = [\n",
    "            TransformerBlock(embed_dim, num_heads, ff_dim) for _ in range(num_layers)\n",
    "        ]\n",
    "        \n",
    "        self.global_average_pooling = layers.GlobalAveragePooling1D()\n",
    "        self.dropout1 = layers.Dropout(0.2)\n",
    "        self.dense1 = layers.Dense(128, activation='relu', kernel_regularizer=l2(0.01))\n",
    "        self.dropout2 = layers.Dropout(0.2)\n",
    "        self.dense2 = layers.Dense(num_classes, activation='softmax', kernel_regularizer=l2(0.01))\n",
    "\n",
    "    def get_config(self):\n",
    "        config = super().get_config()\n",
    "        config.update({\n",
    "            \"num_classes\": self.num_classes,\n",
    "            \"embed_dim\": self.embed_dim,\n",
    "            \"num_heads\": self.num_heads,\n",
    "            \"ff_dim\": self.ff_dim,\n",
    "            \"num_layers\": self.num_layers,\n",
    "        })\n",
    "        return config\n",
    "\n",
    "    def call(self, inputs, training=False):\n",
    "        x = self.input_norm(inputs)\n",
    "        x = self.dense_input(x)\n",
    "        x = self.input_dropout(x, training=training)\n",
    "        \n",
    "        for transformer in self.transformer_blocks:\n",
    "            x = transformer(x, training=training)\n",
    "            \n",
    "        x = self.global_average_pooling(x)\n",
    "        x = self.dropout1(x, training=training)\n",
    "        x = self.dense1(x)\n",
    "        x = self.dropout2(x, training=training)\n",
    "        return self.dense2(x)"
   ]
  },
  {
   "cell_type": "code",
   "execution_count": 3,
   "metadata": {},
   "outputs": [],
   "source": [
    "# Cell 3 - Define feature extraction functions\n",
    "def extract_time_domain_features(data):\n",
    "    \"\"\"Extract time domain features from the input data\"\"\"\n",
    "    means = np.mean(data, axis=1)\n",
    "    stds = np.std(data, axis=1)\n",
    "    mins = np.min(data, axis=1)\n",
    "    maxs = np.max(data, axis=1)\n",
    "    percentile_25 = np.percentile(data, 25, axis=1)\n",
    "    percentile_50 = np.percentile(data, 50, axis=1)\n",
    "    percentile_75 = np.percentile(data, 75, axis=1)\n",
    "    \n",
    "    time_features = np.column_stack([\n",
    "        means, stds, mins, maxs,\n",
    "        percentile_25, percentile_50, percentile_75\n",
    "    ])\n",
    "    \n",
    "    return time_features\n",
    "\n",
    "def extract_frequency_domain_features(data):\n",
    "    \"\"\"Extract frequency domain features from the input data\"\"\"\n",
    "    freq_features = np.fft.fft(data, axis=1)\n",
    "    freq_magnitude = np.abs(freq_features)\n",
    "    \n",
    "    dominant_freqs = np.argmax(freq_magnitude, axis=1)\n",
    "    freq_energies = np.sum(freq_magnitude, axis=1)\n",
    "    \n",
    "    freq_features = np.column_stack([dominant_freqs, freq_energies])\n",
    "    \n",
    "    return freq_features\n",
    "\n",
    "def extract_statistical_features(data):\n",
    "    \"\"\"Extract statistical features from the input data\"\"\"\n",
    "    means = np.mean(data, axis=1)\n",
    "    medians = np.median(data, axis=1)\n",
    "    variances = np.var(data, axis=1)\n",
    "    skewness = skew(data, axis=1)\n",
    "    kurtosis_vals = kurtosis(data, axis=1)\n",
    "    \n",
    "    statistical_features = np.column_stack([\n",
    "        means, medians, variances, skewness, kurtosis_vals\n",
    "    ])\n",
    "    \n",
    "    return statistical_features"
   ]
  },
  {
   "cell_type": "code",
   "execution_count": 4,
   "metadata": {},
   "outputs": [],
   "source": [
    "# Cell 4 - Define preprocessing and classification functions\n",
    "def load_and_preprocess_file(file_path, scaler):\n",
    "    \"\"\"\n",
    "    Load and preprocess a single file for classification\n",
    "    \"\"\"\n",
    "    try:\n",
    "        # Read the file\n",
    "        with open(file_path, 'r') as f:\n",
    "            lines = [line.strip() for line in f.readlines() if line.strip()]\n",
    "\n",
    "        # Convert to DataFrame\n",
    "        df = pd.DataFrame([line.split() for line in lines])\n",
    "        \n",
    "        if df.empty:\n",
    "            raise ValueError(f\"File is empty after processing\")\n",
    "\n",
    "        # First row contains total number of rows\n",
    "        total_rows = int(df.iloc[0, 0])\n",
    "        \n",
    "        # Extract feature data\n",
    "        data = df.iloc[1:, :].values\n",
    "        \n",
    "        # Ensure each row has 7 features\n",
    "        reshaped_data = []\n",
    "        for row in data:\n",
    "            if len(row) == 7:\n",
    "                reshaped_data.append(row)\n",
    "        \n",
    "        if not reshaped_data:\n",
    "            raise ValueError(\"No valid data rows found\")\n",
    "        \n",
    "        # Convert to numpy array\n",
    "        reshaped_data = np.array(reshaped_data, dtype=float)\n",
    "        \n",
    "        # Extract features\n",
    "        time_features = extract_time_domain_features(reshaped_data)\n",
    "        freq_features = extract_frequency_domain_features(reshaped_data)\n",
    "        stat_features = extract_statistical_features(reshaped_data)\n",
    "        \n",
    "        # Combine features\n",
    "        combined_features = np.concatenate((time_features, freq_features, stat_features), axis=1)\n",
    "        combined_features = scaler.transform(combined_features)\n",
    "        return combined_features\n",
    "        \n",
    "    except Exception as e:\n",
    "        raise Exception(f\"Error processing file {file_path}: {e}\")\n",
    "\n",
    "def batch_classify_emotions(model_path, scaler_path, directory_path, results_file):\n",
    "    \"\"\"\n",
    "    Batch classify emotions in a directory with progress bar and detailed tracking.\n",
    "    Results are logged in a file and printed in the notebook.\n",
    "    \"\"\"\n",
    "    # Load model and scaler\n",
    "    model = load_model(model_path)\n",
    "    scaler = joblib.load(scaler_path)\n",
    "    \n",
    "    # Define label mapping\n",
    "    label_map = {'0': 'Normal', '1': 'Depression', '2': 'Anxiety', '3': 'Stress'}\n",
    "    class_labels = ['Normal', 'Depression', 'Anxiety', 'Stress']\n",
    "    \n",
    "    # Find all .svc files\n",
    "    file_paths = glob.glob(os.path.join(directory_path, \"*.svc\"))\n",
    "    \n",
    "    if not file_paths:\n",
    "        raise ValueError(\"No .svc files found in the directory\")\n",
    "    \n",
    "    # Prepare dictionaries to store results\n",
    "    base_filename_correct_files = {}\n",
    "    base_filename_all_files = {}\n",
    "    true_labels = []\n",
    "    predicted_labels = []\n",
    "    classification_results = []\n",
    "    \n",
    "    # Clear existing results file\n",
    "    open(results_file, 'w').close()\n",
    "    \n",
    "    # Process files with progress bar\n",
    "    with tqdm(file_paths, desc=\"Classifying Files\", unit=\"file\") as pbar:\n",
    "        for file_path in pbar:\n",
    "            try:\n",
    "                # Extract true label from filename\n",
    "                filename = os.path.basename(file_path)\n",
    "                \n",
    "                # Extract base filename (everything before hw)\n",
    "                base_filename = filename.split('hw')[0]\n",
    "                \n",
    "                # Ensure base filename is in our tracking dictionaries\n",
    "                if base_filename not in base_filename_correct_files:\n",
    "                    base_filename_correct_files[base_filename] = []\n",
    "                if base_filename not in base_filename_all_files:\n",
    "                    base_filename_all_files[base_filename] = []\n",
    "                \n",
    "                label_key = filename[0]\n",
    "                true_label = label_map.get(label_key)\n",
    "                \n",
    "                # Preprocess file\n",
    "                features = load_and_preprocess_file(file_path, scaler)\n",
    "                \n",
    "                # Predict emotions for each row\n",
    "                predictions = model.predict(features)\n",
    "                predicted_classes = np.argmax(predictions, axis=1)\n",
    "                \n",
    "                # Find the most frequent class\n",
    "                unique_classes, class_counts = np.unique(predicted_classes, return_counts=True)\n",
    "                most_frequent_class_index = unique_classes[np.argmax(class_counts)]\n",
    "                final_prediction = class_labels[most_frequent_class_index]\n",
    "                \n",
    "                # Calculate confidence\n",
    "                confidence = (np.max(class_counts) / len(predicted_classes)) * 100\n",
    "                \n",
    "                # Detailed confidence levels\n",
    "                emotion_confidences = [\n",
    "                    (label, float(np.mean(predictions[:, i]) * 100)) \n",
    "                    for i, label in enumerate(class_labels)\n",
    "                ]\n",
    "                emotion_confidences.sort(key=lambda x: x[1], reverse=True)\n",
    "                \n",
    "                # Prepare results string\n",
    "                results_str = f\"{filename}: Predicted Emotion - {final_prediction} | \" + \\\n",
    "                              \"Confidence Levels: \" + \\\n",
    "                              \", \".join([f\"{emotion}: {conf:.2f}%\" for emotion, conf in emotion_confidences])\n",
    "                \n",
    "                # Print classification result\n",
    "                print(results_str)\n",
    "                \n",
    "                # Log results\n",
    "                with open(results_file, 'a') as f:\n",
    "                    f.write(results_str + '\\n')\n",
    "                \n",
    "                # Track classifications\n",
    "                true_labels.append(true_label)\n",
    "                predicted_labels.append(final_prediction)\n",
    "                \n",
    "                # Store classification result\n",
    "                classification_results.append({\n",
    "                    'Filename': filename,\n",
    "                    'True Label': true_label,\n",
    "                    'Predicted Label': final_prediction,\n",
    "                    **{f'{emotion} Confidence': conf for emotion, conf in emotion_confidences}\n",
    "                })\n",
    "                \n",
    "                # Track files for base filename\n",
    "                base_filename_all_files[base_filename].append(filename)\n",
    "                \n",
    "                # If classification is correct, add to correct files\n",
    "                if true_label == final_prediction:\n",
    "                    base_filename_correct_files[base_filename].append(filename)\n",
    "                \n",
    "                # Update progress bar description\n",
    "                pbar.set_description(f\"Classifying {filename}\")\n",
    "                \n",
    "            except Exception as e:\n",
    "                print(f\"Error processing {file_path}: {e}\")\n",
    "                continue\n",
    "    \n",
    "    # Calculate overall accuracy\n",
    "    accuracy = sum(t == p for t, p in zip(true_labels, predicted_labels)) / len(true_labels) * 100\n",
    "    \n",
    "    # Print overall accuracy\n",
    "    print(f\"\\nOverall Classification Accuracy: {accuracy:.2f}%\")\n",
    "    \n",
    "    # Create confusion matrix\n",
    "    cm = confusion_matrix(true_labels, predicted_labels, labels=class_labels)\n",
    "    \n",
    "    # Prepare DataFrame for classification results\n",
    "    df_results = pd.DataFrame(classification_results)\n",
    "    \n",
    "    return df_results, cm, accuracy, true_labels, predicted_labels\n",
    "\n",
    "\n",
    "def create_classification_report(true_labels, predicted_labels, class_labels, output_file):\n",
    "    \"\"\"\n",
    "    Generate a detailed classification report\n",
    "    \"\"\"\n",
    "    report = classification_report(true_labels, predicted_labels, target_names=class_labels)\n",
    "    \n",
    "    # Write report to file\n",
    "    with open(output_file, 'w') as f:\n",
    "        f.write(report)\n",
    "    \n",
    "    print(f\"\\nDetailed Classification Report saved to {output_file}\")\n",
    "    print(report)\n",
    "\n",
    "def classify_emotion(model_path, scaler_path, file_path, results_file):\n",
    "    try:\n",
    "        # Load model and scaler\n",
    "        model = load_model(model_path)\n",
    "        scaler = joblib.load(scaler_path)\n",
    "        \n",
    "        filename = os.path.basename(file_path)\n",
    "        \n",
    "        # Process the input file\n",
    "        features = load_and_preprocess_file(file_path, scaler)\n",
    "        \n",
    "        # Predict emotions for each row\n",
    "        predictions = model.predict(features)\n",
    "        \n",
    "        # Get the predicted class for each row\n",
    "        predicted_classes = np.argmax(predictions, axis=1)\n",
    "        \n",
    "        # Count occurrences of each class\n",
    "        class_labels = ['Normal', 'Depression', 'Anxiety', 'Stress']\n",
    "        unique_classes, class_counts = np.unique(predicted_classes, return_counts=True)\n",
    "        \n",
    "        # Find the most frequent class\n",
    "        most_frequent_class_index = unique_classes[np.argmax(class_counts)]\n",
    "        final_prediction = class_labels[most_frequent_class_index]\n",
    "        \n",
    "        # Calculate confidence as the proportion of rows with this prediction\n",
    "        confidence = (np.max(class_counts) / len(predicted_classes)) * 100\n",
    "        \n",
    "        # Detailed confidence levels\n",
    "        emotion_confidences = [\n",
    "            (label, float(np.mean(predictions[:, i]) * 100)) \n",
    "            for i, label in enumerate(class_labels)\n",
    "        ]\n",
    "        emotion_confidences.sort(key=lambda x: x[1], reverse=True)\n",
    "        \n",
    "        # Prepare results string\n",
    "        results_str = f\"{filename}: Predicted Emotion - {final_prediction} | \" + \\\n",
    "                      \"Confidence Levels: \" + \\\n",
    "                      \", \".join([f\"{emotion}: {conf:.2f}%\" for emotion, conf in emotion_confidences])\n",
    "        \n",
    "        # Print and log results\n",
    "        print(results_str)\n",
    "        with open(results_file, 'a') as f:\n",
    "            f.write(results_str + '\\n')\n",
    "        \n",
    "        return final_prediction, emotion_confidences\n",
    "        \n",
    "    except Exception as e:\n",
    "        error_msg = f\"Error processing {filename}: {e}\"\n",
    "        print(error_msg)\n",
    "        with open(results_file, 'a') as f:\n",
    "            f.write(error_msg + '\\n')\n",
    "        raise\n",
    "\n",
    "def plot_confusion_matrix(cm, class_labels):\n",
    "    \"\"\"\n",
    "    Plot the confusion matrix using seaborn heatmap\n",
    "    \"\"\"\n",
    "    plt.figure(figsize=(10, 8))\n",
    "    sns.heatmap(cm, annot=True, fmt='d', cmap='Blues', \n",
    "                xticklabels=class_labels, \n",
    "                yticklabels=class_labels)\n",
    "    plt.title('Confusion Matrix')\n",
    "    plt.xlabel('Predicted Label')\n",
    "    plt.ylabel('True Label')\n",
    "    plt.tight_layout()\n",
    "    plt.show()"
   ]
  },
  {
   "cell_type": "code",
   "execution_count": 6,
   "metadata": {},
   "outputs": [
    {
     "name": "stderr",
     "output_type": "stream",
     "text": [
      "Classifying Files:   0%|          | 0/182 [00:00<?, ?file/s]"
     ]
    },
    {
     "name": "stdout",
     "output_type": "stream",
     "text": [
      "\u001b[1m83/83\u001b[0m \u001b[32m━━━━━━━━━━━━━━━━━━━━\u001b[0m\u001b[37m\u001b[0m \u001b[1m3s\u001b[0m 23ms/step\n"
     ]
    },
    {
     "name": "stderr",
     "output_type": "stream",
     "text": [
      "Classifying 0_u00003s00001hw00001.svc:   1%|          | 1/182 [00:02<08:38,  2.86s/file]"
     ]
    },
    {
     "name": "stdout",
     "output_type": "stream",
     "text": [
      "0_u00003s00001hw00001.svc: Predicted Emotion - Normal | Confidence Levels: Normal: 55.03%, Depression: 32.14%, Anxiety: 12.81%, Stress: 0.02%\n",
      "\u001b[1m178/178\u001b[0m \u001b[32m━━━━━━━━━━━━━━━━━━━━\u001b[0m\u001b[37m\u001b[0m \u001b[1m3s\u001b[0m 14ms/step\n"
     ]
    },
    {
     "name": "stderr",
     "output_type": "stream",
     "text": [
      "Classifying 0_u00003s00001hw00002.svc:   1%|          | 2/182 [00:05<08:50,  2.95s/file]"
     ]
    },
    {
     "name": "stdout",
     "output_type": "stream",
     "text": [
      "0_u00003s00001hw00002.svc: Predicted Emotion - Normal | Confidence Levels: Normal: 46.44%, Depression: 31.76%, Anxiety: 21.71%, Stress: 0.09%\n",
      "\u001b[1m121/121\u001b[0m \u001b[32m━━━━━━━━━━━━━━━━━━━━\u001b[0m\u001b[37m\u001b[0m \u001b[1m2s\u001b[0m 16ms/step\n"
     ]
    },
    {
     "name": "stderr",
     "output_type": "stream",
     "text": [
      "Classifying 0_u00003s00001hw00003.svc:   2%|▏         | 3/182 [00:08<07:54,  2.65s/file]"
     ]
    },
    {
     "name": "stdout",
     "output_type": "stream",
     "text": [
      "0_u00003s00001hw00003.svc: Predicted Emotion - Normal | Confidence Levels: Normal: 51.24%, Depression: 28.60%, Anxiety: 20.15%, Stress: 0.01%\n",
      "\u001b[1m37/37\u001b[0m \u001b[32m━━━━━━━━━━━━━━━━━━━━\u001b[0m\u001b[37m\u001b[0m \u001b[1m1s\u001b[0m 14ms/step\n",
      "0_u00003s00001hw00004.svc: Predicted Emotion - Anxiety | Confidence Levels: Anxiety: 69.75%, Normal: 16.41%, Depression: 13.83%, Stress: 0.01%"
     ]
    },
    {
     "name": "stderr",
     "output_type": "stream",
     "text": [
      "Classifying 0_u00003s00001hw00004.svc:   2%|▏         | 4/182 [00:09<05:44,  1.94s/file]"
     ]
    },
    {
     "name": "stdout",
     "output_type": "stream",
     "text": [
      "\n",
      "\u001b[1m25/25\u001b[0m \u001b[32m━━━━━━━━━━━━━━━━━━━━\u001b[0m\u001b[37m\u001b[0m \u001b[1m1s\u001b[0m 18ms/step\n"
     ]
    },
    {
     "name": "stderr",
     "output_type": "stream",
     "text": [
      "Classifying 0_u00003s00001hw00005.svc:   2%|▏         | 4/182 [00:09<05:44,  1.94s/file]"
     ]
    },
    {
     "name": "stdout",
     "output_type": "stream",
     "text": [
      "0_u00003s00001hw00005.svc: Predicted Emotion - Anxiety | Confidence Levels: Anxiety: 76.42%, Normal: 14.68%, Depression: 8.31%, Stress: 0.59%\n"
     ]
    },
    {
     "name": "stderr",
     "output_type": "stream",
     "text": [
      "Classifying 0_u00003s00001hw00005.svc:   3%|▎         | 5/182 [00:09<04:29,  1.52s/file]"
     ]
    },
    {
     "name": "stdout",
     "output_type": "stream",
     "text": [
      "\u001b[1m127/127\u001b[0m \u001b[32m━━━━━━━━━━━━━━━━━━━━\u001b[0m\u001b[37m\u001b[0m \u001b[1m2s\u001b[0m 15ms/step\n",
      "0_u00003s00001hw00006.svc: Predicted Emotion - Anxiety | Confidence Levels: Anxiety: 40.91%, Depression: 33.25%, Normal: 25.66%, Stress: 0.19%\n"
     ]
    },
    {
     "name": "stderr",
     "output_type": "stream",
     "text": [
      "Classifying 0_u00003s00001hw00006.svc:   3%|▎         | 6/182 [00:12<05:15,  1.79s/file]"
     ]
    },
    {
     "name": "stdout",
     "output_type": "stream",
     "text": [
      "\u001b[1m96/96\u001b[0m \u001b[32m━━━━━━━━━━━━━━━━━━━━\u001b[0m\u001b[37m\u001b[0m \u001b[1m2s\u001b[0m 16ms/step\n"
     ]
    },
    {
     "name": "stderr",
     "output_type": "stream",
     "text": [
      "Classifying 0_u00003s00001hw00007.svc:   4%|▍         | 7/182 [00:13<05:17,  1.82s/file]"
     ]
    },
    {
     "name": "stdout",
     "output_type": "stream",
     "text": [
      "0_u00003s00001hw00007.svc: Predicted Emotion - Anxiety | Confidence Levels: Anxiety: 62.81%, Normal: 18.95%, Depression: 17.98%, Stress: 0.27%\n",
      "\u001b[1m56/56\u001b[0m \u001b[32m━━━━━━━━━━━━━━━━━━━━\u001b[0m\u001b[37m\u001b[0m \u001b[1m1s\u001b[0m 15ms/step\n"
     ]
    },
    {
     "name": "stderr",
     "output_type": "stream",
     "text": [
      "Classifying 0_u00013s00001hw00001.svc:   4%|▍         | 8/182 [00:15<04:37,  1.60s/file]"
     ]
    },
    {
     "name": "stdout",
     "output_type": "stream",
     "text": [
      "0_u00013s00001hw00001.svc: Predicted Emotion - Stress | Confidence Levels: Stress: 69.25%, Anxiety: 27.29%, Normal: 3.32%, Depression: 0.14%\n",
      "\u001b[1m120/120\u001b[0m \u001b[32m━━━━━━━━━━━━━━━━━━━━\u001b[0m\u001b[37m\u001b[0m \u001b[1m2s\u001b[0m 14ms/step\n"
     ]
    },
    {
     "name": "stderr",
     "output_type": "stream",
     "text": [
      "Classifying 0_u00013s00001hw00002.svc:   5%|▍         | 9/182 [00:17<05:01,  1.74s/file]"
     ]
    },
    {
     "name": "stdout",
     "output_type": "stream",
     "text": [
      "0_u00013s00001hw00002.svc: Predicted Emotion - Anxiety | Confidence Levels: Anxiety: 87.30%, Stress: 7.89%, Normal: 4.49%, Depression: 0.33%\n",
      "\u001b[1m120/120\u001b[0m \u001b[32m━━━━━━━━━━━━━━━━━━━━\u001b[0m\u001b[37m\u001b[0m \u001b[1m2s\u001b[0m 16ms/step\n"
     ]
    },
    {
     "name": "stderr",
     "output_type": "stream",
     "text": [
      "Classifying 0_u00013s00001hw00003.svc:   5%|▍         | 9/182 [00:19<05:01,  1.74s/file]"
     ]
    },
    {
     "name": "stdout",
     "output_type": "stream",
     "text": [
      "0_u00013s00001hw00003.svc: Predicted Emotion - Anxiety | Confidence Levels: Anxiety: 92.31%, Normal: 5.32%, Depression: 2.35%, Stress: 0.02%\n"
     ]
    },
    {
     "name": "stderr",
     "output_type": "stream",
     "text": [
      "Classifying 0_u00013s00001hw00003.svc:   5%|▌         | 10/182 [00:19<05:27,  1.90s/file]"
     ]
    },
    {
     "name": "stdout",
     "output_type": "stream",
     "text": [
      "\u001b[1m22/22\u001b[0m \u001b[32m━━━━━━━━━━━━━━━━━━━━\u001b[0m\u001b[37m\u001b[0m \u001b[1m0s\u001b[0m 13ms/step\n"
     ]
    },
    {
     "name": "stderr",
     "output_type": "stream",
     "text": [
      "Classifying 0_u00013s00001hw00004.svc:   6%|▌         | 11/182 [00:19<04:14,  1.49s/file]"
     ]
    },
    {
     "name": "stdout",
     "output_type": "stream",
     "text": [
      "0_u00013s00001hw00004.svc: Predicted Emotion - Anxiety | Confidence Levels: Anxiety: 60.29%, Normal: 20.94%, Depression: 18.74%, Stress: 0.02%\n",
      "\u001b[1m19/19\u001b[0m \u001b[32m━━━━━━━━━━━━━━━━━━━━\u001b[0m\u001b[37m\u001b[0m \u001b[1m0s\u001b[0m 14ms/step\n",
      "0_u00013s00001hw00005.svc: Predicted Emotion - Anxiety | Confidence Levels: Anxiety: 96.55%, Normal: 2.76%, Depression: 0.67%, Stress: 0.03%"
     ]
    },
    {
     "name": "stderr",
     "output_type": "stream",
     "text": [
      "Classifying 0_u00013s00001hw00005.svc:   7%|▋         | 12/182 [00:20<03:22,  1.19s/file]"
     ]
    },
    {
     "name": "stdout",
     "output_type": "stream",
     "text": [
      "\n",
      "\u001b[1m140/140\u001b[0m \u001b[32m━━━━━━━━━━━━━━━━━━━━\u001b[0m\u001b[37m\u001b[0m \u001b[1m2s\u001b[0m 14ms/step\n",
      "0_u00013s00001hw00006.svc: Predicted Emotion - Normal | Confidence Levels: Normal: 34.05%, Depression: 33.35%, Anxiety: 32.60%, Stress: 0.00%"
     ]
    },
    {
     "name": "stderr",
     "output_type": "stream",
     "text": [
      "Classifying 0_u00013s00001hw00006.svc:   7%|▋         | 13/182 [00:22<04:20,  1.54s/file]"
     ]
    },
    {
     "name": "stdout",
     "output_type": "stream",
     "text": [
      "\n",
      "\u001b[1m122/122\u001b[0m \u001b[32m━━━━━━━━━━━━━━━━━━━━\u001b[0m\u001b[37m\u001b[0m \u001b[1m2s\u001b[0m 15ms/step\n"
     ]
    },
    {
     "name": "stderr",
     "output_type": "stream",
     "text": [
      "Classifying 0_u00013s00001hw00007.svc:   7%|▋         | 13/182 [00:25<04:20,  1.54s/file]"
     ]
    },
    {
     "name": "stdout",
     "output_type": "stream",
     "text": [
      "0_u00013s00001hw00007.svc: Predicted Emotion - Anxiety | Confidence Levels: Anxiety: 46.88%, Normal: 30.31%, Depression: 22.80%, Stress: 0.01%\n"
     ]
    },
    {
     "name": "stderr",
     "output_type": "stream",
     "text": [
      "Classifying 0_u00013s00001hw00007.svc:   8%|▊         | 14/182 [00:25<04:58,  1.78s/file]"
     ]
    },
    {
     "name": "stdout",
     "output_type": "stream",
     "text": [
      "\u001b[1m75/75\u001b[0m \u001b[32m━━━━━━━━━━━━━━━━━━━━\u001b[0m\u001b[37m\u001b[0m \u001b[1m1s\u001b[0m 15ms/step\n",
      "0_u00015s00001hw00001.svc: Predicted Emotion - Normal | Confidence Levels: Normal: 51.17%, Depression: 35.63%, Anxiety: 13.20%, Stress: 0.00%\n"
     ]
    },
    {
     "name": "stderr",
     "output_type": "stream",
     "text": [
      "Classifying 0_u00015s00001hw00001.svc:   8%|▊         | 15/182 [00:26<04:36,  1.65s/file]"
     ]
    },
    {
     "name": "stdout",
     "output_type": "stream",
     "text": [
      "\u001b[1m134/134\u001b[0m \u001b[32m━━━━━━━━━━━━━━━━━━━━\u001b[0m\u001b[37m\u001b[0m \u001b[1m2s\u001b[0m 14ms/step\n",
      "0_u00015s00001hw00002.svc: Predicted Emotion - Normal | Confidence Levels: Normal: 44.77%, Depression: 31.78%, Anxiety: 23.43%, Stress: 0.02%\n"
     ]
    },
    {
     "name": "stderr",
     "output_type": "stream",
     "text": [
      "Classifying 0_u00015s00001hw00002.svc:   9%|▉         | 16/182 [00:28<05:04,  1.84s/file]"
     ]
    },
    {
     "name": "stdout",
     "output_type": "stream",
     "text": [
      "\u001b[1m118/118\u001b[0m \u001b[32m━━━━━━━━━━━━━━━━━━━━\u001b[0m\u001b[37m\u001b[0m \u001b[1m2s\u001b[0m 19ms/step\n"
     ]
    },
    {
     "name": "stderr",
     "output_type": "stream",
     "text": [
      "Classifying 0_u00015s00001hw00003.svc:   9%|▉         | 17/182 [00:31<05:48,  2.11s/file]"
     ]
    },
    {
     "name": "stdout",
     "output_type": "stream",
     "text": [
      "0_u00015s00001hw00003.svc: Predicted Emotion - Normal | Confidence Levels: Normal: 48.03%, Depression: 30.72%, Anxiety: 21.24%, Stress: 0.02%\n",
      "\u001b[1m27/27\u001b[0m \u001b[32m━━━━━━━━━━━━━━━━━━━━\u001b[0m\u001b[37m\u001b[0m \u001b[1m0s\u001b[0m 15ms/step\n",
      "0_u00015s00001hw00004.svc: Predicted Emotion - Depression | Confidence Levels: Depression: 53.11%, Normal: 24.29%, Anxiety: 22.59%, Stress: 0.02%"
     ]
    },
    {
     "name": "stderr",
     "output_type": "stream",
     "text": [
      "Classifying 0_u00015s00001hw00004.svc:  10%|▉         | 18/182 [00:32<04:37,  1.69s/file]"
     ]
    },
    {
     "name": "stdout",
     "output_type": "stream",
     "text": [
      "\n",
      "\u001b[1m38/38\u001b[0m \u001b[32m━━━━━━━━━━━━━━━━━━━━\u001b[0m\u001b[37m\u001b[0m \u001b[1m1s\u001b[0m 20ms/step\n"
     ]
    },
    {
     "name": "stderr",
     "output_type": "stream",
     "text": [
      "Classifying 0_u00015s00001hw00005.svc:  10%|█         | 19/182 [00:33<04:12,  1.55s/file]"
     ]
    },
    {
     "name": "stdout",
     "output_type": "stream",
     "text": [
      "0_u00015s00001hw00005.svc: Predicted Emotion - Anxiety | Confidence Levels: Anxiety: 77.36%, Normal: 14.41%, Depression: 8.03%, Stress: 0.20%\n",
      "\u001b[1m89/89\u001b[0m \u001b[32m━━━━━━━━━━━━━━━━━━━━\u001b[0m\u001b[37m\u001b[0m \u001b[1m2s\u001b[0m 17ms/step\n"
     ]
    },
    {
     "name": "stderr",
     "output_type": "stream",
     "text": [
      "Classifying 0_u00015s00001hw00006.svc:  11%|█         | 20/182 [00:35<04:32,  1.68s/file]"
     ]
    },
    {
     "name": "stdout",
     "output_type": "stream",
     "text": [
      "0_u00015s00001hw00006.svc: Predicted Emotion - Anxiety | Confidence Levels: Anxiety: 72.81%, Normal: 14.22%, Depression: 12.86%, Stress: 0.11%\n",
      "\u001b[1m99/99\u001b[0m \u001b[32m━━━━━━━━━━━━━━━━━━━━\u001b[0m\u001b[37m\u001b[0m \u001b[1m2s\u001b[0m 19ms/step\n"
     ]
    },
    {
     "name": "stderr",
     "output_type": "stream",
     "text": [
      "Classifying 0_u00015s00001hw00007.svc:  12%|█▏        | 21/182 [00:37<05:01,  1.88s/file]"
     ]
    },
    {
     "name": "stdout",
     "output_type": "stream",
     "text": [
      "0_u00015s00001hw00007.svc: Predicted Emotion - Anxiety | Confidence Levels: Anxiety: 64.75%, Normal: 20.14%, Depression: 14.62%, Stress: 0.49%\n",
      "\u001b[1m100/100\u001b[0m \u001b[32m━━━━━━━━━━━━━━━━━━━━\u001b[0m\u001b[37m\u001b[0m \u001b[1m2s\u001b[0m 17ms/step\n"
     ]
    },
    {
     "name": "stderr",
     "output_type": "stream",
     "text": [
      "Classifying 0_u00027s00001hw00001.svc:  12%|█▏        | 21/182 [00:39<05:01,  1.88s/file]"
     ]
    },
    {
     "name": "stdout",
     "output_type": "stream",
     "text": [
      "0_u00027s00001hw00001.svc: Predicted Emotion - Normal | Confidence Levels: Normal: 49.10%, Depression: 42.45%, Anxiety: 8.44%, Stress: 0.01%\n"
     ]
    },
    {
     "name": "stderr",
     "output_type": "stream",
     "text": [
      "Classifying 0_u00027s00001hw00001.svc:  12%|█▏        | 22/182 [00:39<05:07,  1.92s/file]"
     ]
    },
    {
     "name": "stdout",
     "output_type": "stream",
     "text": [
      "\u001b[1m115/115\u001b[0m \u001b[32m━━━━━━━━━━━━━━━━━━━━\u001b[0m\u001b[37m\u001b[0m \u001b[1m2s\u001b[0m 17ms/step\n",
      "0_u00027s00001hw00002.svc: Predicted Emotion - Normal | Confidence Levels: Normal: 45.61%, Depression: 44.82%, Anxiety: 9.48%, Stress: 0.08%\n"
     ]
    },
    {
     "name": "stderr",
     "output_type": "stream",
     "text": [
      "Classifying 0_u00027s00001hw00002.svc:  13%|█▎        | 23/182 [00:42<05:28,  2.07s/file]"
     ]
    },
    {
     "name": "stdout",
     "output_type": "stream",
     "text": [
      "\u001b[1m137/137\u001b[0m \u001b[32m━━━━━━━━━━━━━━━━━━━━\u001b[0m\u001b[37m\u001b[0m \u001b[1m2s\u001b[0m 15ms/step\n",
      "0_u00027s00001hw00003.svc: Predicted Emotion - Normal | Confidence Levels: Normal: 49.58%, Depression: 42.08%, Anxiety: 8.28%, Stress: 0.06%\n"
     ]
    },
    {
     "name": "stderr",
     "output_type": "stream",
     "text": [
      "Classifying 0_u00027s00001hw00003.svc:  13%|█▎        | 24/182 [00:44<05:41,  2.16s/file]"
     ]
    },
    {
     "name": "stdout",
     "output_type": "stream",
     "text": [
      "\u001b[1m24/24\u001b[0m \u001b[32m━━━━━━━━━━━━━━━━━━━━\u001b[0m\u001b[37m\u001b[0m \u001b[1m0s\u001b[0m 13ms/step\n"
     ]
    },
    {
     "name": "stderr",
     "output_type": "stream",
     "text": [
      "Classifying 0_u00027s00001hw00004.svc:  14%|█▎        | 25/182 [00:45<04:28,  1.71s/file]"
     ]
    },
    {
     "name": "stdout",
     "output_type": "stream",
     "text": [
      "0_u00027s00001hw00004.svc: Predicted Emotion - Depression | Confidence Levels: Depression: 77.20%, Normal: 20.34%, Anxiety: 2.45%, Stress: 0.00%\n",
      "\u001b[1m25/25\u001b[0m \u001b[32m━━━━━━━━━━━━━━━━━━━━\u001b[0m\u001b[37m\u001b[0m \u001b[1m0s\u001b[0m 14ms/step\n",
      "0_u00027s00001hw00005.svc: Predicted Emotion - Anxiety | Confidence Levels: Anxiety: 59.76%, Normal: 21.81%, Depression: 16.35%, Stress: 2.07%\n"
     ]
    },
    {
     "name": "stderr",
     "output_type": "stream",
     "text": [
      "Classifying 0_u00027s00001hw00005.svc:  14%|█▍        | 26/182 [00:45<03:34,  1.37s/file]"
     ]
    },
    {
     "name": "stdout",
     "output_type": "stream",
     "text": [
      "\u001b[1m98/98\u001b[0m \u001b[32m━━━━━━━━━━━━━━━━━━━━\u001b[0m\u001b[37m\u001b[0m \u001b[1m1s\u001b[0m 15ms/step\n",
      "0_u00027s00001hw00006.svc: Predicted Emotion - Anxiety | Confidence Levels: Anxiety: 41.55%, Depression: 32.03%, Normal: 25.61%, Stress: 0.81%"
     ]
    },
    {
     "name": "stderr",
     "output_type": "stream",
     "text": [
      "Classifying 0_u00027s00001hw00006.svc:  15%|█▍        | 27/182 [00:47<03:51,  1.49s/file]"
     ]
    },
    {
     "name": "stdout",
     "output_type": "stream",
     "text": [
      "\n",
      "\u001b[1m93/93\u001b[0m \u001b[32m━━━━━━━━━━━━━━━━━━━━\u001b[0m\u001b[37m\u001b[0m \u001b[1m1s\u001b[0m 14ms/step\n"
     ]
    },
    {
     "name": "stderr",
     "output_type": "stream",
     "text": [
      "Classifying 0_u00027s00001hw00007.svc:  15%|█▌        | 28/182 [00:50<04:57,  1.93s/file]"
     ]
    },
    {
     "name": "stdout",
     "output_type": "stream",
     "text": [
      "0_u00027s00001hw00007.svc: Predicted Emotion - Anxiety | Confidence Levels: Anxiety: 39.05%, Depression: 32.29%, Normal: 26.22%, Stress: 2.44%\n",
      "\u001b[1m54/54\u001b[0m \u001b[32m━━━━━━━━━━━━━━━━━━━━\u001b[0m\u001b[37m\u001b[0m \u001b[1m1s\u001b[0m 14ms/step\n"
     ]
    },
    {
     "name": "stderr",
     "output_type": "stream",
     "text": [
      "Classifying 0_u00035s00001hw00001.svc:  16%|█▌        | 29/182 [00:51<04:13,  1.66s/file]"
     ]
    },
    {
     "name": "stdout",
     "output_type": "stream",
     "text": [
      "0_u00035s00001hw00001.svc: Predicted Emotion - Stress | Confidence Levels: Stress: 94.50%, Normal: 5.07%, Depression: 0.31%, Anxiety: 0.12%\n",
      "\u001b[1m96/96\u001b[0m \u001b[32m━━━━━━━━━━━━━━━━━━━━\u001b[0m\u001b[37m\u001b[0m \u001b[1m2s\u001b[0m 16ms/step\n"
     ]
    },
    {
     "name": "stderr",
     "output_type": "stream",
     "text": [
      "Classifying 0_u00035s00001hw00002.svc:  16%|█▌        | 29/182 [00:53<04:13,  1.66s/file]"
     ]
    },
    {
     "name": "stdout",
     "output_type": "stream",
     "text": [
      "0_u00035s00001hw00002.svc: Predicted Emotion - Stress | Confidence Levels: Stress: 98.44%, Normal: 1.39%, Anxiety: 0.16%, Depression: 0.02%\n"
     ]
    },
    {
     "name": "stderr",
     "output_type": "stream",
     "text": [
      "Classifying 0_u00035s00001hw00002.svc:  16%|█▋        | 30/182 [00:53<04:37,  1.83s/file]"
     ]
    },
    {
     "name": "stdout",
     "output_type": "stream",
     "text": [
      "\u001b[1m105/105\u001b[0m \u001b[32m━━━━━━━━━━━━━━━━━━━━\u001b[0m\u001b[37m\u001b[0m \u001b[1m1s\u001b[0m 14ms/step\n"
     ]
    },
    {
     "name": "stderr",
     "output_type": "stream",
     "text": [
      "Classifying 0_u00035s00001hw00003.svc:  17%|█▋        | 31/182 [00:55<04:38,  1.84s/file]"
     ]
    },
    {
     "name": "stdout",
     "output_type": "stream",
     "text": [
      "0_u00035s00001hw00003.svc: Predicted Emotion - Anxiety | Confidence Levels: Anxiety: 48.66%, Stress: 45.51%, Normal: 5.55%, Depression: 0.29%\n",
      "\u001b[1m11/11\u001b[0m \u001b[32m━━━━━━━━━━━━━━━━━━━━\u001b[0m\u001b[37m\u001b[0m \u001b[1m0s\u001b[0m 14ms/step\n"
     ]
    },
    {
     "name": "stderr",
     "output_type": "stream",
     "text": [
      "Classifying 0_u00035s00001hw00004.svc:  18%|█▊        | 32/182 [00:56<03:28,  1.39s/file]"
     ]
    },
    {
     "name": "stdout",
     "output_type": "stream",
     "text": [
      "0_u00035s00001hw00004.svc: Predicted Emotion - Normal | Confidence Levels: Normal: 77.43%, Anxiety: 15.02%, Depression: 7.54%, Stress: 0.01%\n",
      "\u001b[1m15/15\u001b[0m \u001b[32m━━━━━━━━━━━━━━━━━━━━\u001b[0m\u001b[37m\u001b[0m \u001b[1m0s\u001b[0m 16ms/step\n",
      "0_u00035s00001hw00005.svc: Predicted Emotion - Anxiety | Confidence Levels: Anxiety: 86.29%, Normal: 8.94%, Stress: 4.27%, Depression: 0.50%"
     ]
    },
    {
     "name": "stderr",
     "output_type": "stream",
     "text": [
      "Classifying 0_u00035s00001hw00005.svc:  18%|█▊        | 33/182 [00:56<02:45,  1.11s/file]"
     ]
    },
    {
     "name": "stdout",
     "output_type": "stream",
     "text": [
      "\n",
      "\u001b[1m60/60\u001b[0m \u001b[32m━━━━━━━━━━━━━━━━━━━━\u001b[0m\u001b[37m\u001b[0m \u001b[1m1s\u001b[0m 15ms/step\n"
     ]
    },
    {
     "name": "stderr",
     "output_type": "stream",
     "text": [
      "Classifying 0_u00035s00001hw00006.svc:  19%|█▊        | 34/182 [00:57<02:46,  1.12s/file]"
     ]
    },
    {
     "name": "stdout",
     "output_type": "stream",
     "text": [
      "0_u00035s00001hw00006.svc: Predicted Emotion - Anxiety | Confidence Levels: Anxiety: 53.82%, Normal: 33.05%, Depression: 13.10%, Stress: 0.02%\n",
      "\u001b[1m132/132\u001b[0m \u001b[32m━━━━━━━━━━━━━━━━━━━━\u001b[0m\u001b[37m\u001b[0m \u001b[1m2s\u001b[0m 15ms/step\n"
     ]
    },
    {
     "name": "stderr",
     "output_type": "stream",
     "text": [
      "Classifying 0_u00035s00001hw00007.svc:  19%|█▉        | 35/182 [01:00<03:41,  1.51s/file]"
     ]
    },
    {
     "name": "stdout",
     "output_type": "stream",
     "text": [
      "0_u00035s00001hw00007.svc: Predicted Emotion - Anxiety | Confidence Levels: Anxiety: 49.10%, Normal: 34.90%, Depression: 15.92%, Stress: 0.08%\n",
      "\u001b[1m61/61\u001b[0m \u001b[32m━━━━━━━━━━━━━━━━━━━━\u001b[0m\u001b[37m\u001b[0m \u001b[1m1s\u001b[0m 14ms/step\n"
     ]
    },
    {
     "name": "stderr",
     "output_type": "stream",
     "text": [
      "Classifying 0_u00040s00001hw00001.svc:  20%|█▉        | 36/182 [01:01<03:24,  1.40s/file]"
     ]
    },
    {
     "name": "stdout",
     "output_type": "stream",
     "text": [
      "0_u00040s00001hw00001.svc: Predicted Emotion - Stress | Confidence Levels: Stress: 97.94%, Normal: 1.84%, Depression: 0.22%, Anxiety: 0.01%\n",
      "\u001b[1m86/86\u001b[0m \u001b[32m━━━━━━━━━━━━━━━━━━━━\u001b[0m\u001b[37m\u001b[0m \u001b[1m1s\u001b[0m 14ms/step\n"
     ]
    },
    {
     "name": "stderr",
     "output_type": "stream",
     "text": [
      "Classifying 0_u00040s00001hw00002.svc:  20%|██        | 37/182 [01:02<03:27,  1.43s/file]"
     ]
    },
    {
     "name": "stdout",
     "output_type": "stream",
     "text": [
      "0_u00040s00001hw00002.svc: Predicted Emotion - Stress | Confidence Levels: Stress: 87.37%, Normal: 12.59%, Depression: 0.02%, Anxiety: 0.02%\n",
      "\u001b[1m97/97\u001b[0m \u001b[32m━━━━━━━━━━━━━━━━━━━━\u001b[0m\u001b[37m\u001b[0m \u001b[1m1s\u001b[0m 14ms/step\n",
      "0_u00040s00001hw00003.svc: Predicted Emotion - Normal | Confidence Levels: Normal: 63.96%, Stress: 35.55%, Anxiety: 0.41%, Depression: 0.08%"
     ]
    },
    {
     "name": "stderr",
     "output_type": "stream",
     "text": [
      "Classifying 0_u00040s00001hw00003.svc:  21%|██        | 38/182 [01:04<03:36,  1.51s/file]"
     ]
    },
    {
     "name": "stdout",
     "output_type": "stream",
     "text": [
      "\n",
      "\u001b[1m26/26\u001b[0m \u001b[32m━━━━━━━━━━━━━━━━━━━━\u001b[0m\u001b[37m\u001b[0m \u001b[1m1s\u001b[0m 19ms/step\n",
      "0_u00040s00001hw00004.svc: Predicted Emotion - Normal | Confidence Levels: Normal: 87.30%, Anxiety: 10.82%, Depression: 1.81%, Stress: 0.07%"
     ]
    },
    {
     "name": "stderr",
     "output_type": "stream",
     "text": [
      "Classifying 0_u00040s00001hw00004.svc:  21%|██▏       | 39/182 [01:05<03:04,  1.29s/file]"
     ]
    },
    {
     "name": "stdout",
     "output_type": "stream",
     "text": [
      "\n",
      "\u001b[1m20/20\u001b[0m \u001b[32m━━━━━━━━━━━━━━━━━━━━\u001b[0m\u001b[37m\u001b[0m \u001b[1m0s\u001b[0m 14ms/step\n",
      "0_u00040s00001hw00005.svc: Predicted Emotion - Stress | Confidence Levels: Stress: 44.73%, Anxiety: 41.45%, Normal: 13.41%, Depression: 0.41%"
     ]
    },
    {
     "name": "stderr",
     "output_type": "stream",
     "text": [
      "Classifying 0_u00040s00001hw00005.svc:  22%|██▏       | 40/182 [01:05<02:29,  1.06s/file]"
     ]
    },
    {
     "name": "stdout",
     "output_type": "stream",
     "text": [
      "\n",
      "\u001b[1m75/75\u001b[0m \u001b[32m━━━━━━━━━━━━━━━━━━━━\u001b[0m\u001b[37m\u001b[0m \u001b[1m1s\u001b[0m 15ms/step\n",
      "0_u00040s00001hw00006.svc: Predicted Emotion - Normal | Confidence Levels: Normal: 65.45%, Depression: 18.41%, Anxiety: 16.14%, Stress: 0.00%"
     ]
    },
    {
     "name": "stderr",
     "output_type": "stream",
     "text": [
      "Classifying 0_u00040s00001hw00006.svc:  23%|██▎       | 41/182 [01:07<02:42,  1.15s/file]"
     ]
    },
    {
     "name": "stdout",
     "output_type": "stream",
     "text": [
      "\n",
      "\u001b[1m77/77\u001b[0m \u001b[32m━━━━━━━━━━━━━━━━━━━━\u001b[0m\u001b[37m\u001b[0m \u001b[1m1s\u001b[0m 15ms/step\n"
     ]
    },
    {
     "name": "stderr",
     "output_type": "stream",
     "text": [
      "Classifying 0_u00040s00001hw00007.svc:  23%|██▎       | 42/182 [01:08<02:55,  1.26s/file]"
     ]
    },
    {
     "name": "stdout",
     "output_type": "stream",
     "text": [
      "0_u00040s00001hw00007.svc: Predicted Emotion - Normal | Confidence Levels: Normal: 75.66%, Anxiety: 13.00%, Depression: 11.32%, Stress: 0.02%\n",
      "\u001b[1m81/81\u001b[0m \u001b[32m━━━━━━━━━━━━━━━━━━━━\u001b[0m\u001b[37m\u001b[0m \u001b[1m1s\u001b[0m 14ms/step\n",
      "0_u00044s00001hw00001.svc: Predicted Emotion - Normal | Confidence Levels: Normal: 47.57%, Anxiety: 32.69%, Depression: 19.73%, Stress: 0.00%\n"
     ]
    },
    {
     "name": "stderr",
     "output_type": "stream",
     "text": [
      "Classifying 0_u00044s00001hw00001.svc:  24%|██▎       | 43/182 [01:10<03:05,  1.33s/file]"
     ]
    },
    {
     "name": "stdout",
     "output_type": "stream",
     "text": [
      "\u001b[1m154/154\u001b[0m \u001b[32m━━━━━━━━━━━━━━━━━━━━\u001b[0m\u001b[37m\u001b[0m \u001b[1m2s\u001b[0m 15ms/step\n",
      "0_u00044s00001hw00002.svc: Predicted Emotion - Anxiety | Confidence Levels: Anxiety: 60.58%, Normal: 26.51%, Depression: 12.91%, Stress: 0.00%\n"
     ]
    },
    {
     "name": "stderr",
     "output_type": "stream",
     "text": [
      "Classifying 0_u00044s00001hw00002.svc:  24%|██▍       | 44/182 [01:12<04:02,  1.76s/file]"
     ]
    },
    {
     "name": "stdout",
     "output_type": "stream",
     "text": [
      "\u001b[1m87/87\u001b[0m \u001b[32m━━━━━━━━━━━━━━━━━━━━\u001b[0m\u001b[37m\u001b[0m \u001b[1m1s\u001b[0m 13ms/step\n",
      "0_u00044s00001hw00003.svc: Predicted Emotion - Anxiety | Confidence Levels: Anxiety: 63.99%, Normal: 28.75%, Depression: 7.25%, Stress: 0.02%\n"
     ]
    },
    {
     "name": "stderr",
     "output_type": "stream",
     "text": [
      "Classifying 0_u00044s00001hw00003.svc:  25%|██▍       | 45/182 [01:14<03:50,  1.68s/file]"
     ]
    },
    {
     "name": "stdout",
     "output_type": "stream",
     "text": [
      "\u001b[1m8/8\u001b[0m \u001b[32m━━━━━━━━━━━━━━━━━━━━\u001b[0m\u001b[37m\u001b[0m \u001b[1m0s\u001b[0m 23ms/step\n",
      "0_u00044s00001hw00004.svc: Predicted Emotion - Depression | Confidence Levels: Depression: 84.59%, Normal: 14.18%, Anxiety: 1.23%, Stress: 0.00%"
     ]
    },
    {
     "name": "stderr",
     "output_type": "stream",
     "text": [
      "Classifying 0_u00044s00001hw00004.svc:  25%|██▌       | 46/182 [01:14<02:55,  1.29s/file]"
     ]
    },
    {
     "name": "stdout",
     "output_type": "stream",
     "text": [
      "\n",
      "\u001b[1m10/10\u001b[0m \u001b[32m━━━━━━━━━━━━━━━━━━━━\u001b[0m\u001b[37m\u001b[0m \u001b[1m0s\u001b[0m 15ms/step\n"
     ]
    },
    {
     "name": "stderr",
     "output_type": "stream",
     "text": [
      "Classifying 0_u00044s00001hw00005.svc:  26%|██▌       | 47/182 [01:15<02:18,  1.03s/file]"
     ]
    },
    {
     "name": "stdout",
     "output_type": "stream",
     "text": [
      "0_u00044s00001hw00005.svc: Predicted Emotion - Anxiety | Confidence Levels: Anxiety: 96.42%, Normal: 2.91%, Depression: 0.66%, Stress: 0.01%\n",
      "\u001b[1m67/67\u001b[0m \u001b[32m━━━━━━━━━━━━━━━━━━━━\u001b[0m\u001b[37m\u001b[0m \u001b[1m1s\u001b[0m 16ms/step\n",
      "0_u00044s00001hw00006.svc: Predicted Emotion - Anxiety | Confidence Levels: Anxiety: 89.97%, Normal: 5.44%, Depression: 4.58%, Stress: 0.00%\n"
     ]
    },
    {
     "name": "stderr",
     "output_type": "stream",
     "text": [
      "Classifying 0_u00044s00001hw00006.svc:  26%|██▋       | 48/182 [01:16<02:31,  1.13s/file]"
     ]
    },
    {
     "name": "stdout",
     "output_type": "stream",
     "text": [
      "\u001b[1m75/75\u001b[0m \u001b[32m━━━━━━━━━━━━━━━━━━━━\u001b[0m\u001b[37m\u001b[0m \u001b[1m1s\u001b[0m 14ms/step\n"
     ]
    },
    {
     "name": "stderr",
     "output_type": "stream",
     "text": [
      "Classifying 0_u00044s00001hw00007.svc:  27%|██▋       | 49/182 [01:17<02:39,  1.20s/file]"
     ]
    },
    {
     "name": "stdout",
     "output_type": "stream",
     "text": [
      "0_u00044s00001hw00007.svc: Predicted Emotion - Anxiety | Confidence Levels: Anxiety: 94.09%, Normal: 3.84%, Depression: 1.95%, Stress: 0.12%\n",
      "\u001b[1m65/65\u001b[0m \u001b[32m━━━━━━━━━━━━━━━━━━━━\u001b[0m\u001b[37m\u001b[0m \u001b[1m1s\u001b[0m 13ms/step\n"
     ]
    },
    {
     "name": "stderr",
     "output_type": "stream",
     "text": [
      "Classifying 1_u00010s00001hw00001.svc:  27%|██▋       | 50/182 [01:18<02:35,  1.17s/file]"
     ]
    },
    {
     "name": "stdout",
     "output_type": "stream",
     "text": [
      "1_u00010s00001hw00001.svc: Predicted Emotion - Depression | Confidence Levels: Depression: 91.98%, Stress: 8.02%, Normal: 0.00%, Anxiety: 0.00%\n",
      "\u001b[1m96/96\u001b[0m \u001b[32m━━━━━━━━━━━━━━━━━━━━\u001b[0m\u001b[37m\u001b[0m \u001b[1m1s\u001b[0m 14ms/step\n"
     ]
    },
    {
     "name": "stderr",
     "output_type": "stream",
     "text": [
      "Classifying 1_u00010s00001hw00002.svc:  28%|██▊       | 51/182 [01:20<02:54,  1.33s/file]"
     ]
    },
    {
     "name": "stdout",
     "output_type": "stream",
     "text": [
      "1_u00010s00001hw00002.svc: Predicted Emotion - Depression | Confidence Levels: Depression: 96.64%, Stress: 3.36%, Normal: 0.00%, Anxiety: 0.00%\n",
      "\u001b[1m99/99\u001b[0m \u001b[32m━━━━━━━━━━━━━━━━━━━━\u001b[0m\u001b[37m\u001b[0m \u001b[1m2s\u001b[0m 16ms/step\n"
     ]
    },
    {
     "name": "stderr",
     "output_type": "stream",
     "text": [
      "Classifying 1_u00010s00001hw00003.svc:  29%|██▊       | 52/182 [01:22<03:21,  1.55s/file]"
     ]
    },
    {
     "name": "stdout",
     "output_type": "stream",
     "text": [
      "1_u00010s00001hw00003.svc: Predicted Emotion - Depression | Confidence Levels: Depression: 95.14%, Stress: 4.86%, Normal: 0.00%, Anxiety: 0.00%\n",
      "\u001b[1m47/47\u001b[0m \u001b[32m━━━━━━━━━━━━━━━━━━━━\u001b[0m\u001b[37m\u001b[0m \u001b[1m1s\u001b[0m 14ms/step\n"
     ]
    },
    {
     "name": "stderr",
     "output_type": "stream",
     "text": [
      "Classifying 1_u00010s00001hw00004.svc:  29%|██▉       | 53/182 [01:23<02:55,  1.36s/file]"
     ]
    },
    {
     "name": "stdout",
     "output_type": "stream",
     "text": [
      "1_u00010s00001hw00004.svc: Predicted Emotion - Depression | Confidence Levels: Depression: 87.41%, Stress: 12.52%, Anxiety: 0.06%, Normal: 0.01%\n",
      "\u001b[1m23/23\u001b[0m \u001b[32m━━━━━━━━━━━━━━━━━━━━\u001b[0m\u001b[37m\u001b[0m \u001b[1m0s\u001b[0m 18ms/step\n"
     ]
    },
    {
     "name": "stderr",
     "output_type": "stream",
     "text": [
      "Classifying 1_u00010s00001hw00005.svc:  29%|██▉       | 53/182 [01:24<02:55,  1.36s/file]"
     ]
    },
    {
     "name": "stdout",
     "output_type": "stream",
     "text": [
      "1_u00010s00001hw00005.svc: Predicted Emotion - Depression | Confidence Levels: Depression: 96.50%, Stress: 3.50%, Normal: 0.00%, Anxiety: 0.00%\n"
     ]
    },
    {
     "name": "stderr",
     "output_type": "stream",
     "text": [
      "Classifying 1_u00010s00001hw00005.svc:  30%|██▉       | 54/182 [01:24<02:26,  1.15s/file]"
     ]
    },
    {
     "name": "stdout",
     "output_type": "stream",
     "text": [
      "\u001b[1m81/81\u001b[0m \u001b[32m━━━━━━━━━━━━━━━━━━━━\u001b[0m\u001b[37m\u001b[0m \u001b[1m1s\u001b[0m 14ms/step\n"
     ]
    },
    {
     "name": "stderr",
     "output_type": "stream",
     "text": [
      "Classifying 1_u00010s00001hw00006.svc:  30%|███       | 55/182 [01:25<02:38,  1.25s/file]"
     ]
    },
    {
     "name": "stdout",
     "output_type": "stream",
     "text": [
      "1_u00010s00001hw00006.svc: Predicted Emotion - Depression | Confidence Levels: Depression: 95.87%, Stress: 4.13%, Normal: 0.00%, Anxiety: 0.00%\n",
      "\u001b[1m77/77\u001b[0m \u001b[32m━━━━━━━━━━━━━━━━━━━━\u001b[0m\u001b[37m\u001b[0m \u001b[1m1s\u001b[0m 14ms/step\n",
      "1_u00010s00001hw00007.svc: Predicted Emotion - Depression | Confidence Levels: Depression: 95.10%, Stress: 4.90%, Normal: 0.00%, Anxiety: 0.00%"
     ]
    },
    {
     "name": "stderr",
     "output_type": "stream",
     "text": [
      "Classifying 1_u00010s00001hw00007.svc:  31%|███       | 56/182 [01:27<02:43,  1.29s/file]"
     ]
    },
    {
     "name": "stdout",
     "output_type": "stream",
     "text": [
      "\n",
      "\u001b[1m80/80\u001b[0m \u001b[32m━━━━━━━━━━━━━━━━━━━━\u001b[0m\u001b[37m\u001b[0m \u001b[1m1s\u001b[0m 14ms/step\n",
      "1_u00011s00001hw00001.svc: Predicted Emotion - Depression | Confidence Levels: Depression: 52.75%, Stress: 47.25%, Normal: 0.00%, Anxiety: 0.00%\n"
     ]
    },
    {
     "name": "stderr",
     "output_type": "stream",
     "text": [
      "Classifying 1_u00011s00001hw00001.svc:  31%|███▏      | 57/182 [01:28<02:51,  1.37s/file]"
     ]
    },
    {
     "name": "stdout",
     "output_type": "stream",
     "text": [
      "\u001b[1m97/97\u001b[0m \u001b[32m━━━━━━━━━━━━━━━━━━━━\u001b[0m\u001b[37m\u001b[0m \u001b[1m1s\u001b[0m 13ms/step\n",
      "1_u00011s00001hw00002.svc: Predicted Emotion - Depression | Confidence Levels: Depression: 57.97%, Stress: 42.03%, Normal: 0.00%, Anxiety: 0.00%"
     ]
    },
    {
     "name": "stderr",
     "output_type": "stream",
     "text": [
      "Classifying 1_u00011s00001hw00002.svc:  32%|███▏      | 58/182 [01:30<03:00,  1.46s/file]"
     ]
    },
    {
     "name": "stdout",
     "output_type": "stream",
     "text": [
      "\n",
      "\u001b[1m103/103\u001b[0m \u001b[32m━━━━━━━━━━━━━━━━━━━━\u001b[0m\u001b[37m\u001b[0m \u001b[1m1s\u001b[0m 13ms/step\n",
      "1_u00011s00001hw00003.svc: Predicted Emotion - Depression | Confidence Levels: Depression: 57.33%, Stress: 42.66%, Normal: 0.00%, Anxiety: 0.00%\n"
     ]
    },
    {
     "name": "stderr",
     "output_type": "stream",
     "text": [
      "Classifying 1_u00011s00001hw00003.svc:  32%|███▏      | 59/182 [01:32<03:11,  1.56s/file]"
     ]
    },
    {
     "name": "stdout",
     "output_type": "stream",
     "text": [
      "\u001b[1m46/46\u001b[0m \u001b[32m━━━━━━━━━━━━━━━━━━━━\u001b[0m\u001b[37m\u001b[0m \u001b[1m1s\u001b[0m 15ms/step\n"
     ]
    },
    {
     "name": "stderr",
     "output_type": "stream",
     "text": [
      "Classifying 1_u00011s00001hw00004.svc:  33%|███▎      | 60/182 [01:33<02:51,  1.40s/file]"
     ]
    },
    {
     "name": "stdout",
     "output_type": "stream",
     "text": [
      "1_u00011s00001hw00004.svc: Predicted Emotion - Depression | Confidence Levels: Depression: 54.08%, Stress: 45.21%, Anxiety: 0.47%, Normal: 0.24%\n",
      "\u001b[1m25/25\u001b[0m \u001b[32m━━━━━━━━━━━━━━━━━━━━\u001b[0m\u001b[37m\u001b[0m \u001b[1m0s\u001b[0m 17ms/step\n"
     ]
    },
    {
     "name": "stderr",
     "output_type": "stream",
     "text": [
      "Classifying 1_u00011s00001hw00005.svc:  34%|███▎      | 61/182 [01:33<02:23,  1.19s/file]"
     ]
    },
    {
     "name": "stdout",
     "output_type": "stream",
     "text": [
      "1_u00011s00001hw00005.svc: Predicted Emotion - Depression | Confidence Levels: Depression: 54.47%, Stress: 45.51%, Normal: 0.02%, Anxiety: 0.00%\n",
      "\u001b[1m51/51\u001b[0m \u001b[32m━━━━━━━━━━━━━━━━━━━━\u001b[0m\u001b[37m\u001b[0m \u001b[1m1s\u001b[0m 14ms/step\n"
     ]
    },
    {
     "name": "stderr",
     "output_type": "stream",
     "text": [
      "Classifying 1_u00011s00001hw00006.svc:  34%|███▍      | 62/182 [01:34<02:13,  1.11s/file]"
     ]
    },
    {
     "name": "stdout",
     "output_type": "stream",
     "text": [
      "1_u00011s00001hw00006.svc: Predicted Emotion - Stress | Confidence Levels: Stress: 50.44%, Depression: 49.55%, Normal: 0.01%, Anxiety: 0.00%\n",
      "\u001b[1m82/82\u001b[0m \u001b[32m━━━━━━━━━━━━━━━━━━━━\u001b[0m\u001b[37m\u001b[0m \u001b[1m1s\u001b[0m 15ms/step\n",
      "1_u00011s00001hw00007.svc: Predicted Emotion - Depression | Confidence Levels: Stress: 50.54%, Depression: 49.46%, Normal: 0.00%, Anxiety: 0.00%"
     ]
    },
    {
     "name": "stderr",
     "output_type": "stream",
     "text": [
      "Classifying 1_u00011s00001hw00007.svc:  35%|███▍      | 63/182 [01:36<02:29,  1.25s/file]"
     ]
    },
    {
     "name": "stdout",
     "output_type": "stream",
     "text": [
      "\n",
      "\u001b[1m94/94\u001b[0m \u001b[32m━━━━━━━━━━━━━━━━━━━━\u001b[0m\u001b[37m\u001b[0m \u001b[1m2s\u001b[0m 16ms/step\n"
     ]
    },
    {
     "name": "stderr",
     "output_type": "stream",
     "text": [
      "Classifying 1_u00021s00001hw00001.svc:  35%|███▌      | 64/182 [01:38<02:47,  1.42s/file]"
     ]
    },
    {
     "name": "stdout",
     "output_type": "stream",
     "text": [
      "1_u00021s00001hw00001.svc: Predicted Emotion - Depression | Confidence Levels: Depression: 67.78%, Normal: 17.82%, Anxiety: 14.40%, Stress: 0.00%\n",
      "\u001b[1m177/177\u001b[0m \u001b[32m━━━━━━━━━━━━━━━━━━━━\u001b[0m\u001b[37m\u001b[0m \u001b[1m3s\u001b[0m 14ms/step\n"
     ]
    },
    {
     "name": "stderr",
     "output_type": "stream",
     "text": [
      "Classifying 1_u00021s00001hw00002.svc:  36%|███▌      | 65/182 [01:41<03:40,  1.89s/file]"
     ]
    },
    {
     "name": "stdout",
     "output_type": "stream",
     "text": [
      "1_u00021s00001hw00002.svc: Predicted Emotion - Depression | Confidence Levels: Depression: 56.65%, Anxiety: 25.02%, Normal: 18.33%, Stress: 0.00%\n",
      "\u001b[1m121/121\u001b[0m \u001b[32m━━━━━━━━━━━━━━━━━━━━\u001b[0m\u001b[37m\u001b[0m \u001b[1m2s\u001b[0m 15ms/step\n"
     ]
    },
    {
     "name": "stderr",
     "output_type": "stream",
     "text": [
      "Classifying 1_u00021s00001hw00003.svc:  36%|███▋      | 66/182 [01:43<03:45,  1.94s/file]"
     ]
    },
    {
     "name": "stdout",
     "output_type": "stream",
     "text": [
      "1_u00021s00001hw00003.svc: Predicted Emotion - Depression | Confidence Levels: Depression: 43.73%, Anxiety: 31.05%, Normal: 25.22%, Stress: 0.00%\n",
      "\u001b[1m40/40\u001b[0m \u001b[32m━━━━━━━━━━━━━━━━━━━━\u001b[0m\u001b[37m\u001b[0m \u001b[1m1s\u001b[0m 19ms/step\n",
      "1_u00021s00001hw00004.svc: Predicted Emotion - Depression | Confidence Levels: Depression: 47.62%, Anxiety: 29.69%, Normal: 22.68%, Stress: 0.01%"
     ]
    },
    {
     "name": "stderr",
     "output_type": "stream",
     "text": [
      "Classifying 1_u00021s00001hw00004.svc:  37%|███▋      | 67/182 [01:44<03:12,  1.68s/file]"
     ]
    },
    {
     "name": "stdout",
     "output_type": "stream",
     "text": [
      "\n",
      "\u001b[1m31/31\u001b[0m \u001b[32m━━━━━━━━━━━━━━━━━━━━\u001b[0m\u001b[37m\u001b[0m \u001b[1m0s\u001b[0m 14ms/step\n",
      "1_u00021s00001hw00005.svc: Predicted Emotion - Anxiety | Confidence Levels: Anxiety: 55.11%, Depression: 27.00%, Normal: 17.89%, Stress: 0.00%"
     ]
    },
    {
     "name": "stderr",
     "output_type": "stream",
     "text": [
      "Classifying 1_u00021s00001hw00005.svc:  37%|███▋      | 68/182 [01:44<02:36,  1.37s/file]"
     ]
    },
    {
     "name": "stdout",
     "output_type": "stream",
     "text": [
      "\n",
      "\u001b[1m213/213\u001b[0m \u001b[32m━━━━━━━━━━━━━━━━━━━━\u001b[0m\u001b[37m\u001b[0m \u001b[1m3s\u001b[0m 14ms/step\n",
      "1_u00021s00001hw00006.svc: Predicted Emotion - Depression | Confidence Levels: Depression: 60.16%, Anxiety: 22.20%, Normal: 17.64%, Stress: 0.00%\n"
     ]
    },
    {
     "name": "stderr",
     "output_type": "stream",
     "text": [
      "Classifying 1_u00021s00001hw00006.svc:  38%|███▊      | 69/182 [01:48<03:46,  2.01s/file]"
     ]
    },
    {
     "name": "stdout",
     "output_type": "stream",
     "text": [
      "\u001b[1m115/115\u001b[0m \u001b[32m━━━━━━━━━━━━━━━━━━━━\u001b[0m\u001b[37m\u001b[0m \u001b[1m2s\u001b[0m 15ms/step\n"
     ]
    },
    {
     "name": "stderr",
     "output_type": "stream",
     "text": [
      "Classifying 1_u00021s00001hw00007.svc:  38%|███▊      | 70/182 [01:50<03:46,  2.02s/file]"
     ]
    },
    {
     "name": "stdout",
     "output_type": "stream",
     "text": [
      "1_u00021s00001hw00007.svc: Predicted Emotion - Depression | Confidence Levels: Anxiety: 42.97%, Depression: 38.20%, Normal: 18.83%, Stress: 0.00%\n",
      "\u001b[1m75/75\u001b[0m \u001b[32m━━━━━━━━━━━━━━━━━━━━\u001b[0m\u001b[37m\u001b[0m \u001b[1m1s\u001b[0m 13ms/step\n"
     ]
    },
    {
     "name": "stderr",
     "output_type": "stream",
     "text": [
      "Classifying 1_u00038s00001hw00001.svc:  39%|███▉      | 71/182 [01:51<03:21,  1.81s/file]"
     ]
    },
    {
     "name": "stdout",
     "output_type": "stream",
     "text": [
      "1_u00038s00001hw00001.svc: Predicted Emotion - Anxiety | Confidence Levels: Anxiety: 44.47%, Depression: 37.88%, Normal: 17.65%, Stress: 0.00%\n",
      "\u001b[1m92/92\u001b[0m \u001b[32m━━━━━━━━━━━━━━━━━━━━\u001b[0m\u001b[37m\u001b[0m \u001b[1m1s\u001b[0m 14ms/step\n"
     ]
    },
    {
     "name": "stderr",
     "output_type": "stream",
     "text": [
      "Classifying 1_u00038s00001hw00002.svc:  40%|███▉      | 72/182 [01:53<03:12,  1.75s/file]"
     ]
    },
    {
     "name": "stdout",
     "output_type": "stream",
     "text": [
      "1_u00038s00001hw00002.svc: Predicted Emotion - Depression | Confidence Levels: Anxiety: 45.74%, Depression: 39.32%, Normal: 14.95%, Stress: 0.00%\n",
      "\u001b[1m139/139\u001b[0m \u001b[32m━━━━━━━━━━━━━━━━━━━━\u001b[0m\u001b[37m\u001b[0m \u001b[1m2s\u001b[0m 15ms/step\n"
     ]
    },
    {
     "name": "stderr",
     "output_type": "stream",
     "text": [
      "Classifying 1_u00038s00001hw00003.svc:  40%|████      | 73/182 [01:55<03:32,  1.95s/file]"
     ]
    },
    {
     "name": "stdout",
     "output_type": "stream",
     "text": [
      "1_u00038s00001hw00003.svc: Predicted Emotion - Depression | Confidence Levels: Depression: 48.98%, Anxiety: 31.04%, Normal: 19.97%, Stress: 0.00%\n",
      "\u001b[1m20/20\u001b[0m \u001b[32m━━━━━━━━━━━━━━━━━━━━\u001b[0m\u001b[37m\u001b[0m \u001b[1m0s\u001b[0m 14ms/step\n",
      "1_u00038s00001hw00004.svc: Predicted Emotion - Anxiety | Confidence Levels: Depression: 38.49%, Anxiety: 37.26%, Normal: 24.24%, Stress: 0.00%"
     ]
    },
    {
     "name": "stderr",
     "output_type": "stream",
     "text": [
      "Classifying 1_u00038s00001hw00004.svc:  41%|████      | 74/182 [01:56<02:45,  1.54s/file]"
     ]
    },
    {
     "name": "stdout",
     "output_type": "stream",
     "text": [
      "\n",
      "\u001b[1m21/21\u001b[0m \u001b[32m━━━━━━━━━━━━━━━━━━━━\u001b[0m\u001b[37m\u001b[0m \u001b[1m0s\u001b[0m 13ms/step\n",
      "1_u00038s00001hw00005.svc: Predicted Emotion - Anxiety | Confidence Levels: Anxiety: 86.75%, Normal: 8.42%, Depression: 4.83%, Stress: 0.00%"
     ]
    },
    {
     "name": "stderr",
     "output_type": "stream",
     "text": [
      "Classifying 1_u00038s00001hw00005.svc:  41%|████      | 75/182 [01:56<02:11,  1.23s/file]"
     ]
    },
    {
     "name": "stdout",
     "output_type": "stream",
     "text": [
      "\n",
      "\u001b[1m58/58\u001b[0m \u001b[32m━━━━━━━━━━━━━━━━━━━━\u001b[0m\u001b[37m\u001b[0m \u001b[1m1s\u001b[0m 15ms/step\n"
     ]
    },
    {
     "name": "stderr",
     "output_type": "stream",
     "text": [
      "Classifying 1_u00038s00001hw00006.svc:  42%|████▏     | 76/182 [01:58<02:07,  1.20s/file]"
     ]
    },
    {
     "name": "stdout",
     "output_type": "stream",
     "text": [
      "1_u00038s00001hw00006.svc: Predicted Emotion - Depression | Confidence Levels: Depression: 55.20%, Normal: 29.60%, Anxiety: 15.20%, Stress: 0.00%\n",
      "\u001b[1m86/86\u001b[0m \u001b[32m━━━━━━━━━━━━━━━━━━━━\u001b[0m\u001b[37m\u001b[0m \u001b[1m1s\u001b[0m 15ms/step\n"
     ]
    },
    {
     "name": "stderr",
     "output_type": "stream",
     "text": [
      "Classifying 1_u00038s00001hw00007.svc:  42%|████▏     | 77/182 [01:59<02:17,  1.31s/file]"
     ]
    },
    {
     "name": "stdout",
     "output_type": "stream",
     "text": [
      "1_u00038s00001hw00007.svc: Predicted Emotion - Anxiety | Confidence Levels: Normal: 36.84%, Anxiety: 35.96%, Depression: 27.20%, Stress: 0.00%\n",
      "\u001b[1m47/47\u001b[0m \u001b[32m━━━━━━━━━━━━━━━━━━━━\u001b[0m\u001b[37m\u001b[0m \u001b[1m1s\u001b[0m 13ms/step\n"
     ]
    },
    {
     "name": "stderr",
     "output_type": "stream",
     "text": [
      "Classifying 2_u00001s00001hw00001.svc:  42%|████▏     | 77/182 [02:00<02:17,  1.31s/file]"
     ]
    },
    {
     "name": "stdout",
     "output_type": "stream",
     "text": [
      "2_u00001s00001hw00001.svc: Predicted Emotion - Stress | Confidence Levels: Stress: 66.76%, Anxiety: 29.39%, Normal: 3.69%, Depression: 0.16%\n"
     ]
    },
    {
     "name": "stderr",
     "output_type": "stream",
     "text": [
      "Classifying 2_u00001s00001hw00001.svc:  43%|████▎     | 78/182 [02:00<02:03,  1.19s/file]"
     ]
    },
    {
     "name": "stdout",
     "output_type": "stream",
     "text": [
      "\u001b[1m86/86\u001b[0m \u001b[32m━━━━━━━━━━━━━━━━━━━━\u001b[0m\u001b[37m\u001b[0m \u001b[1m1s\u001b[0m 15ms/step\n",
      "2_u00001s00001hw00002.svc: Predicted Emotion - Anxiety | Confidence Levels: Anxiety: 67.10%, Stress: 23.42%, Normal: 9.10%, Depression: 0.39%\n"
     ]
    },
    {
     "name": "stderr",
     "output_type": "stream",
     "text": [
      "Classifying 2_u00001s00001hw00002.svc:  43%|████▎     | 79/182 [02:02<02:19,  1.35s/file]"
     ]
    },
    {
     "name": "stdout",
     "output_type": "stream",
     "text": [
      "\u001b[1m97/97\u001b[0m \u001b[32m━━━━━━━━━━━━━━━━━━━━\u001b[0m\u001b[37m\u001b[0m \u001b[1m1s\u001b[0m 13ms/step\n",
      "2_u00001s00001hw00003.svc: Predicted Emotion - Anxiety | Confidence Levels: Anxiety: 88.83%, Normal: 7.66%, Depression: 3.49%, Stress: 0.02%\n"
     ]
    },
    {
     "name": "stderr",
     "output_type": "stream",
     "text": [
      "Classifying 2_u00001s00001hw00003.svc:  44%|████▍     | 80/182 [02:03<02:24,  1.41s/file]"
     ]
    },
    {
     "name": "stdout",
     "output_type": "stream",
     "text": [
      "\u001b[1m61/61\u001b[0m \u001b[32m━━━━━━━━━━━━━━━━━━━━\u001b[0m\u001b[37m\u001b[0m \u001b[1m1s\u001b[0m 13ms/step\n"
     ]
    },
    {
     "name": "stderr",
     "output_type": "stream",
     "text": [
      "Classifying 2_u00001s00001hw00004.svc:  45%|████▍     | 81/182 [02:05<02:14,  1.33s/file]"
     ]
    },
    {
     "name": "stdout",
     "output_type": "stream",
     "text": [
      "2_u00001s00001hw00004.svc: Predicted Emotion - Anxiety | Confidence Levels: Anxiety: 54.39%, Normal: 26.86%, Depression: 18.73%, Stress: 0.02%\n",
      "\u001b[1m38/38\u001b[0m \u001b[32m━━━━━━━━━━━━━━━━━━━━\u001b[0m\u001b[37m\u001b[0m \u001b[1m1s\u001b[0m 14ms/step\n"
     ]
    },
    {
     "name": "stderr",
     "output_type": "stream",
     "text": [
      "Classifying 2_u00001s00001hw00005.svc:  45%|████▌     | 82/182 [02:05<01:57,  1.18s/file]"
     ]
    },
    {
     "name": "stdout",
     "output_type": "stream",
     "text": [
      "2_u00001s00001hw00005.svc: Predicted Emotion - Anxiety | Confidence Levels: Anxiety: 96.74%, Normal: 2.72%, Depression: 0.51%, Stress: 0.03%\n",
      "\u001b[1m79/79\u001b[0m \u001b[32m━━━━━━━━━━━━━━━━━━━━\u001b[0m\u001b[37m\u001b[0m \u001b[1m1s\u001b[0m 15ms/step\n"
     ]
    },
    {
     "name": "stderr",
     "output_type": "stream",
     "text": [
      "Classifying 2_u00001s00001hw00006.svc:  46%|████▌     | 83/182 [02:07<02:07,  1.29s/file]"
     ]
    },
    {
     "name": "stdout",
     "output_type": "stream",
     "text": [
      "2_u00001s00001hw00006.svc: Predicted Emotion - Normal | Confidence Levels: Normal: 37.03%, Anxiety: 35.47%, Depression: 27.50%, Stress: 0.00%\n",
      "\u001b[1m94/94\u001b[0m \u001b[32m━━━━━━━━━━━━━━━━━━━━\u001b[0m\u001b[37m\u001b[0m \u001b[1m1s\u001b[0m 13ms/step\n",
      "2_u00001s00001hw00007.svc: Predicted Emotion - Anxiety | Confidence Levels: Anxiety: 49.01%, Normal: 31.73%, Depression: 19.25%, Stress: 0.01%\n"
     ]
    },
    {
     "name": "stderr",
     "output_type": "stream",
     "text": [
      "Classifying 2_u00001s00001hw00007.svc:  46%|████▌     | 84/182 [02:08<02:14,  1.38s/file]"
     ]
    },
    {
     "name": "stdout",
     "output_type": "stream",
     "text": [
      "\u001b[1m66/66\u001b[0m \u001b[32m━━━━━━━━━━━━━━━━━━━━\u001b[0m\u001b[37m\u001b[0m \u001b[1m1s\u001b[0m 15ms/step\n",
      "2_u00002s00001hw00001.svc: Predicted Emotion - Anxiety | Confidence Levels: Anxiety: 58.45%, Depression: 25.36%, Normal: 16.19%, Stress: 0.00%\n"
     ]
    },
    {
     "name": "stderr",
     "output_type": "stream",
     "text": [
      "Classifying 2_u00002s00001hw00001.svc:  47%|████▋     | 85/182 [02:10<02:09,  1.34s/file]"
     ]
    },
    {
     "name": "stdout",
     "output_type": "stream",
     "text": [
      "\u001b[1m119/119\u001b[0m \u001b[32m━━━━━━━━━━━━━━━━━━━━\u001b[0m\u001b[37m\u001b[0m \u001b[1m2s\u001b[0m 14ms/step\n",
      "2_u00002s00001hw00002.svc: Predicted Emotion - Anxiety | Confidence Levels: Anxiety: 65.15%, Depression: 23.56%, Normal: 11.29%, Stress: 0.00%"
     ]
    },
    {
     "name": "stderr",
     "output_type": "stream",
     "text": [
      "Classifying 2_u00002s00001hw00002.svc:  47%|████▋     | 86/182 [02:12<02:29,  1.56s/file]"
     ]
    },
    {
     "name": "stdout",
     "output_type": "stream",
     "text": [
      "\n",
      "\u001b[1m134/134\u001b[0m \u001b[32m━━━━━━━━━━━━━━━━━━━━\u001b[0m\u001b[37m\u001b[0m \u001b[1m2s\u001b[0m 15ms/step\n"
     ]
    },
    {
     "name": "stderr",
     "output_type": "stream",
     "text": [
      "Classifying 2_u00002s00001hw00003.svc:  48%|████▊     | 87/182 [02:14<02:52,  1.81s/file]"
     ]
    },
    {
     "name": "stdout",
     "output_type": "stream",
     "text": [
      "2_u00002s00001hw00003.svc: Predicted Emotion - Anxiety | Confidence Levels: Anxiety: 66.34%, Depression: 21.10%, Normal: 12.55%, Stress: 0.00%\n",
      "\u001b[1m35/35\u001b[0m \u001b[32m━━━━━━━━━━━━━━━━━━━━\u001b[0m\u001b[37m\u001b[0m \u001b[1m1s\u001b[0m 13ms/step\n",
      "2_u00002s00001hw00004.svc: Predicted Emotion - Depression | Confidence Levels: Depression: 77.98%, Normal: 19.78%, Anxiety: 2.25%, Stress: 0.00%"
     ]
    },
    {
     "name": "stderr",
     "output_type": "stream",
     "text": [
      "Classifying 2_u00002s00001hw00004.svc:  48%|████▊     | 88/182 [02:15<02:19,  1.49s/file]"
     ]
    },
    {
     "name": "stdout",
     "output_type": "stream",
     "text": [
      "\n",
      "\u001b[1m27/27\u001b[0m \u001b[32m━━━━━━━━━━━━━━━━━━━━\u001b[0m\u001b[37m\u001b[0m \u001b[1m0s\u001b[0m 14ms/step\n"
     ]
    },
    {
     "name": "stderr",
     "output_type": "stream",
     "text": [
      "Classifying 2_u00002s00001hw00005.svc:  49%|████▉     | 89/182 [02:16<01:55,  1.24s/file]"
     ]
    },
    {
     "name": "stdout",
     "output_type": "stream",
     "text": [
      "2_u00002s00001hw00005.svc: Predicted Emotion - Anxiety | Confidence Levels: Anxiety: 98.57%, Normal: 1.08%, Depression: 0.35%, Stress: 0.00%\n",
      "\u001b[1m100/100\u001b[0m \u001b[32m━━━━━━━━━━━━━━━━━━━━\u001b[0m\u001b[37m\u001b[0m \u001b[1m2s\u001b[0m 15ms/step\n"
     ]
    },
    {
     "name": "stderr",
     "output_type": "stream",
     "text": [
      "Classifying 2_u00002s00001hw00006.svc:  49%|████▉     | 90/182 [02:17<02:11,  1.42s/file]"
     ]
    },
    {
     "name": "stdout",
     "output_type": "stream",
     "text": [
      "2_u00002s00001hw00006.svc: Predicted Emotion - Anxiety | Confidence Levels: Anxiety: 66.88%, Depression: 19.42%, Normal: 13.71%, Stress: 0.00%\n",
      "\u001b[1m99/99\u001b[0m \u001b[32m━━━━━━━━━━━━━━━━━━━━\u001b[0m\u001b[37m\u001b[0m \u001b[1m1s\u001b[0m 14ms/step\n"
     ]
    },
    {
     "name": "stderr",
     "output_type": "stream",
     "text": [
      "Classifying 2_u00002s00001hw00007.svc:  50%|█████     | 91/182 [02:19<02:17,  1.51s/file]"
     ]
    },
    {
     "name": "stdout",
     "output_type": "stream",
     "text": [
      "2_u00002s00001hw00007.svc: Predicted Emotion - Anxiety | Confidence Levels: Anxiety: 86.50%, Normal: 7.68%, Depression: 5.81%, Stress: 0.01%\n",
      "\u001b[1m54/54\u001b[0m \u001b[32m━━━━━━━━━━━━━━━━━━━━\u001b[0m\u001b[37m\u001b[0m \u001b[1m1s\u001b[0m 15ms/step\n"
     ]
    },
    {
     "name": "stderr",
     "output_type": "stream",
     "text": [
      "Classifying 2_u00014s00001hw00001.svc:  51%|█████     | 92/182 [02:20<02:03,  1.38s/file]"
     ]
    },
    {
     "name": "stdout",
     "output_type": "stream",
     "text": [
      "2_u00014s00001hw00001.svc: Predicted Emotion - Anxiety | Confidence Levels: Anxiety: 70.97%, Depression: 17.97%, Normal: 11.06%, Stress: 0.00%\n",
      "\u001b[1m98/98\u001b[0m \u001b[32m━━━━━━━━━━━━━━━━━━━━\u001b[0m\u001b[37m\u001b[0m \u001b[1m1s\u001b[0m 14ms/step\n",
      "2_u00014s00001hw00002.svc: Predicted Emotion - Anxiety | Confidence Levels: Anxiety: 56.14%, Depression: 29.66%, Normal: 14.20%, Stress: 0.00%"
     ]
    },
    {
     "name": "stderr",
     "output_type": "stream",
     "text": [
      "Classifying 2_u00014s00001hw00002.svc:  51%|█████     | 93/182 [02:22<02:11,  1.48s/file]"
     ]
    },
    {
     "name": "stdout",
     "output_type": "stream",
     "text": [
      "\n",
      "\u001b[1m106/106\u001b[0m \u001b[32m━━━━━━━━━━━━━━━━━━━━\u001b[0m\u001b[37m\u001b[0m \u001b[1m2s\u001b[0m 15ms/step\n"
     ]
    },
    {
     "name": "stderr",
     "output_type": "stream",
     "text": [
      "Classifying 2_u00014s00001hw00002old.svc:  52%|█████▏    | 94/182 [02:24<02:22,  1.62s/file]"
     ]
    },
    {
     "name": "stdout",
     "output_type": "stream",
     "text": [
      "2_u00014s00001hw00002old.svc: Predicted Emotion - Anxiety | Confidence Levels: Anxiety: 55.19%, Depression: 30.62%, Normal: 14.20%, Stress: 0.00%\n",
      "\u001b[1m95/95\u001b[0m \u001b[32m━━━━━━━━━━━━━━━━━━━━\u001b[0m\u001b[37m\u001b[0m \u001b[1m1s\u001b[0m 14ms/step\n"
     ]
    },
    {
     "name": "stderr",
     "output_type": "stream",
     "text": [
      "Classifying 2_u00014s00001hw00003.svc:  52%|█████▏    | 95/182 [02:26<02:22,  1.63s/file]   "
     ]
    },
    {
     "name": "stdout",
     "output_type": "stream",
     "text": [
      "2_u00014s00001hw00003.svc: Predicted Emotion - Anxiety | Confidence Levels: Anxiety: 56.38%, Depression: 28.10%, Normal: 15.52%, Stress: 0.00%\n",
      "\u001b[1m37/37\u001b[0m \u001b[32m━━━━━━━━━━━━━━━━━━━━\u001b[0m\u001b[37m\u001b[0m \u001b[1m1s\u001b[0m 13ms/step\n"
     ]
    },
    {
     "name": "stderr",
     "output_type": "stream",
     "text": [
      "Classifying 2_u00014s00001hw00004.svc:  53%|█████▎    | 96/182 [02:26<01:57,  1.37s/file]"
     ]
    },
    {
     "name": "stdout",
     "output_type": "stream",
     "text": [
      "2_u00014s00001hw00004.svc: Predicted Emotion - Depression | Confidence Levels: Depression: 65.51%, Normal: 30.04%, Anxiety: 4.44%, Stress: 0.00%\n",
      "\u001b[1m34/34\u001b[0m \u001b[32m━━━━━━━━━━━━━━━━━━━━\u001b[0m\u001b[37m\u001b[0m \u001b[1m1s\u001b[0m 17ms/step\n",
      "2_u00014s00001hw00005.svc: Predicted Emotion - Anxiety | Confidence Levels: Anxiety: 89.06%, Normal: 5.56%, Depression: 5.37%, Stress: 0.00%"
     ]
    },
    {
     "name": "stderr",
     "output_type": "stream",
     "text": [
      "Classifying 2_u00014s00001hw00005.svc:  53%|█████▎    | 97/182 [02:27<01:42,  1.20s/file]"
     ]
    },
    {
     "name": "stdout",
     "output_type": "stream",
     "text": [
      "\n",
      "\u001b[1m132/132\u001b[0m \u001b[32m━━━━━━━━━━━━━━━━━━━━\u001b[0m\u001b[37m\u001b[0m \u001b[1m2s\u001b[0m 15ms/step\n",
      "2_u00014s00001hw00006.svc: Predicted Emotion - Depression | Confidence Levels: Depression: 42.52%, Anxiety: 32.93%, Normal: 24.55%, Stress: 0.00%\n"
     ]
    },
    {
     "name": "stderr",
     "output_type": "stream",
     "text": [
      "Classifying 2_u00014s00001hw00006.svc:  54%|█████▍    | 98/182 [02:29<02:08,  1.53s/file]"
     ]
    },
    {
     "name": "stdout",
     "output_type": "stream",
     "text": [
      "\u001b[1m90/90\u001b[0m \u001b[32m━━━━━━━━━━━━━━━━━━━━\u001b[0m\u001b[37m\u001b[0m \u001b[1m1s\u001b[0m 14ms/step\n"
     ]
    },
    {
     "name": "stderr",
     "output_type": "stream",
     "text": [
      "Classifying 2_u00014s00001hw00007.svc:  54%|█████▍    | 99/182 [02:31<02:08,  1.54s/file]"
     ]
    },
    {
     "name": "stdout",
     "output_type": "stream",
     "text": [
      "2_u00014s00001hw00007.svc: Predicted Emotion - Depression | Confidence Levels: Depression: 34.64%, Anxiety: 33.55%, Normal: 31.81%, Stress: 0.00%\n",
      "\u001b[1m70/70\u001b[0m \u001b[32m━━━━━━━━━━━━━━━━━━━━\u001b[0m\u001b[37m\u001b[0m \u001b[1m1s\u001b[0m 15ms/step\n",
      "2_u00025s00001hw00001.svc: Predicted Emotion - Stress | Confidence Levels: Stress: 72.19%, Anxiety: 24.48%, Normal: 3.18%, Depression: 0.15%\n"
     ]
    },
    {
     "name": "stderr",
     "output_type": "stream",
     "text": [
      "Classifying 2_u00025s00001hw00001.svc:  55%|█████▍    | 100/182 [02:32<02:01,  1.48s/file]"
     ]
    },
    {
     "name": "stdout",
     "output_type": "stream",
     "text": [
      "\u001b[1m144/144\u001b[0m \u001b[32m━━━━━━━━━━━━━━━━━━━━\u001b[0m\u001b[37m\u001b[0m \u001b[1m2s\u001b[0m 15ms/step\n",
      "2_u00025s00001hw00002.svc: Predicted Emotion - Anxiety | Confidence Levels: Anxiety: 81.94%, Stress: 14.36%, Normal: 3.49%, Depression: 0.21%"
     ]
    },
    {
     "name": "stderr",
     "output_type": "stream",
     "text": [
      "Classifying 2_u00025s00001hw00002.svc:  55%|█████▌    | 101/182 [02:35<02:24,  1.79s/file]"
     ]
    },
    {
     "name": "stdout",
     "output_type": "stream",
     "text": [
      "\n",
      "\u001b[1m141/141\u001b[0m \u001b[32m━━━━━━━━━━━━━━━━━━━━\u001b[0m\u001b[37m\u001b[0m \u001b[1m2s\u001b[0m 13ms/step\n",
      "2_u00025s00001hw00003.svc: Predicted Emotion - Anxiety | Confidence Levels: Anxiety: 89.62%, Normal: 6.26%, Depression: 4.12%, Stress: 0.01%\n"
     ]
    },
    {
     "name": "stderr",
     "output_type": "stream",
     "text": [
      "Classifying 2_u00025s00001hw00003.svc:  56%|█████▌    | 102/182 [02:37<02:34,  1.93s/file]"
     ]
    },
    {
     "name": "stdout",
     "output_type": "stream",
     "text": [
      "\u001b[1m24/24\u001b[0m \u001b[32m━━━━━━━━━━━━━━━━━━━━\u001b[0m\u001b[37m\u001b[0m \u001b[1m0s\u001b[0m 14ms/step\n",
      "2_u00025s00001hw00004.svc: Predicted Emotion - Normal | Confidence Levels: Normal: 46.80%, Depression: 32.08%, Anxiety: 21.11%, Stress: 0.01%"
     ]
    },
    {
     "name": "stderr",
     "output_type": "stream",
     "text": [
      "Classifying 2_u00025s00001hw00004.svc:  57%|█████▋    | 103/182 [02:38<02:00,  1.53s/file]"
     ]
    },
    {
     "name": "stdout",
     "output_type": "stream",
     "text": [
      "\n",
      "\u001b[1m22/22\u001b[0m \u001b[32m━━━━━━━━━━━━━━━━━━━━\u001b[0m\u001b[37m\u001b[0m \u001b[1m0s\u001b[0m 15ms/step\n",
      "2_u00025s00001hw00005.svc: Predicted Emotion - Anxiety | Confidence Levels: Anxiety: 95.68%, Normal: 3.27%, Depression: 1.04%, Stress: 0.02%\n"
     ]
    },
    {
     "name": "stderr",
     "output_type": "stream",
     "text": [
      "Classifying 2_u00025s00001hw00005.svc:  57%|█████▋    | 104/182 [02:38<01:37,  1.25s/file]"
     ]
    },
    {
     "name": "stdout",
     "output_type": "stream",
     "text": [
      "\u001b[1m106/106\u001b[0m \u001b[32m━━━━━━━━━━━━━━━━━━━━\u001b[0m\u001b[37m\u001b[0m \u001b[1m2s\u001b[0m 14ms/step\n"
     ]
    },
    {
     "name": "stderr",
     "output_type": "stream",
     "text": [
      "Classifying 2_u00025s00001hw00006.svc:  58%|█████▊    | 105/182 [02:41<02:12,  1.73s/file]"
     ]
    },
    {
     "name": "stdout",
     "output_type": "stream",
     "text": [
      "2_u00025s00001hw00006.svc: Predicted Emotion - Anxiety | Confidence Levels: Anxiety: 49.69%, Depression: 25.51%, Normal: 24.80%, Stress: 0.00%\n",
      "\u001b[1m124/124\u001b[0m \u001b[32m━━━━━━━━━━━━━━━━━━━━\u001b[0m\u001b[37m\u001b[0m \u001b[1m2s\u001b[0m 13ms/step\n",
      "2_u00025s00001hw00007.svc: Predicted Emotion - Anxiety | Confidence Levels: Anxiety: 44.95%, Depression: 27.66%, Normal: 27.38%, Stress: 0.00%\n"
     ]
    },
    {
     "name": "stderr",
     "output_type": "stream",
     "text": [
      "Classifying 2_u00025s00001hw00007.svc:  58%|█████▊    | 106/182 [02:43<02:17,  1.81s/file]"
     ]
    },
    {
     "name": "stdout",
     "output_type": "stream",
     "text": [
      "\u001b[1m52/52\u001b[0m \u001b[32m━━━━━━━━━━━━━━━━━━━━\u001b[0m\u001b[37m\u001b[0m \u001b[1m1s\u001b[0m 14ms/step\n",
      "2_u00026s00001hw00001.svc: Predicted Emotion - Anxiety | Confidence Levels: Anxiety: 79.34%, Depression: 13.50%, Normal: 7.16%, Stress: 0.00%"
     ]
    },
    {
     "name": "stderr",
     "output_type": "stream",
     "text": [
      "Classifying 2_u00026s00001hw00001.svc:  59%|█████▉    | 107/182 [02:44<01:57,  1.56s/file]"
     ]
    },
    {
     "name": "stdout",
     "output_type": "stream",
     "text": [
      "\n",
      "\u001b[1m81/81\u001b[0m \u001b[32m━━━━━━━━━━━━━━━━━━━━\u001b[0m\u001b[37m\u001b[0m \u001b[1m1s\u001b[0m 13ms/step\n"
     ]
    },
    {
     "name": "stderr",
     "output_type": "stream",
     "text": [
      "Classifying 2_u00026s00001hw00002.svc:  59%|█████▉    | 108/182 [02:46<01:54,  1.55s/file]"
     ]
    },
    {
     "name": "stdout",
     "output_type": "stream",
     "text": [
      "2_u00026s00001hw00002.svc: Predicted Emotion - Anxiety | Confidence Levels: Anxiety: 70.26%, Depression: 19.11%, Normal: 10.62%, Stress: 0.00%\n",
      "\u001b[1m94/94\u001b[0m \u001b[32m━━━━━━━━━━━━━━━━━━━━\u001b[0m\u001b[37m\u001b[0m \u001b[1m1s\u001b[0m 14ms/step\n",
      "2_u00026s00001hw00003.svc: Predicted Emotion - Anxiety | Confidence Levels: Anxiety: 56.53%, Depression: 28.62%, Normal: 14.84%, Stress: 0.00%\n"
     ]
    },
    {
     "name": "stderr",
     "output_type": "stream",
     "text": [
      "Classifying 2_u00026s00001hw00003.svc:  60%|█████▉    | 109/182 [02:47<01:54,  1.57s/file]"
     ]
    },
    {
     "name": "stdout",
     "output_type": "stream",
     "text": [
      "\u001b[1m23/23\u001b[0m \u001b[32m━━━━━━━━━━━━━━━━━━━━\u001b[0m\u001b[37m\u001b[0m \u001b[1m0s\u001b[0m 13ms/step\n",
      "2_u00026s00001hw00004.svc: Predicted Emotion - Depression | Confidence Levels: Depression: 64.56%, Normal: 31.04%, Anxiety: 4.40%, Stress: 0.00%"
     ]
    },
    {
     "name": "stderr",
     "output_type": "stream",
     "text": [
      "Classifying 2_u00026s00001hw00004.svc:  60%|██████    | 110/182 [02:48<01:30,  1.25s/file]"
     ]
    },
    {
     "name": "stdout",
     "output_type": "stream",
     "text": [
      "\n",
      "\u001b[1m25/25\u001b[0m \u001b[32m━━━━━━━━━━━━━━━━━━━━\u001b[0m\u001b[37m\u001b[0m \u001b[1m0s\u001b[0m 12ms/step\n",
      "2_u00026s00001hw00005.svc: Predicted Emotion - Anxiety | Confidence Levels: Anxiety: 75.54%, Normal: 12.26%, Depression: 12.20%, Stress: 0.00%"
     ]
    },
    {
     "name": "stderr",
     "output_type": "stream",
     "text": [
      "Classifying 2_u00026s00001hw00005.svc:  61%|██████    | 111/182 [02:48<01:13,  1.03s/file]"
     ]
    },
    {
     "name": "stdout",
     "output_type": "stream",
     "text": [
      "\n",
      "\u001b[1m71/71\u001b[0m \u001b[32m━━━━━━━━━━━━━━━━━━━━\u001b[0m\u001b[37m\u001b[0m \u001b[1m1s\u001b[0m 13ms/step\n"
     ]
    },
    {
     "name": "stderr",
     "output_type": "stream",
     "text": [
      "Classifying 2_u00026s00001hw00006.svc:  62%|██████▏   | 112/182 [02:49<01:16,  1.09s/file]"
     ]
    },
    {
     "name": "stdout",
     "output_type": "stream",
     "text": [
      "2_u00026s00001hw00006.svc: Predicted Emotion - Depression | Confidence Levels: Depression: 52.23%, Normal: 26.80%, Anxiety: 20.98%, Stress: 0.00%\n",
      "\u001b[1m78/78\u001b[0m \u001b[32m━━━━━━━━━━━━━━━━━━━━\u001b[0m\u001b[37m\u001b[0m \u001b[1m1s\u001b[0m 14ms/step\n",
      "2_u00026s00001hw00007.svc: Predicted Emotion - Anxiety | Confidence Levels: Anxiety: 37.41%, Depression: 34.02%, Normal: 28.56%, Stress: 0.00%\n"
     ]
    },
    {
     "name": "stderr",
     "output_type": "stream",
     "text": [
      "Classifying 2_u00026s00001hw00007.svc:  62%|██████▏   | 113/182 [02:51<01:21,  1.18s/file]"
     ]
    },
    {
     "name": "stdout",
     "output_type": "stream",
     "text": [
      "\u001b[1m87/87\u001b[0m \u001b[32m━━━━━━━━━━━━━━━━━━━━\u001b[0m\u001b[37m\u001b[0m \u001b[1m1s\u001b[0m 14ms/step\n"
     ]
    },
    {
     "name": "stderr",
     "output_type": "stream",
     "text": [
      "Classifying 2_u00029s00001hw00001.svc:  63%|██████▎   | 114/182 [02:52<01:28,  1.29s/file]"
     ]
    },
    {
     "name": "stdout",
     "output_type": "stream",
     "text": [
      "2_u00029s00001hw00001.svc: Predicted Emotion - Anxiety | Confidence Levels: Anxiety: 64.50%, Normal: 26.17%, Depression: 9.33%, Stress: 0.00%\n",
      "\u001b[1m156/156\u001b[0m \u001b[32m━━━━━━━━━━━━━━━━━━━━\u001b[0m\u001b[37m\u001b[0m \u001b[1m2s\u001b[0m 13ms/step\n",
      "2_u00029s00001hw00002.svc: Predicted Emotion - Anxiety | Confidence Levels: Anxiety: 81.39%, Normal: 11.34%, Depression: 7.27%, Stress: 0.00%\n"
     ]
    },
    {
     "name": "stderr",
     "output_type": "stream",
     "text": [
      "Classifying 2_u00029s00001hw00002.svc:  63%|██████▎   | 115/182 [02:55<01:48,  1.63s/file]"
     ]
    },
    {
     "name": "stdout",
     "output_type": "stream",
     "text": [
      "\u001b[1m109/109\u001b[0m \u001b[32m━━━━━━━━━━━━━━━━━━━━\u001b[0m\u001b[37m\u001b[0m \u001b[1m2s\u001b[0m 14ms/step\n"
     ]
    },
    {
     "name": "stderr",
     "output_type": "stream",
     "text": [
      "Classifying 2_u00029s00001hw00003.svc:  64%|██████▎   | 116/182 [02:57<01:52,  1.70s/file]"
     ]
    },
    {
     "name": "stdout",
     "output_type": "stream",
     "text": [
      "2_u00029s00001hw00003.svc: Predicted Emotion - Anxiety | Confidence Levels: Anxiety: 68.05%, Normal: 21.49%, Depression: 10.46%, Stress: 0.00%\n",
      "\u001b[1m23/23\u001b[0m \u001b[32m━━━━━━━━━━━━━━━━━━━━\u001b[0m\u001b[37m\u001b[0m \u001b[1m0s\u001b[0m 12ms/step\n",
      "2_u00029s00001hw00004.svc: Predicted Emotion - Anxiety | Confidence Levels: Anxiety: 95.55%, Normal: 3.33%, Depression: 1.12%, Stress: 0.00%"
     ]
    },
    {
     "name": "stderr",
     "output_type": "stream",
     "text": [
      "Classifying 2_u00029s00001hw00004.svc:  64%|██████▍   | 117/182 [02:57<01:29,  1.38s/file]"
     ]
    },
    {
     "name": "stdout",
     "output_type": "stream",
     "text": [
      "\n",
      "\u001b[1m21/21\u001b[0m \u001b[32m━━━━━━━━━━━━━━━━━━━━\u001b[0m\u001b[37m\u001b[0m \u001b[1m0s\u001b[0m 13ms/step\n"
     ]
    },
    {
     "name": "stderr",
     "output_type": "stream",
     "text": [
      "Classifying 2_u00029s00001hw00005.svc:  65%|██████▍   | 118/182 [02:58<01:11,  1.12s/file]"
     ]
    },
    {
     "name": "stdout",
     "output_type": "stream",
     "text": [
      "2_u00029s00001hw00005.svc: Predicted Emotion - Anxiety | Confidence Levels: Anxiety: 94.73%, Normal: 2.81%, Depression: 2.46%, Stress: 0.00%\n",
      "\u001b[1m80/80\u001b[0m \u001b[32m━━━━━━━━━━━━━━━━━━━━\u001b[0m\u001b[37m\u001b[0m \u001b[1m1s\u001b[0m 12ms/step\n",
      "2_u00029s00001hw00006.svc: Predicted Emotion - Anxiety | Confidence Levels: Anxiety: 85.44%, Depression: 7.42%, Normal: 7.14%, Stress: 0.00%\n"
     ]
    },
    {
     "name": "stderr",
     "output_type": "stream",
     "text": [
      "Classifying 2_u00029s00001hw00006.svc:  65%|██████▌   | 119/182 [02:59<01:14,  1.18s/file]"
     ]
    },
    {
     "name": "stdout",
     "output_type": "stream",
     "text": [
      "\u001b[1m111/111\u001b[0m \u001b[32m━━━━━━━━━━━━━━━━━━━━\u001b[0m\u001b[37m\u001b[0m \u001b[1m2s\u001b[0m 13ms/step\n",
      "2_u00029s00001hw00007.svc: Predicted Emotion - Anxiety | Confidence Levels: Anxiety: 80.81%, Normal: 12.73%, Depression: 6.45%, Stress: 0.01%\n"
     ]
    },
    {
     "name": "stderr",
     "output_type": "stream",
     "text": [
      "Classifying 2_u00029s00001hw00007.svc:  66%|██████▌   | 120/182 [03:01<01:24,  1.37s/file]"
     ]
    },
    {
     "name": "stdout",
     "output_type": "stream",
     "text": [
      "\u001b[1m103/103\u001b[0m \u001b[32m━━━━━━━━━━━━━━━━━━━━\u001b[0m\u001b[37m\u001b[0m \u001b[1m2s\u001b[0m 14ms/step\n",
      "2_u00031s00001hw00001.svc: Predicted Emotion - Anxiety | Confidence Levels: Anxiety: 89.93%, Depression: 5.18%, Normal: 4.88%, Stress: 0.00%"
     ]
    },
    {
     "name": "stderr",
     "output_type": "stream",
     "text": [
      "Classifying 2_u00031s00001hw00001.svc:  66%|██████▋   | 121/182 [03:03<01:31,  1.50s/file]"
     ]
    },
    {
     "name": "stdout",
     "output_type": "stream",
     "text": [
      "\n",
      "\u001b[1m161/161\u001b[0m \u001b[32m━━━━━━━━━━━━━━━━━━━━\u001b[0m\u001b[37m\u001b[0m \u001b[1m2s\u001b[0m 14ms/step\n"
     ]
    },
    {
     "name": "stderr",
     "output_type": "stream",
     "text": [
      "Classifying 2_u00031s00001hw00002.svc:  67%|██████▋   | 122/182 [03:05<01:51,  1.86s/file]"
     ]
    },
    {
     "name": "stdout",
     "output_type": "stream",
     "text": [
      "2_u00031s00001hw00002.svc: Predicted Emotion - Anxiety | Confidence Levels: Anxiety: 70.73%, Depression: 14.95%, Normal: 14.31%, Stress: 0.00%\n",
      "\u001b[1m132/132\u001b[0m \u001b[32m━━━━━━━━━━━━━━━━━━━━\u001b[0m\u001b[37m\u001b[0m \u001b[1m2s\u001b[0m 13ms/step\n",
      "2_u00031s00001hw00003.svc: Predicted Emotion - Anxiety | Confidence Levels: Anxiety: 61.65%, Depression: 22.58%, Normal: 15.77%, Stress: 0.00%\n"
     ]
    },
    {
     "name": "stderr",
     "output_type": "stream",
     "text": [
      "Classifying 2_u00031s00001hw00003.svc:  68%|██████▊   | 123/182 [03:08<01:53,  1.93s/file]"
     ]
    },
    {
     "name": "stdout",
     "output_type": "stream",
     "text": [
      "\u001b[1m11/11\u001b[0m \u001b[32m━━━━━━━━━━━━━━━━━━━━\u001b[0m\u001b[37m\u001b[0m \u001b[1m0s\u001b[0m 17ms/step\n"
     ]
    },
    {
     "name": "stderr",
     "output_type": "stream",
     "text": [
      "Classifying 2_u00031s00001hw00004.svc:  68%|██████▊   | 124/182 [03:08<01:25,  1.47s/file]"
     ]
    },
    {
     "name": "stdout",
     "output_type": "stream",
     "text": [
      "2_u00031s00001hw00004.svc: Predicted Emotion - Depression | Confidence Levels: Depression: 43.73%, Normal: 37.83%, Anxiety: 18.44%, Stress: 0.00%\n",
      "\u001b[1m24/24\u001b[0m \u001b[32m━━━━━━━━━━━━━━━━━━━━\u001b[0m\u001b[37m\u001b[0m \u001b[1m0s\u001b[0m 13ms/step\n",
      "2_u00031s00001hw00005.svc: Predicted Emotion - Anxiety | Confidence Levels: Anxiety: 90.36%, Normal: 6.49%, Depression: 3.15%, Stress: 0.00%"
     ]
    },
    {
     "name": "stderr",
     "output_type": "stream",
     "text": [
      "Classifying 2_u00031s00001hw00005.svc:  69%|██████▊   | 125/182 [03:09<01:08,  1.21s/file]"
     ]
    },
    {
     "name": "stdout",
     "output_type": "stream",
     "text": [
      "\n",
      "\u001b[1m80/80\u001b[0m \u001b[32m━━━━━━━━━━━━━━━━━━━━\u001b[0m\u001b[37m\u001b[0m \u001b[1m1s\u001b[0m 14ms/step\n"
     ]
    },
    {
     "name": "stderr",
     "output_type": "stream",
     "text": [
      "Classifying 2_u00031s00001hw00006.svc:  69%|██████▉   | 126/182 [03:10<01:11,  1.27s/file]"
     ]
    },
    {
     "name": "stdout",
     "output_type": "stream",
     "text": [
      "2_u00031s00001hw00006.svc: Predicted Emotion - Depression | Confidence Levels: Depression: 39.23%, Anxiety: 31.61%, Normal: 29.15%, Stress: 0.00%\n",
      "\u001b[1m98/98\u001b[0m \u001b[32m━━━━━━━━━━━━━━━━━━━━\u001b[0m\u001b[37m\u001b[0m \u001b[1m1s\u001b[0m 13ms/step\n"
     ]
    },
    {
     "name": "stderr",
     "output_type": "stream",
     "text": [
      "Classifying 2_u00031s00001hw00007.svc:  70%|██████▉   | 127/182 [03:12<01:16,  1.39s/file]"
     ]
    },
    {
     "name": "stdout",
     "output_type": "stream",
     "text": [
      "2_u00031s00001hw00007.svc: Predicted Emotion - Anxiety | Confidence Levels: Anxiety: 37.37%, Normal: 34.61%, Depression: 28.02%, Stress: 0.00%\n",
      "\u001b[1m61/61\u001b[0m \u001b[32m━━━━━━━━━━━━━━━━━━━━\u001b[0m\u001b[37m\u001b[0m \u001b[1m1s\u001b[0m 13ms/step\n",
      "2_u00032s00001hw00001.svc: Predicted Emotion - Anxiety | Confidence Levels: Anxiety: 89.21%, Normal: 5.63%, Depression: 5.16%, Stress: 0.00%\n"
     ]
    },
    {
     "name": "stderr",
     "output_type": "stream",
     "text": [
      "Classifying 2_u00032s00001hw00001.svc:  70%|███████   | 128/182 [03:13<01:09,  1.28s/file]"
     ]
    },
    {
     "name": "stdout",
     "output_type": "stream",
     "text": [
      "\u001b[1m110/110\u001b[0m \u001b[32m━━━━━━━━━━━━━━━━━━━━\u001b[0m\u001b[37m\u001b[0m \u001b[1m2s\u001b[0m 15ms/step\n",
      "2_u00032s00001hw00002.svc: Predicted Emotion - Anxiety | Confidence Levels: Anxiety: 50.11%, Depression: 34.10%, Normal: 15.79%, Stress: 0.00%\n"
     ]
    },
    {
     "name": "stderr",
     "output_type": "stream",
     "text": [
      "Classifying 2_u00032s00001hw00002.svc:  71%|███████   | 129/182 [03:15<01:19,  1.50s/file]"
     ]
    },
    {
     "name": "stdout",
     "output_type": "stream",
     "text": [
      "\u001b[1m149/149\u001b[0m \u001b[32m━━━━━━━━━━━━━━━━━━━━\u001b[0m\u001b[37m\u001b[0m \u001b[1m2s\u001b[0m 13ms/step\n",
      "2_u00032s00001hw00003.svc: Predicted Emotion - Depression | Confidence Levels: Depression: 62.43%, Normal: 20.29%, Anxiety: 17.28%, Stress: 0.00%\n"
     ]
    },
    {
     "name": "stderr",
     "output_type": "stream",
     "text": [
      "Classifying 2_u00032s00001hw00003.svc:  71%|███████▏  | 130/182 [03:17<01:31,  1.75s/file]"
     ]
    },
    {
     "name": "stdout",
     "output_type": "stream",
     "text": [
      "\u001b[1m26/26\u001b[0m \u001b[32m━━━━━━━━━━━━━━━━━━━━\u001b[0m\u001b[37m\u001b[0m \u001b[1m0s\u001b[0m 14ms/step\n"
     ]
    },
    {
     "name": "stderr",
     "output_type": "stream",
     "text": [
      "Classifying 2_u00032s00001hw00004.svc:  72%|███████▏  | 131/182 [03:18<01:11,  1.39s/file]"
     ]
    },
    {
     "name": "stdout",
     "output_type": "stream",
     "text": [
      "2_u00032s00001hw00004.svc: Predicted Emotion - Anxiety | Confidence Levels: Anxiety: 42.62%, Depression: 34.09%, Normal: 23.28%, Stress: 0.01%\n",
      "\u001b[1m19/19\u001b[0m \u001b[32m━━━━━━━━━━━━━━━━━━━━\u001b[0m\u001b[37m\u001b[0m \u001b[1m0s\u001b[0m 13ms/step\n",
      "2_u00032s00001hw00005.svc: Predicted Emotion - Anxiety | Confidence Levels: Anxiety: 96.56%, Normal: 2.52%, Depression: 0.91%, Stress: 0.00%"
     ]
    },
    {
     "name": "stderr",
     "output_type": "stream",
     "text": [
      "Classifying 2_u00032s00001hw00005.svc:  73%|███████▎  | 132/182 [03:18<00:57,  1.14s/file]"
     ]
    },
    {
     "name": "stdout",
     "output_type": "stream",
     "text": [
      "\n",
      "\u001b[1m90/90\u001b[0m \u001b[32m━━━━━━━━━━━━━━━━━━━━\u001b[0m\u001b[37m\u001b[0m \u001b[1m1s\u001b[0m 15ms/step\n"
     ]
    },
    {
     "name": "stderr",
     "output_type": "stream",
     "text": [
      "Classifying 2_u00032s00001hw00006.svc:  73%|███████▎  | 133/182 [03:20<01:03,  1.29s/file]"
     ]
    },
    {
     "name": "stdout",
     "output_type": "stream",
     "text": [
      "2_u00032s00001hw00006.svc: Predicted Emotion - Anxiety | Confidence Levels: Anxiety: 37.80%, Depression: 31.21%, Normal: 30.98%, Stress: 0.00%\n",
      "\u001b[1m129/129\u001b[0m \u001b[32m━━━━━━━━━━━━━━━━━━━━\u001b[0m\u001b[37m\u001b[0m \u001b[1m2s\u001b[0m 13ms/step\n"
     ]
    },
    {
     "name": "stderr",
     "output_type": "stream",
     "text": [
      "Classifying 2_u00032s00001hw00007.svc:  74%|███████▎  | 134/182 [03:22<01:13,  1.52s/file]"
     ]
    },
    {
     "name": "stdout",
     "output_type": "stream",
     "text": [
      "2_u00032s00001hw00007.svc: Predicted Emotion - Normal | Confidence Levels: Normal: 47.42%, Depression: 40.10%, Anxiety: 12.48%, Stress: 0.00%\n",
      "\u001b[1m83/83\u001b[0m \u001b[32m━━━━━━━━━━━━━━━━━━━━\u001b[0m\u001b[37m\u001b[0m \u001b[1m1s\u001b[0m 14ms/step\n"
     ]
    },
    {
     "name": "stderr",
     "output_type": "stream",
     "text": [
      "Classifying 2_u00033s00001hw00001.svc:  74%|███████▍  | 135/182 [03:23<01:11,  1.51s/file]"
     ]
    },
    {
     "name": "stdout",
     "output_type": "stream",
     "text": [
      "2_u00033s00001hw00001.svc: Predicted Emotion - Normal | Confidence Levels: Normal: 41.78%, Anxiety: 35.36%, Depression: 22.85%, Stress: 0.00%\n",
      "\u001b[1m148/148\u001b[0m \u001b[32m━━━━━━━━━━━━━━━━━━━━\u001b[0m\u001b[37m\u001b[0m \u001b[1m2s\u001b[0m 14ms/step\n",
      "2_u00033s00001hw00002.svc: Predicted Emotion - Anxiety | Confidence Levels: Anxiety: 62.58%, Normal: 22.83%, Depression: 14.59%, Stress: 0.00%\n"
     ]
    },
    {
     "name": "stderr",
     "output_type": "stream",
     "text": [
      "Classifying 2_u00033s00001hw00002.svc:  75%|███████▍  | 136/182 [03:26<01:22,  1.80s/file]"
     ]
    },
    {
     "name": "stdout",
     "output_type": "stream",
     "text": [
      "\u001b[1m98/98\u001b[0m \u001b[32m━━━━━━━━━━━━━━━━━━━━\u001b[0m\u001b[37m\u001b[0m \u001b[1m1s\u001b[0m 12ms/step\n"
     ]
    },
    {
     "name": "stderr",
     "output_type": "stream",
     "text": [
      "Classifying 2_u00033s00001hw00003.svc:  75%|███████▌  | 137/182 [03:27<01:19,  1.76s/file]"
     ]
    },
    {
     "name": "stdout",
     "output_type": "stream",
     "text": [
      "2_u00033s00001hw00003.svc: Predicted Emotion - Anxiety | Confidence Levels: Anxiety: 58.90%, Normal: 26.22%, Depression: 14.89%, Stress: 0.00%\n",
      "\u001b[1m34/34\u001b[0m \u001b[32m━━━━━━━━━━━━━━━━━━━━\u001b[0m\u001b[37m\u001b[0m \u001b[1m0s\u001b[0m 13ms/step\n"
     ]
    },
    {
     "name": "stderr",
     "output_type": "stream",
     "text": [
      "Classifying 2_u00033s00001hw00004.svc:  76%|███████▌  | 138/182 [03:28<01:04,  1.46s/file]"
     ]
    },
    {
     "name": "stdout",
     "output_type": "stream",
     "text": [
      "2_u00033s00001hw00004.svc: Predicted Emotion - Anxiety | Confidence Levels: Anxiety: 57.57%, Depression: 25.10%, Normal: 17.33%, Stress: 0.01%\n",
      "\u001b[1m32/32\u001b[0m \u001b[32m━━━━━━━━━━━━━━━━━━━━\u001b[0m\u001b[37m\u001b[0m \u001b[1m0s\u001b[0m 14ms/step\n",
      "2_u00033s00001hw00005.svc: Predicted Emotion - Anxiety | Confidence Levels: Anxiety: 96.87%, Normal: 2.28%, Depression: 0.85%, Stress: 0.00%"
     ]
    },
    {
     "name": "stderr",
     "output_type": "stream",
     "text": [
      "Classifying 2_u00033s00001hw00005.svc:  76%|███████▋  | 139/182 [03:29<00:52,  1.22s/file]"
     ]
    },
    {
     "name": "stdout",
     "output_type": "stream",
     "text": [
      "\n",
      "\u001b[1m262/262\u001b[0m \u001b[32m━━━━━━━━━━━━━━━━━━━━\u001b[0m\u001b[37m\u001b[0m \u001b[1m3s\u001b[0m 13ms/step\n"
     ]
    },
    {
     "name": "stderr",
     "output_type": "stream",
     "text": [
      "Classifying 2_u00033s00001hw00006.svc:  77%|███████▋  | 140/182 [03:33<01:26,  2.06s/file]"
     ]
    },
    {
     "name": "stdout",
     "output_type": "stream",
     "text": [
      "2_u00033s00001hw00006.svc: Predicted Emotion - Anxiety | Confidence Levels: Anxiety: 86.44%, Depression: 7.40%, Normal: 6.15%, Stress: 0.00%\n",
      "\u001b[1m102/102\u001b[0m \u001b[32m━━━━━━━━━━━━━━━━━━━━\u001b[0m\u001b[37m\u001b[0m \u001b[1m1s\u001b[0m 13ms/step\n"
     ]
    },
    {
     "name": "stderr",
     "output_type": "stream",
     "text": [
      "Classifying 2_u00033s00001hw00007.svc:  77%|███████▋  | 141/182 [03:35<01:19,  1.95s/file]"
     ]
    },
    {
     "name": "stdout",
     "output_type": "stream",
     "text": [
      "2_u00033s00001hw00007.svc: Predicted Emotion - Anxiety | Confidence Levels: Anxiety: 87.44%, Normal: 8.15%, Depression: 4.39%, Stress: 0.02%\n",
      "\u001b[1m80/80\u001b[0m \u001b[32m━━━━━━━━━━━━━━━━━━━━\u001b[0m\u001b[37m\u001b[0m \u001b[1m1s\u001b[0m 14ms/step\n"
     ]
    },
    {
     "name": "stderr",
     "output_type": "stream",
     "text": [
      "Classifying 2_u00036s00001hw00001.svc:  78%|███████▊  | 142/182 [03:36<01:12,  1.82s/file]"
     ]
    },
    {
     "name": "stdout",
     "output_type": "stream",
     "text": [
      "2_u00036s00001hw00001.svc: Predicted Emotion - Anxiety | Confidence Levels: Anxiety: 99.13%, Normal: 0.68%, Depression: 0.14%, Stress: 0.05%\n",
      "\u001b[1m157/157\u001b[0m \u001b[32m━━━━━━━━━━━━━━━━━━━━\u001b[0m\u001b[37m\u001b[0m \u001b[1m2s\u001b[0m 13ms/step\n"
     ]
    },
    {
     "name": "stderr",
     "output_type": "stream",
     "text": [
      "Classifying 2_u00036s00001hw00002.svc:  79%|███████▊  | 143/182 [03:39<01:19,  2.03s/file]"
     ]
    },
    {
     "name": "stdout",
     "output_type": "stream",
     "text": [
      "2_u00036s00001hw00002.svc: Predicted Emotion - Anxiety | Confidence Levels: Anxiety: 97.05%, Normal: 2.17%, Depression: 0.75%, Stress: 0.03%\n",
      "\u001b[1m212/212\u001b[0m \u001b[32m━━━━━━━━━━━━━━━━━━━━\u001b[0m\u001b[37m\u001b[0m \u001b[1m3s\u001b[0m 13ms/step\n"
     ]
    },
    {
     "name": "stderr",
     "output_type": "stream",
     "text": [
      "Classifying 2_u00036s00001hw00003.svc:  79%|███████▉  | 144/182 [03:42<01:32,  2.44s/file]"
     ]
    },
    {
     "name": "stdout",
     "output_type": "stream",
     "text": [
      "2_u00036s00001hw00003.svc: Predicted Emotion - Anxiety | Confidence Levels: Anxiety: 56.77%, Depression: 22.12%, Normal: 21.11%, Stress: 0.01%\n",
      "\u001b[1m10/10\u001b[0m \u001b[32m━━━━━━━━━━━━━━━━━━━━\u001b[0m\u001b[37m\u001b[0m \u001b[1m0s\u001b[0m 14ms/step\n"
     ]
    },
    {
     "name": "stderr",
     "output_type": "stream",
     "text": [
      "Classifying 2_u00036s00001hw00004.svc:  80%|███████▉  | 145/182 [03:42<01:06,  1.81s/file]"
     ]
    },
    {
     "name": "stdout",
     "output_type": "stream",
     "text": [
      "2_u00036s00001hw00004.svc: Predicted Emotion - Depression | Confidence Levels: Normal: 42.52%, Depression: 39.36%, Anxiety: 18.12%, Stress: 0.01%\n",
      "\u001b[1m12/12\u001b[0m \u001b[32m━━━━━━━━━━━━━━━━━━━━\u001b[0m\u001b[37m\u001b[0m \u001b[1m0s\u001b[0m 12ms/step\n"
     ]
    },
    {
     "name": "stderr",
     "output_type": "stream",
     "text": [
      "Classifying 2_u00036s00001hw00005.svc:  80%|████████  | 146/182 [03:43<00:49,  1.38s/file]"
     ]
    },
    {
     "name": "stdout",
     "output_type": "stream",
     "text": [
      "2_u00036s00001hw00005.svc: Predicted Emotion - Anxiety | Confidence Levels: Anxiety: 94.18%, Normal: 4.09%, Depression: 1.72%, Stress: 0.01%\n",
      "\u001b[1m92/92\u001b[0m \u001b[32m━━━━━━━━━━━━━━━━━━━━\u001b[0m\u001b[37m\u001b[0m \u001b[1m1s\u001b[0m 14ms/step\n",
      "2_u00036s00001hw00006.svc: Predicted Emotion - Anxiety | Confidence Levels: Anxiety: 45.53%, Normal: 28.82%, Depression: 25.64%, Stress: 0.00%\n"
     ]
    },
    {
     "name": "stderr",
     "output_type": "stream",
     "text": [
      "Classifying 2_u00036s00001hw00006.svc:  81%|████████  | 147/182 [03:44<00:50,  1.43s/file]"
     ]
    },
    {
     "name": "stdout",
     "output_type": "stream",
     "text": [
      "\u001b[1m129/129\u001b[0m \u001b[32m━━━━━━━━━━━━━━━━━━━━\u001b[0m\u001b[37m\u001b[0m \u001b[1m2s\u001b[0m 13ms/step\n"
     ]
    },
    {
     "name": "stderr",
     "output_type": "stream",
     "text": [
      "Classifying 2_u00036s00001hw00007.svc:  81%|████████▏ | 148/182 [03:46<00:55,  1.62s/file]"
     ]
    },
    {
     "name": "stdout",
     "output_type": "stream",
     "text": [
      "2_u00036s00001hw00007.svc: Predicted Emotion - Anxiety | Confidence Levels: Anxiety: 40.77%, Normal: 35.86%, Depression: 23.36%, Stress: 0.00%\n",
      "\u001b[1m80/80\u001b[0m \u001b[32m━━━━━━━━━━━━━━━━━━━━\u001b[0m\u001b[37m\u001b[0m \u001b[1m1s\u001b[0m 15ms/step\n",
      "2_u00041s00001hw00001.svc: Predicted Emotion - Anxiety | Confidence Levels: Anxiety: 99.24%, Normal: 0.60%, Depression: 0.15%, Stress: 0.01%"
     ]
    },
    {
     "name": "stderr",
     "output_type": "stream",
     "text": [
      "Classifying 2_u00041s00001hw00001.svc:  82%|████████▏ | 149/182 [03:48<00:52,  1.59s/file]"
     ]
    },
    {
     "name": "stdout",
     "output_type": "stream",
     "text": [
      "\n",
      "\u001b[1m106/106\u001b[0m \u001b[32m━━━━━━━━━━━━━━━━━━━━\u001b[0m\u001b[37m\u001b[0m \u001b[1m1s\u001b[0m 13ms/step\n",
      "2_u00041s00001hw00002.svc: Predicted Emotion - Anxiety | Confidence Levels: Anxiety: 97.40%, Normal: 1.87%, Depression: 0.72%, Stress: 0.01%\n"
     ]
    },
    {
     "name": "stderr",
     "output_type": "stream",
     "text": [
      "Classifying 2_u00041s00001hw00002.svc:  82%|████████▏ | 150/182 [03:50<00:52,  1.63s/file]"
     ]
    },
    {
     "name": "stdout",
     "output_type": "stream",
     "text": [
      "\u001b[1m102/102\u001b[0m \u001b[32m━━━━━━━━━━━━━━━━━━━━\u001b[0m\u001b[37m\u001b[0m \u001b[1m1s\u001b[0m 13ms/step\n",
      "2_u00041s00001hw00003.svc: Predicted Emotion - Anxiety | Confidence Levels: Anxiety: 79.94%, Depression: 11.03%, Normal: 9.03%, Stress: 0.00%\n"
     ]
    },
    {
     "name": "stderr",
     "output_type": "stream",
     "text": [
      "Classifying 2_u00041s00001hw00003.svc:  83%|████████▎ | 151/182 [03:51<00:50,  1.64s/file]"
     ]
    },
    {
     "name": "stdout",
     "output_type": "stream",
     "text": [
      "\u001b[1m13/13\u001b[0m \u001b[32m━━━━━━━━━━━━━━━━━━━━\u001b[0m\u001b[37m\u001b[0m \u001b[1m0s\u001b[0m 21ms/step\n"
     ]
    },
    {
     "name": "stderr",
     "output_type": "stream",
     "text": [
      "Classifying 2_u00041s00001hw00004.svc:  84%|████████▎ | 152/182 [03:52<00:38,  1.29s/file]"
     ]
    },
    {
     "name": "stdout",
     "output_type": "stream",
     "text": [
      "2_u00041s00001hw00004.svc: Predicted Emotion - Anxiety | Confidence Levels: Anxiety: 74.96%, Normal: 13.08%, Depression: 11.95%, Stress: 0.01%\n",
      "\u001b[1m10/10\u001b[0m \u001b[32m━━━━━━━━━━━━━━━━━━━━\u001b[0m\u001b[37m\u001b[0m \u001b[1m0s\u001b[0m 12ms/step\n"
     ]
    },
    {
     "name": "stderr",
     "output_type": "stream",
     "text": [
      "Classifying 2_u00041s00001hw00005.svc:  84%|████████▍ | 153/182 [03:52<00:29,  1.01s/file]"
     ]
    },
    {
     "name": "stdout",
     "output_type": "stream",
     "text": [
      "2_u00041s00001hw00005.svc: Predicted Emotion - Anxiety | Confidence Levels: Anxiety: 88.82%, Normal: 6.93%, Depression: 4.25%, Stress: 0.00%\n",
      "\u001b[1m86/86\u001b[0m \u001b[32m━━━━━━━━━━━━━━━━━━━━\u001b[0m\u001b[37m\u001b[0m \u001b[1m1s\u001b[0m 15ms/step\n"
     ]
    },
    {
     "name": "stderr",
     "output_type": "stream",
     "text": [
      "Classifying 2_u00041s00001hw00006.svc:  85%|████████▍ | 154/182 [03:54<00:33,  1.19s/file]"
     ]
    },
    {
     "name": "stdout",
     "output_type": "stream",
     "text": [
      "2_u00041s00001hw00006.svc: Predicted Emotion - Depression | Confidence Levels: Anxiety: 37.72%, Depression: 36.10%, Normal: 26.18%, Stress: 0.00%\n",
      "\u001b[1m110/110\u001b[0m \u001b[32m━━━━━━━━━━━━━━━━━━━━\u001b[0m\u001b[37m\u001b[0m \u001b[1m2s\u001b[0m 13ms/step\n",
      "2_u00041s00001hw00007.svc: Predicted Emotion - Depression | Confidence Levels: Depression: 45.61%, Normal: 28.29%, Anxiety: 26.09%, Stress: 0.00%\n"
     ]
    },
    {
     "name": "stderr",
     "output_type": "stream",
     "text": [
      "Classifying 2_u00041s00001hw00007.svc:  85%|████████▌ | 155/182 [03:56<00:37,  1.38s/file]"
     ]
    },
    {
     "name": "stdout",
     "output_type": "stream",
     "text": [
      "\u001b[1m59/59\u001b[0m \u001b[32m━━━━━━━━━━━━━━━━━━━━\u001b[0m\u001b[37m\u001b[0m \u001b[1m1s\u001b[0m 14ms/step\n",
      "2_u00042s00001hw00001.svc: Predicted Emotion - Anxiety | Confidence Levels: Anxiety: 94.07%, Normal: 3.00%, Depression: 2.93%, Stress: 0.00%\n"
     ]
    },
    {
     "name": "stderr",
     "output_type": "stream",
     "text": [
      "Classifying 2_u00042s00001hw00001.svc:  86%|████████▌ | 156/182 [03:57<00:33,  1.30s/file]"
     ]
    },
    {
     "name": "stdout",
     "output_type": "stream",
     "text": [
      "\u001b[1m134/134\u001b[0m \u001b[32m━━━━━━━━━━━━━━━━━━━━\u001b[0m\u001b[37m\u001b[0m \u001b[1m2s\u001b[0m 14ms/step\n",
      "2_u00042s00001hw00002.svc: Predicted Emotion - Anxiety | Confidence Levels: Anxiety: 90.30%, Depression: 5.05%, Normal: 4.65%, Stress: 0.00%"
     ]
    },
    {
     "name": "stderr",
     "output_type": "stream",
     "text": [
      "Classifying 2_u00042s00001hw00002.svc:  86%|████████▋ | 157/182 [03:59<00:39,  1.58s/file]"
     ]
    },
    {
     "name": "stdout",
     "output_type": "stream",
     "text": [
      "\n",
      "\u001b[1m150/150\u001b[0m \u001b[32m━━━━━━━━━━━━━━━━━━━━\u001b[0m\u001b[37m\u001b[0m \u001b[1m2s\u001b[0m 13ms/step\n",
      "2_u00042s00001hw00003.svc: Predicted Emotion - Anxiety | Confidence Levels: Anxiety: 75.72%, Depression: 14.28%, Normal: 9.99%, Stress: 0.00%\n"
     ]
    },
    {
     "name": "stderr",
     "output_type": "stream",
     "text": [
      "Classifying 2_u00042s00001hw00003.svc:  87%|████████▋ | 158/182 [04:01<00:44,  1.84s/file]"
     ]
    },
    {
     "name": "stdout",
     "output_type": "stream",
     "text": [
      "\u001b[1m17/17\u001b[0m \u001b[32m━━━━━━━━━━━━━━━━━━━━\u001b[0m\u001b[37m\u001b[0m \u001b[1m0s\u001b[0m 16ms/step\n"
     ]
    },
    {
     "name": "stderr",
     "output_type": "stream",
     "text": [
      "Classifying 2_u00042s00001hw00004.svc:  87%|████████▋ | 159/182 [04:02<00:33,  1.44s/file]"
     ]
    },
    {
     "name": "stdout",
     "output_type": "stream",
     "text": [
      "2_u00042s00001hw00004.svc: Predicted Emotion - Depression | Confidence Levels: Depression: 78.94%, Normal: 18.87%, Anxiety: 2.19%, Stress: 0.00%\n",
      "\u001b[1m12/12\u001b[0m \u001b[32m━━━━━━━━━━━━━━━━━━━━\u001b[0m\u001b[37m\u001b[0m \u001b[1m0s\u001b[0m 15ms/step\n",
      "2_u00042s00001hw00005.svc: Predicted Emotion - Anxiety | Confidence Levels: Anxiety: 97.23%, Normal: 2.04%, Depression: 0.73%, Stress: 0.00%\n"
     ]
    },
    {
     "name": "stderr",
     "output_type": "stream",
     "text": [
      "Classifying 2_u00042s00001hw00005.svc:  88%|████████▊ | 160/182 [04:02<00:24,  1.13s/file]"
     ]
    },
    {
     "name": "stdout",
     "output_type": "stream",
     "text": [
      "\u001b[1m82/82\u001b[0m \u001b[32m━━━━━━━━━━━━━━━━━━━━\u001b[0m\u001b[37m\u001b[0m \u001b[1m1s\u001b[0m 13ms/step\n"
     ]
    },
    {
     "name": "stderr",
     "output_type": "stream",
     "text": [
      "Classifying 2_u00042s00001hw00006.svc:  88%|████████▊ | 161/182 [04:04<00:25,  1.22s/file]"
     ]
    },
    {
     "name": "stdout",
     "output_type": "stream",
     "text": [
      "2_u00042s00001hw00006.svc: Predicted Emotion - Anxiety | Confidence Levels: Anxiety: 68.10%, Depression: 17.77%, Normal: 14.13%, Stress: 0.00%\n",
      "\u001b[1m121/121\u001b[0m \u001b[32m━━━━━━━━━━━━━━━━━━━━\u001b[0m\u001b[37m\u001b[0m \u001b[1m2s\u001b[0m 13ms/step\n",
      "2_u00042s00001hw00007.svc: Predicted Emotion - Anxiety | Confidence Levels: Anxiety: 66.66%, Depression: 18.52%, Normal: 14.82%, Stress: 0.00%\n"
     ]
    },
    {
     "name": "stderr",
     "output_type": "stream",
     "text": [
      "Classifying 2_u00042s00001hw00007.svc:  89%|████████▉ | 162/182 [04:06<00:29,  1.47s/file]"
     ]
    },
    {
     "name": "stdout",
     "output_type": "stream",
     "text": [
      "\u001b[1m78/78\u001b[0m \u001b[32m━━━━━━━━━━━━━━━━━━━━\u001b[0m\u001b[37m\u001b[0m \u001b[1m1s\u001b[0m 13ms/step\n",
      "2_u00043s00001hw00001.svc: Predicted Emotion - Anxiety | Confidence Levels: Anxiety: 72.75%, Normal: 14.76%, Depression: 12.49%, Stress: 0.00%"
     ]
    },
    {
     "name": "stderr",
     "output_type": "stream",
     "text": [
      "Classifying 2_u00043s00001hw00001.svc:  90%|████████▉ | 163/182 [04:07<00:27,  1.43s/file]"
     ]
    },
    {
     "name": "stdout",
     "output_type": "stream",
     "text": [
      "\n",
      "\u001b[1m111/111\u001b[0m \u001b[32m━━━━━━━━━━━━━━━━━━━━\u001b[0m\u001b[37m\u001b[0m \u001b[1m2s\u001b[0m 13ms/step\n"
     ]
    },
    {
     "name": "stderr",
     "output_type": "stream",
     "text": [
      "Classifying 2_u00043s00001hw00002.svc:  90%|█████████ | 164/182 [04:09<00:28,  1.58s/file]"
     ]
    },
    {
     "name": "stdout",
     "output_type": "stream",
     "text": [
      "2_u00043s00001hw00002.svc: Predicted Emotion - Anxiety | Confidence Levels: Anxiety: 86.09%, Depression: 7.32%, Normal: 6.59%, Stress: 0.00%\n",
      "\u001b[1m130/130\u001b[0m \u001b[32m━━━━━━━━━━━━━━━━━━━━\u001b[0m\u001b[37m\u001b[0m \u001b[1m2s\u001b[0m 15ms/step\n",
      "2_u00043s00001hw00003.svc: Predicted Emotion - Anxiety | Confidence Levels: Anxiety: 71.27%, Depression: 15.26%, Normal: 13.47%, Stress: 0.00%\n"
     ]
    },
    {
     "name": "stderr",
     "output_type": "stream",
     "text": [
      "Classifying 2_u00043s00001hw00003.svc:  91%|█████████ | 165/182 [04:11<00:31,  1.85s/file]"
     ]
    },
    {
     "name": "stdout",
     "output_type": "stream",
     "text": [
      "\u001b[1m12/12\u001b[0m \u001b[32m━━━━━━━━━━━━━━━━━━━━\u001b[0m\u001b[37m\u001b[0m \u001b[1m0s\u001b[0m 13ms/step\n"
     ]
    },
    {
     "name": "stderr",
     "output_type": "stream",
     "text": [
      "Classifying 2_u00043s00001hw00004.svc:  91%|█████████ | 165/182 [04:12<00:31,  1.85s/file]"
     ]
    },
    {
     "name": "stdout",
     "output_type": "stream",
     "text": [
      "2_u00043s00001hw00004.svc: Predicted Emotion - Depression | Confidence Levels: Depression: 84.10%, Normal: 14.46%, Anxiety: 1.44%, Stress: 0.00%\n"
     ]
    },
    {
     "name": "stderr",
     "output_type": "stream",
     "text": [
      "Classifying 2_u00043s00001hw00004.svc:  91%|█████████ | 166/182 [04:12<00:22,  1.41s/file]"
     ]
    },
    {
     "name": "stdout",
     "output_type": "stream",
     "text": [
      "\u001b[1m5/5\u001b[0m \u001b[32m━━━━━━━━━━━━━━━━━━━━\u001b[0m\u001b[37m\u001b[0m \u001b[1m0s\u001b[0m 16ms/step\n"
     ]
    },
    {
     "name": "stderr",
     "output_type": "stream",
     "text": [
      "Classifying 2_u00043s00001hw00005.svc:  92%|█████████▏| 167/182 [04:12<00:16,  1.10s/file]"
     ]
    },
    {
     "name": "stdout",
     "output_type": "stream",
     "text": [
      "2_u00043s00001hw00005.svc: Predicted Emotion - Anxiety | Confidence Levels: Anxiety: 93.46%, Normal: 4.12%, Depression: 2.42%, Stress: 0.00%\n",
      "\u001b[1m65/65\u001b[0m \u001b[32m━━━━━━━━━━━━━━━━━━━━\u001b[0m\u001b[37m\u001b[0m \u001b[1m1s\u001b[0m 13ms/step\n"
     ]
    },
    {
     "name": "stderr",
     "output_type": "stream",
     "text": [
      "Classifying 2_u00043s00001hw00006.svc:  92%|█████████▏| 168/182 [04:13<00:15,  1.12s/file]"
     ]
    },
    {
     "name": "stdout",
     "output_type": "stream",
     "text": [
      "2_u00043s00001hw00006.svc: Predicted Emotion - Anxiety | Confidence Levels: Anxiety: 47.43%, Depression: 36.68%, Normal: 15.89%, Stress: 0.00%\n",
      "\u001b[1m82/82\u001b[0m \u001b[32m━━━━━━━━━━━━━━━━━━━━\u001b[0m\u001b[37m\u001b[0m \u001b[1m1s\u001b[0m 13ms/step\n"
     ]
    },
    {
     "name": "stderr",
     "output_type": "stream",
     "text": [
      "Classifying 2_u00043s00001hw00007.svc:  93%|█████████▎| 169/182 [04:15<00:16,  1.25s/file]"
     ]
    },
    {
     "name": "stdout",
     "output_type": "stream",
     "text": [
      "2_u00043s00001hw00007.svc: Predicted Emotion - Anxiety | Confidence Levels: Anxiety: 59.80%, Depression: 24.77%, Normal: 15.43%, Stress: 0.00%\n",
      "\u001b[1m67/67\u001b[0m \u001b[32m━━━━━━━━━━━━━━━━━━━━\u001b[0m\u001b[37m\u001b[0m \u001b[1m1s\u001b[0m 15ms/step\n"
     ]
    },
    {
     "name": "stderr",
     "output_type": "stream",
     "text": [
      "Classifying 3_u00020s00001hw00001.svc:  93%|█████████▎| 170/182 [04:16<00:15,  1.30s/file]"
     ]
    },
    {
     "name": "stdout",
     "output_type": "stream",
     "text": [
      "3_u00020s00001hw00001.svc: Predicted Emotion - Stress | Confidence Levels: Stress: 97.82%, Normal: 1.66%, Depression: 0.52%, Anxiety: 0.00%\n",
      "\u001b[1m100/100\u001b[0m \u001b[32m━━━━━━━━━━━━━━━━━━━━\u001b[0m\u001b[37m\u001b[0m \u001b[1m1s\u001b[0m 13ms/step\n"
     ]
    },
    {
     "name": "stderr",
     "output_type": "stream",
     "text": [
      "Classifying 3_u00020s00001hw00002.svc:  94%|█████████▍| 171/182 [04:18<00:15,  1.43s/file]"
     ]
    },
    {
     "name": "stdout",
     "output_type": "stream",
     "text": [
      "3_u00020s00001hw00002.svc: Predicted Emotion - Stress | Confidence Levels: Stress: 97.62%, Normal: 2.29%, Depression: 0.08%, Anxiety: 0.01%\n",
      "\u001b[1m102/102\u001b[0m \u001b[32m━━━━━━━━━━━━━━━━━━━━\u001b[0m\u001b[37m\u001b[0m \u001b[1m1s\u001b[0m 13ms/step\n"
     ]
    },
    {
     "name": "stderr",
     "output_type": "stream",
     "text": [
      "Classifying 3_u00020s00001hw00003.svc:  95%|█████████▍| 172/182 [04:20<00:15,  1.53s/file]"
     ]
    },
    {
     "name": "stdout",
     "output_type": "stream",
     "text": [
      "3_u00020s00001hw00003.svc: Predicted Emotion - Stress | Confidence Levels: Stress: 98.19%, Normal: 1.75%, Depression: 0.03%, Anxiety: 0.03%\n",
      "\u001b[1m105/105\u001b[0m \u001b[32m━━━━━━━━━━━━━━━━━━━━\u001b[0m\u001b[37m\u001b[0m \u001b[1m2s\u001b[0m 15ms/step\n"
     ]
    },
    {
     "name": "stderr",
     "output_type": "stream",
     "text": [
      "Classifying 3_u00020s00001hw00003old.svc:  95%|█████████▌| 173/182 [04:22<00:15,  1.69s/file]"
     ]
    },
    {
     "name": "stdout",
     "output_type": "stream",
     "text": [
      "3_u00020s00001hw00003old.svc: Predicted Emotion - Stress | Confidence Levels: Stress: 98.17%, Normal: 1.77%, Depression: 0.03%, Anxiety: 0.03%\n",
      "\u001b[1m30/30\u001b[0m \u001b[32m━━━━━━━━━━━━━━━━━━━━\u001b[0m\u001b[37m\u001b[0m \u001b[1m0s\u001b[0m 14ms/step\n"
     ]
    },
    {
     "name": "stderr",
     "output_type": "stream",
     "text": [
      "Classifying 3_u00020s00001hw00004.svc:  96%|█████████▌| 174/182 [04:23<00:11,  1.39s/file]   "
     ]
    },
    {
     "name": "stdout",
     "output_type": "stream",
     "text": [
      "3_u00020s00001hw00004.svc: Predicted Emotion - Stress | Confidence Levels: Stress: 55.23%, Anxiety: 27.67%, Normal: 16.85%, Depression: 0.26%\n",
      "\u001b[1m39/39\u001b[0m \u001b[32m━━━━━━━━━━━━━━━━━━━━\u001b[0m\u001b[37m\u001b[0m \u001b[1m1s\u001b[0m 16ms/step\n",
      "3_u00020s00001hw00005.svc: Predicted Emotion - Stress | Confidence Levels: Stress: 97.08%, Normal: 1.48%, Anxiety: 1.42%, Depression: 0.02%"
     ]
    },
    {
     "name": "stderr",
     "output_type": "stream",
     "text": [
      "Classifying 3_u00020s00001hw00005.svc:  96%|█████████▌| 175/182 [04:23<00:08,  1.23s/file]"
     ]
    },
    {
     "name": "stdout",
     "output_type": "stream",
     "text": [
      "\n",
      "\u001b[1m73/73\u001b[0m \u001b[32m━━━━━━━━━━━━━━━━━━━━\u001b[0m\u001b[37m\u001b[0m \u001b[1m1s\u001b[0m 14ms/step\n",
      "3_u00020s00001hw00006.svc: Predicted Emotion - Anxiety | Confidence Levels: Anxiety: 68.53%, Normal: 26.90%, Depression: 4.33%, Stress: 0.24%"
     ]
    },
    {
     "name": "stderr",
     "output_type": "stream",
     "text": [
      "Classifying 3_u00020s00001hw00006.svc:  97%|█████████▋| 176/182 [04:25<00:07,  1.27s/file]"
     ]
    },
    {
     "name": "stdout",
     "output_type": "stream",
     "text": [
      "\n",
      "\u001b[1m93/93\u001b[0m \u001b[32m━━━━━━━━━━━━━━━━━━━━\u001b[0m\u001b[37m\u001b[0m \u001b[1m1s\u001b[0m 15ms/step\n",
      "3_u00020s00001hw00007.svc: Predicted Emotion - Anxiety | Confidence Levels: Anxiety: 45.84%, Stress: 24.39%, Normal: 24.06%, Depression: 5.71%"
     ]
    },
    {
     "name": "stderr",
     "output_type": "stream",
     "text": [
      "Classifying 3_u00020s00001hw00007.svc:  97%|█████████▋| 177/182 [04:27<00:07,  1.42s/file]"
     ]
    },
    {
     "name": "stdout",
     "output_type": "stream",
     "text": [
      "\n",
      "\u001b[1m67/67\u001b[0m \u001b[32m━━━━━━━━━━━━━━━━━━━━\u001b[0m\u001b[37m\u001b[0m \u001b[1m1s\u001b[0m 14ms/step\n",
      "3_u00021s00001hw00001.svc: Predicted Emotion - Stress | Confidence Levels: Stress: 97.82%, Normal: 1.66%, Depression: 0.52%, Anxiety: 0.00%"
     ]
    },
    {
     "name": "stderr",
     "output_type": "stream",
     "text": [
      "Classifying 3_u00021s00001hw00001.svc:  98%|█████████▊| 178/182 [04:28<00:05,  1.39s/file]"
     ]
    },
    {
     "name": "stdout",
     "output_type": "stream",
     "text": [
      "\n",
      "\u001b[1m100/100\u001b[0m \u001b[32m━━━━━━━━━━━━━━━━━━━━\u001b[0m\u001b[37m\u001b[0m \u001b[1m1s\u001b[0m 14ms/step\n"
     ]
    },
    {
     "name": "stderr",
     "output_type": "stream",
     "text": [
      "Classifying 3_u00021s00001hw00002.svc:  98%|█████████▊| 179/182 [04:30<00:04,  1.51s/file]"
     ]
    },
    {
     "name": "stdout",
     "output_type": "stream",
     "text": [
      "3_u00021s00001hw00002.svc: Predicted Emotion - Stress | Confidence Levels: Stress: 97.62%, Normal: 2.29%, Depression: 0.08%, Anxiety: 0.01%\n",
      "\u001b[1m105/105\u001b[0m \u001b[32m━━━━━━━━━━━━━━━━━━━━\u001b[0m\u001b[37m\u001b[0m \u001b[1m2s\u001b[0m 14ms/step\n",
      "3_u00021s00001hw00003.svc: Predicted Emotion - Stress | Confidence Levels: Stress: 98.17%, Normal: 1.77%, Depression: 0.03%, Anxiety: 0.03%\n"
     ]
    },
    {
     "name": "stderr",
     "output_type": "stream",
     "text": [
      "Classifying 3_u00021s00001hw00003.svc:  99%|█████████▉| 180/182 [04:32<00:03,  1.62s/file]"
     ]
    },
    {
     "name": "stdout",
     "output_type": "stream",
     "text": [
      "\u001b[1m30/30\u001b[0m \u001b[32m━━━━━━━━━━━━━━━━━━━━\u001b[0m\u001b[37m\u001b[0m \u001b[1m1s\u001b[0m 17ms/step\n"
     ]
    },
    {
     "name": "stderr",
     "output_type": "stream",
     "text": [
      "Classifying 3_u00021s00001hw00004.svc:  99%|█████████▉| 181/182 [04:32<00:01,  1.38s/file]"
     ]
    },
    {
     "name": "stdout",
     "output_type": "stream",
     "text": [
      "3_u00021s00001hw00004.svc: Predicted Emotion - Stress | Confidence Levels: Stress: 55.23%, Anxiety: 27.67%, Normal: 16.85%, Depression: 0.26%\n",
      "\u001b[1m39/39\u001b[0m \u001b[32m━━━━━━━━━━━━━━━━━━━━\u001b[0m\u001b[37m\u001b[0m \u001b[1m1s\u001b[0m 14ms/step\n"
     ]
    },
    {
     "name": "stderr",
     "output_type": "stream",
     "text": [
      "Classifying 3_u00021s00001hw00005.svc: 100%|██████████| 182/182 [04:33<00:00,  1.50s/file]"
     ]
    },
    {
     "name": "stdout",
     "output_type": "stream",
     "text": [
      "3_u00021s00001hw00005.svc: Predicted Emotion - Stress | Confidence Levels: Stress: 97.08%, Normal: 1.48%, Anxiety: 1.42%, Depression: 0.02%\n",
      "\n",
      "Overall Classification Accuracy: 66.48%\n"
     ]
    },
    {
     "name": "stderr",
     "output_type": "stream",
     "text": [
      "\n"
     ]
    },
    {
     "name": "stdout",
     "output_type": "stream",
     "text": [
      "\n",
      "Detailed Classification Report saved to ./classification_report.txt\n",
      "              precision    recall  f1-score   support\n",
      "\n",
      "      Normal       0.70      0.78      0.74        92\n",
      "  Depression       0.56      0.79      0.66        28\n",
      "     Anxiety       0.80      0.33      0.46        49\n",
      "      Stress       0.55      0.85      0.67        13\n",
      "\n",
      "    accuracy                           0.66       182\n",
      "   macro avg       0.65      0.69      0.63       182\n",
      "weighted avg       0.69      0.66      0.65       182\n",
      "\n"
     ]
    },
    {
     "data": {
      "image/png": "[encoded data removed]",
      "text/plain": [
       "<Figure size 1000x800 with 2 Axes>"
      ]
     },
     "metadata": {},
     "output_type": "display_data"
    },
    {
     "name": "stdout",
     "output_type": "stream",
     "text": [
      "\n",
      "Results saved to ./classification_results.xlsx\n",
      "Detailed results saved to ./classification_results.txt\n",
      "Confusion matrix saved to ./classification_results.xlsx (Confusion Matrix sheet)\n",
      "Classification report saved to ./classification_report.txt\n"
     ]
    }
   ],
   "source": [
    "# Cell 6 - Import additional library for exporting to Excel\n",
    "import xlsxwriter\n",
    "\n",
    "# Update the classify_directory function to include label verification and export to Excel\n",
    "def classify_directory_with_labels(model_path, scaler_path, directory_path, output_excel, results_txt):\n",
    "    \"\"\"\n",
    "    Classify all .svc files in a directory, verify classifications against labels in filenames,\n",
    "    and export results to Excel and txt\n",
    "    \"\"\"\n",
    "    # Clear existing results file\n",
    "    open(results_txt, 'w').close()\n",
    "    \n",
    "    results = []\n",
    "    label_map = {'0': 'Normal', '1': 'Depression', '2': 'Anxiety', '3': 'Stress'}\n",
    "    \n",
    "    # Find all .svc files\n",
    "    file_paths = glob.glob(os.path.join(directory_path, \"*.svc\"))\n",
    "    \n",
    "    if not file_paths:\n",
    "        raise ValueError(\"No .svc files found in the directory\")\n",
    "    \n",
    "    for file_path in file_paths:\n",
    "        try:\n",
    "            # Extract true label from filename\n",
    "            filename = os.path.basename(file_path)\n",
    "            label_key = filename[0]\n",
    "            true_label = label_map.get(label_key)\n",
    "            \n",
    "            # Classify the file\n",
    "            predicted_emotion, emotion_confidences = classify_emotion(\n",
    "                model_path, scaler_path, file_path, results_txt\n",
    "            )\n",
    "            \n",
    "            # Check if the prediction is correct\n",
    "            is_correct = predicted_emotion == true_label\n",
    "            \n",
    "            # Store the result if classification was correct\n",
    "            if is_correct:\n",
    "                confidence = next(conf[1] for conf in emotion_confidences if conf[0] == predicted_emotion)\n",
    "                results.append({\n",
    "                    'file': filename,\n",
    "                    'true_label': true_label,\n",
    "                    'predicted_emotion': predicted_emotion,\n",
    "                    'confidence': confidence\n",
    "                })\n",
    "                \n",
    "        except Exception as e:\n",
    "            print(f\"Error processing {file_path}: {e}\")\n",
    "            continue\n",
    "    \n",
    "    # Convert results to a DataFrame and export to Excel\n",
    "    df_results = pd.DataFrame(results)\n",
    "    with pd.ExcelWriter(output_excel, engine='xlsxwriter') as writer:\n",
    "        df_results.to_excel(writer, sheet_name='Correct Classifications', index=False)\n",
    "    \n",
    "    print(f\"Results saved to {output_excel} and {results_txt}\")\n",
    "\n",
    "# Cell 7 - Run the classifier with directory and export results\n",
    "# Set the paths\n",
    "model_path = '../trainmodel/original_and_synthetic.keras'\n",
    "scaler_path = '../trainmodel/original_and_synthetic.save'\n",
    "input_directory = '../test/test_data/'\n",
    "output_excel = './classification_results.xlsx'\n",
    "results_txt = './classification_results.txt'\n",
    "classification_report_file = './classification_report.txt'\n",
    "\n",
    "# Define class labels here to resolve the undefined variable issue\n",
    "class_labels = ['Normal', 'Depression', 'Anxiety', 'Stress']\n",
    "\n",
    "# Run batch classification\n",
    "try:\n",
    "    # Batch classify files\n",
    "    classification_results, confusion_matrix_data, overall_accuracy, true_labels, predicted_labels = batch_classify_emotions(\n",
    "        model_path, scaler_path, input_directory, results_txt\n",
    "    )\n",
    "    \n",
    "    # Export results to Excel\n",
    "    with pd.ExcelWriter(output_excel, engine='xlsxwriter') as writer:\n",
    "        classification_results.to_excel(writer, sheet_name='Classification Results', index=False)\n",
    "        \n",
    "        # Create a separate sheet for confusion matrix\n",
    "        cm_df = pd.DataFrame(confusion_matrix_data, \n",
    "                             index=['Actual ' + label for label in class_labels], \n",
    "                             columns=['Predicted ' + label for label in class_labels])\n",
    "        cm_df.to_excel(writer, sheet_name='Confusion Matrix')\n",
    "    \n",
    "    # Generate detailed classification report\n",
    "    create_classification_report(true_labels, predicted_labels, \n",
    "                                 class_labels, \n",
    "                                 classification_report_file)\n",
    "    \n",
    "    # Plot confusion matrix\n",
    "    plot_confusion_matrix(confusion_matrix_data, class_labels)\n",
    "    \n",
    "    print(f\"\\nResults saved to {output_excel}\")\n",
    "    print(f\"Detailed results saved to {results_txt}\")\n",
    "    print(f\"Confusion matrix saved to {output_excel} (Confusion Matrix sheet)\")\n",
    "    print(f\"Classification report saved to {classification_report_file}\")\n",
    "\n",
    "except Exception as e:\n",
    "    print(f\"Error during classification: {e}\")"
   ]
  },
  {
   "cell_type": "code",
   "execution_count": null,
   "metadata": {},
   "outputs": [],
   "source": []
  }
 ],
 "metadata": {
  "kernelspec": {
   "display_name": "Python 3",
   "language": "python",
   "name": "python3"
  },
  "language_info": {
   "codemirror_mode": {
    "name": "ipython",
    "version": 3
   },
   "file_extension": ".py",
   "mimetype": "text/x-python",
   "name": "python",
   "nbconvert_exporter": "python",
   "pygments_lexer": "ipython3",
   "version": "3.12.6"
  }
 },
 "nbformat": 4,
 "nbformat_minor": 2
}
