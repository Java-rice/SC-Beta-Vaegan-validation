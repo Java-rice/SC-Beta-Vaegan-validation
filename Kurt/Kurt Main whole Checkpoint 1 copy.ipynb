{
 "cells": [
  {
   "cell_type": "markdown",
   "metadata": {},
   "source": [
    "## Library Imports"
   ]
  },
  {
   "cell_type": "code",
   "execution_count": 1,
   "metadata": {},
   "outputs": [],
   "source": [
    "# Cell 1\n",
    "import numpy as np\n",
    "import pandas as pd\n",
    "import glob\n",
    "import os\n",
    "import logging\n",
    "import tensorflow as tf\n",
    "from tqdm import tqdm\n",
    "from datetime import datetime\n",
    "from scipy.stats import skew, kurtosis\n",
    "from tensorflow.keras import layers, Model\n",
    "from sklearn.model_selection import train_test_split\n",
    "from tensorflow.keras.optimizers import Adam\n",
    "from tensorflow.keras.layers import LSTM, Dense"
   ]
  },
  {
   "cell_type": "markdown",
   "metadata": {},
   "source": [
    "# Pre-processing of files "
   ]
  },
  {
   "cell_type": "code",
   "execution_count": 2,
   "metadata": {},
   "outputs": [
    {
     "name": "stdout",
     "output_type": "stream",
     "text": [
      "Processing file: ../test/label copy\\0_hw00001.svc\n",
      "Shape of data from file ../test/label copy\\0_hw00001.svc: (2643, 7)\n",
      "Processing file: ../test/label copy\\0_hw00002.svc\n",
      "Shape of data from file ../test/label copy\\0_hw00002.svc: (5691, 7)\n",
      "Processing file: ../test/label copy\\0_hw00003.svc\n",
      "Shape of data from file ../test/label copy\\0_hw00003.svc: (3863, 7)\n",
      "Processing file: ../test/label copy\\0_hw00004.svc\n",
      "Shape of data from file ../test/label copy\\0_hw00004.svc: (1178, 7)\n",
      "Processing file: ../test/label copy\\0_hw00005.svc\n",
      "Shape of data from file ../test/label copy\\0_hw00005.svc: (770, 7)\n",
      "Processing file: ../test/label copy\\0_hw00006.svc\n",
      "Shape of data from file ../test/label copy\\0_hw00006.svc: (4051, 7)\n",
      "Processing file: ../test/label copy\\0_hw00007.svc\n",
      "Shape of data from file ../test/label copy\\0_hw00007.svc: (3050, 7)\n",
      "Processing file: ../test/label copy\\1_hw00001.svc\n",
      "Shape of data from file ../test/label copy\\1_hw00001.svc: (2560, 7)\n",
      "Processing file: ../test/label copy\\1_hw00002.svc\n",
      "Shape of data from file ../test/label copy\\1_hw00002.svc: (3098, 7)\n",
      "Processing file: ../test/label copy\\1_hw00003.svc\n",
      "Shape of data from file ../test/label copy\\1_hw00003.svc: (3268, 7)\n",
      "Processing file: ../test/label copy\\1_hw00004.svc\n",
      "Shape of data from file ../test/label copy\\1_hw00004.svc: (1452, 7)\n",
      "Processing file: ../test/label copy\\1_hw00005.svc\n",
      "Shape of data from file ../test/label copy\\1_hw00005.svc: (786, 7)\n",
      "Processing file: ../test/label copy\\1_hw00006.svc\n",
      "Shape of data from file ../test/label copy\\1_hw00006.svc: (1605, 7)\n",
      "Processing file: ../test/label copy\\1_hw00007.svc\n",
      "Shape of data from file ../test/label copy\\1_hw00007.svc: (2615, 7)\n",
      "Processing file: ../test/label copy\\2_hw00001.svc\n",
      "Shape of data from file ../test/label copy\\2_hw00001.svc: (1474, 7)\n",
      "Processing file: ../test/label copy\\2_hw00002.svc\n",
      "Shape of data from file ../test/label copy\\2_hw00002.svc: (2735, 7)\n",
      "Processing file: ../test/label copy\\2_hw00003.svc\n",
      "Shape of data from file ../test/label copy\\2_hw00003.svc: (3102, 7)\n",
      "Processing file: ../test/label copy\\2_hw00004.svc\n",
      "Shape of data from file ../test/label copy\\2_hw00004.svc: (1951, 7)\n",
      "Processing file: ../test/label copy\\2_hw00005.svc\n",
      "Shape of data from file ../test/label copy\\2_hw00005.svc: (1208, 7)\n",
      "Processing file: ../test/label copy\\2_hw00006.svc\n",
      "Shape of data from file ../test/label copy\\2_hw00006.svc: (2507, 7)\n",
      "Processing file: ../test/label copy\\2_hw00007.svc\n",
      "Shape of data from file ../test/label copy\\2_hw00007.svc: (2985, 7)\n",
      "Processing file: ../test/label copy\\3_hw00001.svc\n",
      "Shape of data from file ../test/label copy\\3_hw00001.svc: (2983, 7)\n",
      "Processing file: ../test/label copy\\3_hw00002.svc\n",
      "Shape of data from file ../test/label copy\\3_hw00002.svc: (5639, 7)\n",
      "Processing file: ../test/label copy\\3_hw00003.svc\n",
      "Shape of data from file ../test/label copy\\3_hw00003.svc: (3857, 7)\n",
      "Processing file: ../test/label copy\\3_hw00004.svc\n",
      "Shape of data from file ../test/label copy\\3_hw00004.svc: (1272, 7)\n",
      "Processing file: ../test/label copy\\3_hw00005.svc\n",
      "Shape of data from file ../test/label copy\\3_hw00005.svc: (990, 7)\n",
      "Processing file: ../test/label copy\\3_hw00006.svc\n",
      "Shape of data from file ../test/label copy\\3_hw00006.svc: (6790, 7)\n",
      "Processing file: ../test/label copy\\3_hw00007.svc\n",
      "Shape of data from file ../test/label copy\\3_hw00007.svc: (3661, 7)\n",
      "Shapes of all_data before concatenation:\n",
      "Data array 0 shape: (2643, 7)\n",
      "Data array 1 shape: (5691, 7)\n",
      "Data array 2 shape: (3863, 7)\n",
      "Data array 3 shape: (1178, 7)\n",
      "Data array 4 shape: (770, 7)\n",
      "Data array 5 shape: (4051, 7)\n",
      "Data array 6 shape: (3050, 7)\n",
      "Data array 7 shape: (2560, 7)\n",
      "Data array 8 shape: (3098, 7)\n",
      "Data array 9 shape: (3268, 7)\n",
      "Data array 10 shape: (1452, 7)\n",
      "Data array 11 shape: (786, 7)\n",
      "Data array 12 shape: (1605, 7)\n",
      "Data array 13 shape: (2615, 7)\n",
      "Data array 14 shape: (1474, 7)\n",
      "Data array 15 shape: (2735, 7)\n",
      "Data array 16 shape: (3102, 7)\n",
      "Data array 17 shape: (1951, 7)\n",
      "Data array 18 shape: (1208, 7)\n",
      "Data array 19 shape: (2507, 7)\n",
      "Data array 20 shape: (2985, 7)\n",
      "Data array 21 shape: (2983, 7)\n",
      "Data array 22 shape: (5639, 7)\n",
      "Data array 23 shape: (3857, 7)\n",
      "Data array 24 shape: (1272, 7)\n",
      "Data array 25 shape: (990, 7)\n",
      "Data array 26 shape: (6790, 7)\n",
      "Data array 27 shape: (3661, 7)\n"
     ]
    }
   ],
   "source": [
    "# Cell 2\n",
    "def load_emothaw_data(directory_path):\n",
    "    all_data = []\n",
    "    all_labels = []\n",
    "\n",
    "    # Use glob to find all .svc files in the specified directory\n",
    "    file_paths = glob.glob(os.path.join(directory_path, \"*.svc\"))\n",
    "    if not file_paths:\n",
    "        # Raise an error if no files are found\n",
    "        raise ValueError(\"No files found in the specified directory\")\n",
    "\n",
    "    # Iterate over each file path found\n",
    "    for file_path in file_paths:\n",
    "        print(f\"Processing file: {file_path}\")\n",
    "        try:\n",
    "            # Extract the label from the filename\n",
    "            # Assuming the label is the part before the first underscore '_'\n",
    "            label = int(os.path.basename(file_path).split('_')[0])\n",
    "\n",
    "            # Load the file and strip trailing spaces\n",
    "            with open(file_path, 'r') as f:\n",
    "                lines = [line.strip() for line in f.readlines() if line.strip()]  # Ignore empty lines\n",
    "\n",
    "            # Convert the lines into a DataFrame by splitting each line by whitespace\n",
    "            df = pd.DataFrame([line.split() for line in lines])  # Split by whitespace\n",
    "\n",
    "            # Skip empty files\n",
    "            if df.empty:\n",
    "                print(f\"Warning: {file_path} is empty after processing. Skipping file.\")\n",
    "                continue\n",
    "\n",
    "            # First row contains the total number of data rows (excluding the first row)\n",
    "            total_rows = int(df.iloc[0, 0])  # Number of expected sequences\n",
    "\n",
    "            # Extract the feature data from the subsequent rows\n",
    "            data = df.iloc[1:, :].values  # All columns are treated as features\n",
    "\n",
    "            # Check if enough data rows exist as per the first row's instruction\n",
    "            if data.shape[0] < total_rows:\n",
    "                raise ValueError(f\"Insufficient data: expected {total_rows}, but found {data.shape[0]}\")\n",
    "\n",
    "            # Ensure each row has exactly 7 feature values\n",
    "            reshaped_data = []\n",
    "            for row in data:\n",
    "                if len(row) == 7:\n",
    "                    reshaped_data.append(row)\n",
    "                else:\n",
    "                    print(f\"Warning: Row does not have 7 values, skipping: {row}\")\n",
    "\n",
    "            # If valid reshaped data exists, convert it into a NumPy array\n",
    "            if reshaped_data:\n",
    "                reshaped_data = np.array(reshaped_data, dtype=float)  # Convert to float type\n",
    "\n",
    "                # Check that reshaped data has enough rows as expected\n",
    "                if reshaped_data.shape[0] < total_rows:\n",
    "                    raise ValueError(f\"Insufficient data: expected {total_rows}, but found {reshaped_data.shape[0]}\")\n",
    "\n",
    "                # Append the reshaped data and labels\n",
    "                all_data.append(reshaped_data)\n",
    "                all_labels.append([label] * reshaped_data.shape[0])  # Append the label for each data row\n",
    "\n",
    "                # Print the shape of reshaped data for debugging\n",
    "                print(f\"Shape of data from file {file_path}: {reshaped_data.shape}\")\n",
    "\n",
    "        except Exception as e:\n",
    "            # If any error occurs, display the error and continue processing the next file\n",
    "            print(f\"Error processing file {file_path}: {e}\")\n",
    "            continue\n",
    "\n",
    "    # Raise an error if no valid data was processed\n",
    "    if not all_data or not all_labels:\n",
    "        raise ValueError(\"No valid data found in the directory\")\n",
    "\n",
    "    # Print the shapes of individual data entries for debugging\n",
    "    print(\"Shapes of all_data before concatenation:\")\n",
    "    for i, data_array in enumerate(all_data):\n",
    "        print(f\"Data array {i} shape: {data_array.shape}\")\n",
    "\n",
    "    # Concatenate all data arrays along the sample axis (rows)\n",
    "    try:\n",
    "        all_data = np.concatenate(all_data, axis=0)  # Concatenate data arrays\n",
    "    except Exception as e:\n",
    "        print(f\"Error during concatenation: {e}\")\n",
    "\n",
    "    # Concatenate labels\n",
    "    all_labels = np.concatenate(all_labels, axis=0)\n",
    "\n",
    "    # Return the processed data and corresponding labels\n",
    "    return all_data, all_labels\n",
    "\n",
    "# Importing all files on the Directory\n",
    "data, labels = load_emothaw_data(r'../test/label copy/')  # Directory path\n"
   ]
  },
  {
   "cell_type": "markdown",
   "metadata": {},
   "source": [
    "## FEATURE EXTRACTION"
   ]
  },
  {
   "cell_type": "code",
   "execution_count": 3,
   "metadata": {},
   "outputs": [],
   "source": [
    "# Cell 3\n",
    "# Set up logging\n",
    "logging.basicConfig(level=logging.INFO, format='%(asctime)s - %(message)s')\n",
    "logger = logging.getLogger()\n",
    "\n",
    "def extract_time_domain_features(data):\n",
    "    logger.info(\"Starting time-domain feature extraction\")\n",
    "    start_time = datetime.now()\n",
    "    \n",
    "    # Vectorized computation of statistics across all samples at once\n",
    "    # Compute stats for each feature across all samples\n",
    "    means = np.mean(data, axis=1)\n",
    "    stds = np.std(data, axis=1)\n",
    "    mins = np.min(data, axis=1)\n",
    "    maxs = np.max(data, axis=1)\n",
    "    percentile_25 = np.percentile(data, 25, axis=1)\n",
    "    percentile_50 = np.percentile(data, 50, axis=1)\n",
    "    percentile_75 = np.percentile(data, 75, axis=1)\n",
    "    \n",
    "    # Stack all features horizontally for each sample\n",
    "    time_features = np.column_stack([\n",
    "        means, stds, mins, maxs,\n",
    "        percentile_25, percentile_50, percentile_75\n",
    "    ])\n",
    "    \n",
    "    end_time = datetime.now()\n",
    "    elapsed_time = end_time - start_time\n",
    "    logger.info(f\"Feature extraction completed in {elapsed_time}\")\n",
    "    \n",
    "    return time_features\n",
    "\n",
    "def extract_frequency_domain_features(data):\n",
    "    logger.info(\"Starting frequency-domain feature extraction\")\n",
    "    start_time = datetime.now()\n",
    "    \n",
    "    # Apply FFT to all samples at once\n",
    "    freq_features = np.fft.fft(data, axis=1)\n",
    "    freq_magnitude = np.abs(freq_features)\n",
    "    \n",
    "    # Calculate dominant frequencies and energy\n",
    "    dominant_freqs = np.argmax(freq_magnitude, axis=1)\n",
    "    freq_energies = np.sum(freq_magnitude, axis=1)\n",
    "    \n",
    "    # Combine features\n",
    "    freq_features = np.column_stack([dominant_freqs, freq_energies])\n",
    "    \n",
    "    end_time = datetime.now()\n",
    "    elapsed_time = end_time - start_time\n",
    "    logger.info(f\"Frequency-domain feature extraction completed in {elapsed_time}\")\n",
    "    \n",
    "    return freq_features\n",
    "\n",
    "def extract_statistical_features(data):\n",
    "    logger.info(\"Starting statistical feature extraction\")\n",
    "    start_time = datetime.now()\n",
    "    \n",
    "    # Compute statistics for all samples at once\n",
    "    means = np.mean(data, axis=1)\n",
    "    medians = np.median(data, axis=1)\n",
    "    variances = np.var(data, axis=1)\n",
    "    \n",
    "    # Compute skewness and kurtosis along the feature axis\n",
    "    skewness = skew(data, axis=1)\n",
    "    kurtosis_vals = kurtosis(data, axis=1)\n",
    "    \n",
    "    # Combine all statistical features\n",
    "    statistical_features = np.column_stack([\n",
    "        means, medians, variances, skewness, kurtosis_vals\n",
    "    ])\n",
    "    \n",
    "    end_time = datetime.now()\n",
    "    elapsed_time = end_time - start_time\n",
    "    logger.info(f\"Statistical feature extraction completed in {elapsed_time}\")\n",
    "    \n",
    "    return statistical_features\n",
    "\n",
    "# Example usage:\n",
    "def process_features(data):\n",
    "    \"\"\"\n",
    "    Process all features at once and combine them\n",
    "    \"\"\"\n",
    "    time_features = extract_time_domain_features(data)\n",
    "    freq_features = extract_frequency_domain_features(data)\n",
    "    stat_features = extract_statistical_features(data)\n",
    "    \n",
    "    # Combine all features\n",
    "    combined_features = np.concatenate([\n",
    "        time_features,\n",
    "        freq_features,\n",
    "        stat_features\n",
    "    ], axis=1)\n",
    "    \n",
    "    return combined_features"
   ]
  },
  {
   "cell_type": "code",
   "execution_count": 12,
   "metadata": {},
   "outputs": [
    {
     "name": "stderr",
     "output_type": "stream",
     "text": [
      "2024-10-24 18:49:10,298 - Starting time-domain feature extraction\n",
      "2024-10-24 18:49:10,957 - Feature extraction completed in 0:00:00.642024\n",
      "2024-10-24 18:49:10,957 - Starting frequency-domain feature extraction\n",
      "2024-10-24 18:49:11,039 - Frequency-domain feature extraction completed in 0:00:00.066716\n",
      "2024-10-24 18:49:11,039 - Starting statistical feature extraction\n",
      "2024-10-24 18:49:11,244 - Statistical feature extraction completed in 0:00:00.205133\n"
     ]
    },
    {
     "name": "stdout",
     "output_type": "stream",
     "text": [
      "Time Domain Features\n",
      "[[3.25247000e+05 7.62450052e+05 1.00000000e+00 ... 3.04000000e+02\n",
      "  1.87000000e+03 4.09560000e+04]\n",
      " [3.25264143e+05 7.62445522e+05 1.00000000e+00 ... 3.64500000e+02\n",
      "  1.87000000e+03 4.09520000e+04]\n",
      " [3.25276571e+05 7.62443530e+05 1.00000000e+00 ... 4.02500000e+02\n",
      "  1.87000000e+03 4.09535000e+04]\n",
      " ...\n",
      " [2.84505000e+05 6.87842004e+05 1.00000000e+00 ... 4.71000000e+02\n",
      "  2.27000000e+03 9.49400000e+03]\n",
      " [2.84490429e+05 6.87850886e+05 1.00000000e+00 ... 4.17500000e+02\n",
      "  2.27000000e+03 9.49300000e+03]\n",
      " [2.84473571e+05 6.87861127e+05 1.00000000e+00 ... 3.54500000e+02\n",
      "  2.27000000e+03 9.49300000e+03]]\n",
      "Frequency\n",
      "[[       0.         15348978.31224078]\n",
      " [       0.         15349026.54532406]\n",
      " [       0.         15349082.72993092]\n",
      " ...\n",
      " [       0.         13785472.94690738]\n",
      " [       0.         13785522.00106619]\n",
      " [       0.         13785578.11577861]]\n",
      "Statistical Features\n",
      "[[3.25247000e+05 1.87000000e+03 5.81330082e+11 2.03885544e+00\n",
      "  2.16142644e+00]\n",
      " [3.25264143e+05 1.87000000e+03 5.81323174e+11 2.03885976e+00\n",
      "  2.16143599e+00]\n",
      " [3.25276571e+05 1.87000000e+03 5.81320136e+11 2.03886182e+00\n",
      "  2.16144052e+00]\n",
      " ...\n",
      " [2.84505000e+05 2.27000000e+03 4.73126622e+11 2.04107420e+00\n",
      "  2.16630131e+00]\n",
      " [2.84490429e+05 2.27000000e+03 4.73138841e+11 2.04107325e+00\n",
      "  2.16629925e+00]\n",
      " [2.84473571e+05 2.27000000e+03 4.73152930e+11 2.04107210e+00\n",
      "  2.16629673e+00]]\n",
      "(77784, 7)\n",
      "(77784, 2)\n",
      "(77784, 5)\n"
     ]
    }
   ],
   "source": [
    "# Cell 4\n",
    "# Extract all features\n",
    "time_domain_features = extract_time_domain_features(data)\n",
    "frequency_domain_features = extract_frequency_domain_features(data)\n",
    "statistical_features = extract_statistical_features(data)\n",
    "\n",
    "# Combine features\n",
    "features = np.concatenate((time_domain_features, frequency_domain_features, statistical_features), axis=1)\n",
    "\n",
    "print(\"Time Domain Features\")\n",
    "print(time_domain_features)\n",
    "print(\"Frequency\")\n",
    "print(frequency_domain_features)\n",
    "print(\"Statistical Features\")\n",
    "print(statistical_features)\n",
    "print(time_domain_features.shape)\n",
    "print(frequency_domain_features.shape)\n",
    "print(statistical_features.shape)\n",
    "\n"
   ]
  },
  {
   "cell_type": "code",
   "execution_count": 13,
   "metadata": {},
   "outputs": [],
   "source": [
    "# Cell 5\n",
    "import tensorflow as tf\n",
    "from tensorflow.keras import layers, Model\n",
    "from tensorflow.keras.saving import register_keras_serializable\n",
    "\n",
    "@register_keras_serializable()\n",
    "class MultiHeadSelfAttention(layers.Layer):\n",
    "    def __init__(self, embed_dim, num_heads, **kwargs):\n",
    "        super().__init__(**kwargs)\n",
    "        self.embed_dim = embed_dim\n",
    "        self.num_heads = num_heads\n",
    "        if embed_dim % num_heads != 0:\n",
    "            raise ValueError(f\"embedding dimension = {embed_dim} should be divisible by number of heads = {num_heads}\")\n",
    "        self.projection_dim = embed_dim // num_heads\n",
    "        self.query_dense = layers.Dense(embed_dim)\n",
    "        self.key_dense = layers.Dense(embed_dim)\n",
    "        self.value_dense = layers.Dense(embed_dim)\n",
    "        self.combine_heads = layers.Dense(embed_dim)\n",
    "    \n",
    "    def get_config(self):\n",
    "        config = super().get_config()\n",
    "        config.update({\n",
    "            \"embed_dim\": self.embed_dim,\n",
    "            \"num_heads\": self.num_heads,\n",
    "        })\n",
    "        return config\n",
    "\n",
    "    def attention(self, query, key, value):\n",
    "        score = tf.matmul(query, key, transpose_b=True)\n",
    "        dim_key = tf.cast(tf.shape(key)[-1], tf.float32)\n",
    "        scaled_score = score / tf.math.sqrt(dim_key)\n",
    "        weights = tf.nn.softmax(scaled_score, axis=-1)\n",
    "        output = tf.matmul(weights, value)\n",
    "        return output, weights\n",
    "\n",
    "    def separate_heads(self, x, batch_size):\n",
    "        x = tf.reshape(x, (batch_size, -1, self.num_heads, self.projection_dim))\n",
    "        return tf.transpose(x, perm=[0, 2, 1, 3])\n",
    "\n",
    "    def call(self, inputs):\n",
    "        batch_size = tf.shape(inputs)[0]\n",
    "        query = self.query_dense(inputs)\n",
    "        key = self.key_dense(inputs)\n",
    "        value = self.value_dense(inputs)\n",
    "        query = self.separate_heads(query, batch_size)\n",
    "        key = self.separate_heads(key, batch_size)\n",
    "        value = self.separate_heads(value, batch_size)\n",
    "        attention, weights = self.attention(query, key, value)\n",
    "        attention = tf.transpose(attention, perm=[0, 2, 1, 3])\n",
    "        concat_attention = tf.reshape(attention, (batch_size, -1, self.embed_dim))\n",
    "        output = self.combine_heads(concat_attention)\n",
    "        return output\n",
    "\n",
    "@register_keras_serializable()\n",
    "class TransformerBlock(layers.Layer):\n",
    "    def __init__(self, embed_dim, num_heads, ff_dim, rate=0.1, **kwargs):\n",
    "        super().__init__(**kwargs)\n",
    "        self.embed_dim = embed_dim\n",
    "        self.num_heads = num_heads\n",
    "        self.ff_dim = ff_dim\n",
    "        self.rate = rate\n",
    "        self.att = MultiHeadSelfAttention(embed_dim, num_heads)\n",
    "        self.ffn = tf.keras.Sequential(\n",
    "            [layers.Dense(ff_dim, activation=\"relu\"), layers.Dense(embed_dim)]\n",
    "        )\n",
    "        self.layernorm1 = layers.LayerNormalization(epsilon=1e-6)\n",
    "        self.layernorm2 = layers.LayerNormalization(epsilon=1e-6)\n",
    "        self.dropout1 = layers.Dropout(rate)\n",
    "        self.dropout2 = layers.Dropout(rate)\n",
    "\n",
    "    def get_config(self):\n",
    "        config = super().get_config()\n",
    "        config.update({\n",
    "            \"embed_dim\": self.embed_dim,\n",
    "            \"num_heads\": self.num_heads,\n",
    "            \"ff_dim\": self.ff_dim,\n",
    "            \"rate\": self.rate,\n",
    "        })\n",
    "        return config\n",
    "\n",
    "    def call(self, inputs, training=False):\n",
    "        attn_output = self.att(inputs)\n",
    "        attn_output = self.dropout1(attn_output, training=training)\n",
    "        out1 = self.layernorm1(inputs + attn_output)\n",
    "        ffn_output = self.ffn(out1)\n",
    "        ffn_output = self.dropout2(ffn_output, training=training)\n",
    "        return self.layernorm2(out1 + ffn_output)\n",
    "\n",
    "@register_keras_serializable()\n",
    "class TransformerClassifier(Model):\n",
    "    def __init__(self, num_classes, embed_dim, num_heads, ff_dim, num_layers, **kwargs):\n",
    "        super().__init__(**kwargs)\n",
    "        self.num_classes = num_classes\n",
    "        self.embed_dim = embed_dim\n",
    "        self.num_heads = num_heads\n",
    "        self.ff_dim = ff_dim\n",
    "        self.num_layers = num_layers\n",
    "        self.dense_input = layers.Dense(embed_dim)\n",
    "        self.transformer_blocks = [\n",
    "            TransformerBlock(embed_dim, num_heads, ff_dim) for _ in range(num_layers)\n",
    "        ]\n",
    "        self.global_average_pooling = layers.GlobalAveragePooling1D()\n",
    "        self.dense = layers.Dense(num_classes, activation='softmax')\n",
    "\n",
    "    def get_config(self):\n",
    "        config = super().get_config()\n",
    "        config.update({\n",
    "            \"num_classes\": self.num_classes,\n",
    "            \"embed_dim\": self.embed_dim,\n",
    "            \"num_heads\": self.num_heads,\n",
    "            \"ff_dim\": self.ff_dim,\n",
    "            \"num_layers\": self.num_layers,\n",
    "        })\n",
    "        return config\n",
    "\n",
    "    def call(self, inputs, training=False):\n",
    "        x = self.dense_input(inputs)\n",
    "        for transformer in self.transformer_blocks:\n",
    "            x = transformer(x, training=training)\n",
    "        x = self.global_average_pooling(x)\n",
    "        return self.dense(x)"
   ]
  },
  {
   "cell_type": "markdown",
   "metadata": {},
   "source": [
    "## Transformer Block"
   ]
  },
  {
   "cell_type": "markdown",
   "metadata": {},
   "source": [
    "Transformer Classifier"
   ]
  },
  {
   "cell_type": "code",
   "execution_count": 14,
   "metadata": {},
   "outputs": [
    {
     "name": "stdout",
     "output_type": "stream",
     "text": [
      "\u001b[1m389/389\u001b[0m \u001b[32m━━━━━━━━━━━━━━━━━━━━\u001b[0m\u001b[37m\u001b[0m \u001b[1m132s\u001b[0m 288ms/step - accuracy: 0.8854 - loss: 0.3695 - val_accuracy: 0.9912 - val_loss: 0.0404\n",
      "Model saved to ./saved_models/emotion_classifier.keras\n",
      "\u001b[1m487/487\u001b[0m \u001b[32m━━━━━━━━━━━━━━━━━━━━\u001b[0m\u001b[37m\u001b[0m \u001b[1m5s\u001b[0m 10ms/step - accuracy: 0.9707 - loss: 0.0857\n",
      "Test Loss: 0.08963608741760254, Test Accuracy: 0.9657388925552368\n"
     ]
    }
   ],
   "source": [
    "# Cell 6\n",
    "import os\n",
    "\n",
    "# Splitting the data into training and testing sets\n",
    "features = np.concatenate((time_domain_features, frequency_domain_features, statistical_features), axis=1)\n",
    "X_train, X_test, y_train, y_test = train_test_split(features, labels, test_size=0.2, random_state=42)\n",
    "\n",
    "# Defining the model parameters\n",
    "num_classes = 4  # Number of output classes for classification\n",
    "embed_dim = 64  # Embedding dimension for the transformer\n",
    "num_heads = 2    # Number of attention heads in each transformer block\n",
    "ff_dim = 64     # Dimension of the feedforward network\n",
    "num_layers = 1   # Number of transformer blocks in the model\n",
    "\n",
    "# Creating the Transformer model\n",
    "model = TransformerClassifier(num_classes, embed_dim, num_heads, ff_dim, num_layers)\n",
    "\n",
    "# Compiling the model with Adam optimizer and sparse categorical crossentropy loss\n",
    "model.compile(optimizer=Adam(clipnorm=1.0), loss='sparse_categorical_crossentropy', metrics=['accuracy'])\n",
    "\n",
    "# Training the model on the training data\n",
    "model.fit(X_train, y_train, epochs=1, batch_size=128, validation_split=0.2)\n",
    "\n",
    "save_directory = './saved_models/'\n",
    "os.makedirs(save_directory, exist_ok=True)\n",
    "\n",
    "# Save the model with a descriptive name\n",
    "model_path = os.path.join(save_directory, 'emotion_classifier.keras')\n",
    "model.save(model_path)\n",
    "print(f\"Model saved to {model_path}\")\n",
    "\n",
    "# Evaluating the model on the test data\n",
    "test_loss, test_accuracy = model.evaluate(X_test, y_test)\n",
    "print(f\"Test Loss: {test_loss}, Test Accuracy: {test_accuracy}\")\n"
   ]
  },
  {
   "cell_type": "code",
   "execution_count": 23,
   "metadata": {},
   "outputs": [
    {
     "name": "stdout",
     "output_type": "stream",
     "text": [
      "\u001b[1m487/487\u001b[0m \u001b[32m━━━━━━━━━━━━━━━━━━━━\u001b[0m\u001b[37m\u001b[0m \u001b[1m10s\u001b[0m 17ms/step\n"
     ]
    },
    {
     "data": {
      "image/png": "[encoded data removed]",
      "text/plain": [
       "<Figure size 800x600 with 2 Axes>"
      ]
     },
     "metadata": {},
     "output_type": "display_data"
    }
   ],
   "source": [
    "# Cell 7\n",
    "import numpy as np\n",
    "from sklearn.metrics import confusion_matrix\n",
    "import seaborn as sns\n",
    "import matplotlib.pyplot as plt\n",
    "\n",
    "# Step 1: Make predictions on the test set\n",
    "y_pred_probs = model.predict(X_test)  # Predict probabilities for each class\n",
    "y_pred = np.argmax(y_pred_probs, axis=1)  # Convert probabilities to class labels\n",
    "\n",
    "# Step 2: Compute confusion matrix\n",
    "conf_matrix = confusion_matrix(y_test, y_pred)\n",
    "class_labels = ['Normal','Depression', 'Anxiety', 'Stress']\n",
    "# Step 3: Plot the confusion matrix using Seaborn for better visualization\n",
    "plt.figure(figsize=(8, 6))\n",
    "sns.heatmap(conf_matrix, annot=True, fmt=\"d\", cmap=\"Blues\", xticklabels=class_labels, yticklabels=class_labels)\n",
    "plt.ylabel('Actual Labels')\n",
    "plt.xlabel('Predicted Labels')\n",
    "plt.title('Confusion Matrix')\n",
    "plt.show()\n"
   ]
  },
  {
   "cell_type": "code",
   "execution_count": 15,
   "metadata": {},
   "outputs": [
    {
     "name": "stdout",
     "output_type": "stream",
     "text": [
      "Classification Report:\n",
      "╒══════════════╤═════════════╤══════════╤════════════╤═══════════╕\n",
      "│ Class        │ Precision   │ Recall   │ F1-Score   │ Support   │\n",
      "╞══════════════╪═════════════╪══════════╪════════════╪═══════════╡\n",
      "│ Normal       │ 0.99        │ 0.93     │ 0.96       │ 4170      │\n",
      "├──────────────┼─────────────┼──────────┼────────────┼───────────┤\n",
      "│ Depression   │ 1.00        │ 1.00     │ 1.00       │ 3144      │\n",
      "├──────────────┼─────────────┼──────────┼────────────┼───────────┤\n",
      "│ Anxiety      │ 1.00        │ 0.99     │ 1.00       │ 3226      │\n",
      "├──────────────┼─────────────┼──────────┼────────────┼───────────┤\n",
      "│ Stress       │ 0.94        │ 0.99     │ 0.97       │ 5017      │\n",
      "├──────────────┼─────────────┼──────────┼────────────┼───────────┤\n",
      "│ macro avg    │ 0.98        │ 0.98     │ 0.98       │ 15557     │\n",
      "├──────────────┼─────────────┼──────────┼────────────┼───────────┤\n",
      "│ weighted avg │ 0.98        │ 0.98     │ 0.98       │ 15557     │\n",
      "├──────────────┼─────────────┼──────────┼────────────┼───────────┤\n",
      "│ Accuracy     │ -           │ -        │ 97.80%     │ -         │\n",
      "╘══════════════╧═════════════╧══════════╧════════════╧═══════════╛\n"
     ]
    },
    {
     "name": "stdout",
     "output_type": "stream",
     "text": [
      "\n",
      "Overall Metrics:\n",
      "╒══════════════════════╤═════════╕\n",
      "│ Metric               │ Score   │\n",
      "╞══════════════════════╪═════════╡\n",
      "│ Accuracy             │ 97.80%  │\n",
      "├──────────────────────┼─────────┤\n",
      "│ Precision (weighted) │ 0.98    │\n",
      "├──────────────────────┼─────────┤\n",
      "│ Recall (weighted)    │ 0.98    │\n",
      "├──────────────────────┼─────────┤\n",
      "│ F1-Score (weighted)  │ 0.98    │\n",
      "╘══════════════════════╧═════════╛\n"
     ]
    }
   ],
   "source": [
    "# Cell 8\n",
    "from sklearn.metrics import classification_report, accuracy_score, precision_score, recall_score, f1_score\n",
    "from tabulate import tabulate\n",
    "\n",
    "# Print classification report with improved formatting\n",
    "print(\"Classification Report:\")\n",
    "report = classification_report(y_test, y_pred, target_names=class_labels, output_dict=True)\n",
    "\n",
    "# Convert classification report to a table\n",
    "headers = [\"Class\", \"Precision\", \"Recall\", \"F1-Score\", \"Support\"]\n",
    "rows = [[cls, \n",
    "         f\"{metrics['precision']:.2f}\", \n",
    "         f\"{metrics['recall']:.2f}\", \n",
    "         f\"{metrics['f1-score']:.2f}\", \n",
    "         int(metrics['support'])] for cls, metrics in report.items() if cls != 'accuracy']\n",
    "\n",
    "# Add accuracy row separately\n",
    "accuracy_row = [\"Accuracy\", \"-\", \"-\", f\"{accuracy_score(y_test, y_pred) * 100:.2f}%\", \"-\"]\n",
    "rows.append(accuracy_row)\n",
    "\n",
    "# Print the table\n",
    "print(tabulate(rows, headers, tablefmt=\"fancy_grid\"))\n",
    "\n",
    "# Compute and display individual scores\n",
    "accuracy = accuracy_score(y_test, y_pred)\n",
    "precision = precision_score(y_test, y_pred, average='weighted')\n",
    "recall = recall_score(y_test, y_pred, average='weighted')\n",
    "f1 = f1_score(y_test, y_pred, average='weighted')\n",
    "\n",
    "# Display overall metrics in a formatted style\n",
    "print(\"\\nOverall Metrics:\")\n",
    "overall_metrics = [\n",
    "    [\"Metric\", \"Score\"],\n",
    "    [\"Accuracy\", f\"{accuracy * 100:.2f}%\"],\n",
    "    [\"Precision (weighted)\", f\"{precision:.2f}\"],\n",
    "    [\"Recall (weighted)\", f\"{recall:.2f}\"],\n",
    "    [\"F1-Score (weighted)\", f\"{f1:.2f}\"]\n",
    "]\n",
    "\n",
    "print(tabulate(overall_metrics, headers=\"firstrow\", tablefmt=\"fancy_grid\"))\n"
   ]
  },
  {
   "cell_type": "code",
   "execution_count": 22,
   "metadata": {},
   "outputs": [
    {
     "name": "stderr",
     "output_type": "stream",
     "text": [
      "2024-10-24 18:58:19,125 - Starting time-domain feature extraction\n",
      "2024-10-24 18:58:19,142 - Feature extraction completed in 0:00:00.016937\n",
      "2024-10-24 18:58:19,143 - Starting frequency-domain feature extraction\n",
      "2024-10-24 18:58:19,158 - Frequency-domain feature extraction completed in 0:00:00.002002\n",
      "2024-10-24 18:58:19,159 - Starting statistical feature extraction\n",
      "2024-10-24 18:58:19,188 - Statistical feature extraction completed in 0:00:00.010040\n"
     ]
    },
    {
     "name": "stdout",
     "output_type": "stream",
     "text": [
      "\u001b[1m83/83\u001b[0m \u001b[32m━━━━━━━━━━━━━━━━━━━━\u001b[0m\u001b[37m\u001b[0m \u001b[1m2s\u001b[0m 22ms/step\n"
     ]
    },
    {
     "name": "stderr",
     "output_type": "stream",
     "text": [
      "2024-10-24 18:58:23,505 - Starting time-domain feature extraction\n",
      "2024-10-24 18:58:23,531 - Feature extraction completed in 0:00:00.026223\n",
      "2024-10-24 18:58:23,534 - Starting frequency-domain feature extraction\n",
      "2024-10-24 18:58:23,562 - Frequency-domain feature extraction completed in 0:00:00.026409\n",
      "2024-10-24 18:58:23,574 - Starting statistical feature extraction\n",
      "2024-10-24 18:58:23,632 - Statistical feature extraction completed in 0:00:00.033961\n"
     ]
    },
    {
     "name": "stdout",
     "output_type": "stream",
     "text": [
      "\u001b[1m178/178\u001b[0m \u001b[32m━━━━━━━━━━━━━━━━━━━━\u001b[0m\u001b[37m\u001b[0m \u001b[1m4s\u001b[0m 15ms/step\n"
     ]
    },
    {
     "name": "stderr",
     "output_type": "stream",
     "text": [
      "2024-10-24 18:58:30,546 - Starting time-domain feature extraction\n",
      "2024-10-24 18:58:30,572 - Feature extraction completed in 0:00:00.003447\n",
      "2024-10-24 18:58:30,572 - Starting frequency-domain feature extraction\n",
      "2024-10-24 18:58:30,588 - Frequency-domain feature extraction completed in 0:00:00.015635\n",
      "2024-10-24 18:58:30,600 - Starting statistical feature extraction\n",
      "2024-10-24 18:58:30,636 - Statistical feature extraction completed in 0:00:00.018083\n"
     ]
    },
    {
     "name": "stdout",
     "output_type": "stream",
     "text": [
      "\u001b[1m121/121\u001b[0m \u001b[32m━━━━━━━━━━━━━━━━━━━━\u001b[0m\u001b[37m\u001b[0m \u001b[1m2s\u001b[0m 15ms/step\n"
     ]
    },
    {
     "name": "stderr",
     "output_type": "stream",
     "text": [
      "2024-10-24 18:58:35,629 - Starting time-domain feature extraction\n",
      "2024-10-24 18:58:35,629 - Feature extraction completed in 0:00:00\n",
      "2024-10-24 18:58:35,629 - Starting frequency-domain feature extraction\n",
      "2024-10-24 18:58:35,644 - Frequency-domain feature extraction completed in 0:00:00.015631\n",
      "2024-10-24 18:58:35,644 - Starting statistical feature extraction\n",
      "2024-10-24 18:58:35,706 - Statistical feature extraction completed in 0:00:00.061823\n"
     ]
    },
    {
     "name": "stdout",
     "output_type": "stream",
     "text": [
      "\u001b[1m37/37\u001b[0m \u001b[32m━━━━━━━━━━━━━━━━━━━━\u001b[0m\u001b[37m\u001b[0m \u001b[1m2s\u001b[0m 43ms/step\n"
     ]
    },
    {
     "name": "stderr",
     "output_type": "stream",
     "text": [
      "2024-10-24 18:58:40,705 - Starting time-domain feature extraction\n",
      "2024-10-24 18:58:40,718 - Feature extraction completed in 0:00:00\n",
      "2024-10-24 18:58:40,735 - Starting frequency-domain feature extraction\n",
      "2024-10-24 18:58:40,739 - Frequency-domain feature extraction completed in 0:00:00.001000\n",
      "2024-10-24 18:58:40,773 - Starting statistical feature extraction\n",
      "2024-10-24 18:58:40,789 - Statistical feature extraction completed in 0:00:00.005007\n"
     ]
    },
    {
     "name": "stdout",
     "output_type": "stream",
     "text": [
      "\u001b[1m25/25\u001b[0m \u001b[32m━━━━━━━━━━━━━━━━━━━━\u001b[0m\u001b[37m\u001b[0m \u001b[1m1s\u001b[0m 38ms/step\n"
     ]
    },
    {
     "name": "stderr",
     "output_type": "stream",
     "text": [
      "2024-10-24 18:58:45,159 - Starting time-domain feature extraction\n",
      "2024-10-24 18:58:45,159 - Feature extraction completed in 0:00:00\n",
      "2024-10-24 18:58:45,159 - Starting frequency-domain feature extraction\n",
      "2024-10-24 18:58:45,186 - Frequency-domain feature extraction completed in 0:00:00.011350\n",
      "2024-10-24 18:58:45,187 - Starting statistical feature extraction\n",
      "2024-10-24 18:58:45,202 - Statistical feature extraction completed in 0:00:00.013004\n"
     ]
    },
    {
     "name": "stdout",
     "output_type": "stream",
     "text": [
      "\u001b[1m127/127\u001b[0m \u001b[32m━━━━━━━━━━━━━━━━━━━━\u001b[0m\u001b[37m\u001b[0m \u001b[1m3s\u001b[0m 20ms/step\n"
     ]
    },
    {
     "name": "stderr",
     "output_type": "stream",
     "text": [
      "2024-10-24 18:58:51,969 - Starting time-domain feature extraction\n",
      "2024-10-24 18:58:52,023 - Feature extraction completed in 0:00:00.053794\n",
      "2024-10-24 18:58:52,026 - Starting frequency-domain feature extraction\n",
      "2024-10-24 18:58:52,029 - Frequency-domain feature extraction completed in 0:00:00.001000\n",
      "2024-10-24 18:58:52,032 - Starting statistical feature extraction\n",
      "2024-10-24 18:58:52,078 - Statistical feature extraction completed in 0:00:00.035380\n"
     ]
    },
    {
     "name": "stdout",
     "output_type": "stream",
     "text": [
      "\u001b[1m96/96\u001b[0m \u001b[32m━━━━━━━━━━━━━━━━━━━━\u001b[0m\u001b[37m\u001b[0m \u001b[1m2s\u001b[0m 16ms/step\n"
     ]
    },
    {
     "name": "stderr",
     "output_type": "stream",
     "text": [
      "2024-10-24 18:58:56,023 - Starting time-domain feature extraction\n",
      "2024-10-24 18:58:56,023 - Feature extraction completed in 0:00:00\n",
      "2024-10-24 18:58:56,023 - Starting frequency-domain feature extraction\n",
      "2024-10-24 18:58:56,040 - Frequency-domain feature extraction completed in 0:00:00.016874\n",
      "2024-10-24 18:58:56,069 - Starting statistical feature extraction\n",
      "2024-10-24 18:58:56,081 - Statistical feature extraction completed in 0:00:00.007009\n"
     ]
    },
    {
     "name": "stdout",
     "output_type": "stream",
     "text": [
      "\u001b[1m80/80\u001b[0m \u001b[32m━━━━━━━━━━━━━━━━━━━━\u001b[0m\u001b[37m\u001b[0m \u001b[1m1s\u001b[0m 14ms/step\n"
     ]
    },
    {
     "name": "stderr",
     "output_type": "stream",
     "text": [
      "2024-10-24 18:59:01,266 - Starting time-domain feature extraction\n",
      "2024-10-24 18:59:01,283 - Feature extraction completed in 0:00:00.016846\n",
      "2024-10-24 18:59:01,283 - Starting frequency-domain feature extraction\n",
      "2024-10-24 18:59:01,302 - Frequency-domain feature extraction completed in 0:00:00.006007\n",
      "2024-10-24 18:59:01,304 - Starting statistical feature extraction\n",
      "2024-10-24 18:59:01,321 - Statistical feature extraction completed in 0:00:00.013820\n"
     ]
    },
    {
     "name": "stdout",
     "output_type": "stream",
     "text": [
      "\u001b[1m97/97\u001b[0m \u001b[32m━━━━━━━━━━━━━━━━━━━━\u001b[0m\u001b[37m\u001b[0m \u001b[1m2s\u001b[0m 17ms/step\n"
     ]
    },
    {
     "name": "stderr",
     "output_type": "stream",
     "text": [
      "2024-10-24 18:59:05,873 - Starting time-domain feature extraction\n",
      "2024-10-24 18:59:05,873 - Feature extraction completed in 0:00:00\n",
      "2024-10-24 18:59:05,890 - Starting frequency-domain feature extraction\n",
      "2024-10-24 18:59:05,904 - Frequency-domain feature extraction completed in 0:00:00.013422\n",
      "2024-10-24 18:59:05,917 - Starting statistical feature extraction\n",
      "2024-10-24 18:59:05,935 - Statistical feature extraction completed in 0:00:00.008004\n"
     ]
    },
    {
     "name": "stdout",
     "output_type": "stream",
     "text": [
      "\u001b[1m103/103\u001b[0m \u001b[32m━━━━━━━━━━━━━━━━━━━━\u001b[0m\u001b[37m\u001b[0m \u001b[1m3s\u001b[0m 20ms/step\n"
     ]
    },
    {
     "name": "stderr",
     "output_type": "stream",
     "text": [
      "2024-10-24 18:59:10,447 - Starting time-domain feature extraction\n",
      "2024-10-24 18:59:10,464 - Feature extraction completed in 0:00:00.016872\n",
      "2024-10-24 18:59:10,464 - Starting frequency-domain feature extraction\n",
      "2024-10-24 18:59:10,486 - Frequency-domain feature extraction completed in 0:00:00.021472\n",
      "2024-10-24 18:59:10,503 - Starting statistical feature extraction\n",
      "2024-10-24 18:59:10,524 - Statistical feature extraction completed in 0:00:00.018620\n"
     ]
    },
    {
     "name": "stdout",
     "output_type": "stream",
     "text": [
      "\u001b[1m46/46\u001b[0m \u001b[32m━━━━━━━━━━━━━━━━━━━━\u001b[0m\u001b[37m\u001b[0m \u001b[1m2s\u001b[0m 24ms/step\n"
     ]
    },
    {
     "name": "stderr",
     "output_type": "stream",
     "text": [
      "2024-10-24 18:59:14,635 - Starting time-domain feature extraction\n",
      "2024-10-24 18:59:14,635 - Feature extraction completed in 0:00:00\n",
      "2024-10-24 18:59:14,635 - Starting frequency-domain feature extraction\n",
      "2024-10-24 18:59:14,657 - Frequency-domain feature extraction completed in 0:00:00\n",
      "2024-10-24 18:59:14,658 - Starting statistical feature extraction\n",
      "2024-10-24 18:59:14,671 - Statistical feature extraction completed in 0:00:00.010221\n"
     ]
    },
    {
     "name": "stdout",
     "output_type": "stream",
     "text": [
      "\u001b[1m25/25\u001b[0m \u001b[32m━━━━━━━━━━━━━━━━━━━━\u001b[0m\u001b[37m\u001b[0m \u001b[1m2s\u001b[0m 57ms/step\n"
     ]
    },
    {
     "name": "stderr",
     "output_type": "stream",
     "text": [
      "2024-10-24 18:59:18,221 - Starting time-domain feature extraction\n",
      "2024-10-24 18:59:18,237 - Feature extraction completed in 0:00:00\n",
      "2024-10-24 18:59:18,237 - Starting frequency-domain feature extraction\n",
      "2024-10-24 18:59:18,237 - Frequency-domain feature extraction completed in 0:00:00\n",
      "2024-10-24 18:59:18,263 - Starting statistical feature extraction\n",
      "2024-10-24 18:59:18,328 - Statistical feature extraction completed in 0:00:00.062741\n"
     ]
    },
    {
     "name": "stdout",
     "output_type": "stream",
     "text": [
      "\u001b[1m51/51\u001b[0m \u001b[32m━━━━━━━━━━━━━━━━━━━━\u001b[0m\u001b[37m\u001b[0m \u001b[1m2s\u001b[0m 21ms/step\n"
     ]
    },
    {
     "name": "stderr",
     "output_type": "stream",
     "text": [
      "2024-10-24 18:59:22,224 - Starting time-domain feature extraction\n",
      "2024-10-24 18:59:22,241 - Feature extraction completed in 0:00:00.016974\n",
      "2024-10-24 18:59:22,241 - Starting frequency-domain feature extraction\n",
      "2024-10-24 18:59:22,241 - Frequency-domain feature extraction completed in 0:00:00\n",
      "2024-10-24 18:59:22,258 - Starting statistical feature extraction\n",
      "2024-10-24 18:59:22,269 - Statistical feature extraction completed in 0:00:00.009000\n"
     ]
    },
    {
     "name": "stdout",
     "output_type": "stream",
     "text": [
      "\u001b[1m82/82\u001b[0m \u001b[32m━━━━━━━━━━━━━━━━━━━━\u001b[0m\u001b[37m\u001b[0m \u001b[1m2s\u001b[0m 18ms/step\n"
     ]
    },
    {
     "name": "stderr",
     "output_type": "stream",
     "text": [
      "2024-10-24 18:59:27,200 - Starting time-domain feature extraction\n",
      "2024-10-24 18:59:27,200 - Feature extraction completed in 0:00:00\n",
      "2024-10-24 18:59:27,200 - Starting frequency-domain feature extraction\n",
      "2024-10-24 18:59:27,223 - Frequency-domain feature extraction completed in 0:00:00\n",
      "2024-10-24 18:59:27,225 - Starting statistical feature extraction\n",
      "2024-10-24 18:59:27,263 - Statistical feature extraction completed in 0:00:00.029129\n"
     ]
    },
    {
     "name": "stdout",
     "output_type": "stream",
     "text": [
      "\u001b[1m47/47\u001b[0m \u001b[32m━━━━━━━━━━━━━━━━━━━━\u001b[0m\u001b[37m\u001b[0m \u001b[1m2s\u001b[0m 22ms/step\n"
     ]
    },
    {
     "name": "stderr",
     "output_type": "stream",
     "text": [
      "2024-10-24 18:59:31,194 - Starting time-domain feature extraction\n",
      "2024-10-24 18:59:31,209 - Feature extraction completed in 0:00:00\n",
      "2024-10-24 18:59:31,209 - Starting frequency-domain feature extraction\n",
      "2024-10-24 18:59:31,209 - Frequency-domain feature extraction completed in 0:00:00\n",
      "2024-10-24 18:59:31,228 - Starting statistical feature extraction\n",
      "2024-10-24 18:59:31,251 - Statistical feature extraction completed in 0:00:00.022134\n"
     ]
    },
    {
     "name": "stdout",
     "output_type": "stream",
     "text": [
      "\u001b[1m86/86\u001b[0m \u001b[32m━━━━━━━━━━━━━━━━━━━━\u001b[0m\u001b[37m\u001b[0m \u001b[1m2s\u001b[0m 21ms/step\n"
     ]
    },
    {
     "name": "stderr",
     "output_type": "stream",
     "text": [
      "2024-10-24 18:59:35,375 - Starting time-domain feature extraction\n",
      "2024-10-24 18:59:35,392 - Feature extraction completed in 0:00:00.016372\n",
      "2024-10-24 18:59:35,392 - Starting frequency-domain feature extraction\n",
      "2024-10-24 18:59:35,392 - Frequency-domain feature extraction completed in 0:00:00\n",
      "2024-10-24 18:59:35,433 - Starting statistical feature extraction\n",
      "2024-10-24 18:59:35,450 - Statistical feature extraction completed in 0:00:00.012641\n"
     ]
    },
    {
     "name": "stdout",
     "output_type": "stream",
     "text": [
      "\u001b[1m97/97\u001b[0m \u001b[32m━━━━━━━━━━━━━━━━━━━━\u001b[0m\u001b[37m\u001b[0m \u001b[1m2s\u001b[0m 16ms/step\n"
     ]
    },
    {
     "name": "stderr",
     "output_type": "stream",
     "text": [
      "2024-10-24 18:59:39,932 - Starting time-domain feature extraction\n",
      "2024-10-24 18:59:39,932 - Feature extraction completed in 0:00:00\n",
      "2024-10-24 18:59:39,932 - Starting frequency-domain feature extraction\n",
      "2024-10-24 18:59:39,963 - Frequency-domain feature extraction completed in 0:00:00\n",
      "2024-10-24 18:59:39,974 - Starting statistical feature extraction\n",
      "2024-10-24 18:59:39,985 - Statistical feature extraction completed in 0:00:00.009001\n"
     ]
    },
    {
     "name": "stdout",
     "output_type": "stream",
     "text": [
      "\u001b[1m61/61\u001b[0m \u001b[32m━━━━━━━━━━━━━━━━━━━━\u001b[0m\u001b[37m\u001b[0m \u001b[1m2s\u001b[0m 18ms/step\n"
     ]
    },
    {
     "name": "stderr",
     "output_type": "stream",
     "text": [
      "2024-10-24 18:59:44,254 - Starting time-domain feature extraction\n",
      "2024-10-24 18:59:44,254 - Feature extraction completed in 0:00:00\n",
      "2024-10-24 18:59:44,254 - Starting frequency-domain feature extraction\n",
      "2024-10-24 18:59:44,275 - Frequency-domain feature extraction completed in 0:00:00\n",
      "2024-10-24 18:59:44,278 - Starting statistical feature extraction\n",
      "2024-10-24 18:59:44,298 - Statistical feature extraction completed in 0:00:00.017578\n"
     ]
    },
    {
     "name": "stdout",
     "output_type": "stream",
     "text": [
      "\u001b[1m38/38\u001b[0m \u001b[32m━━━━━━━━━━━━━━━━━━━━\u001b[0m\u001b[37m\u001b[0m \u001b[1m1s\u001b[0m 22ms/step\n"
     ]
    },
    {
     "name": "stderr",
     "output_type": "stream",
     "text": [
      "2024-10-24 18:59:46,932 - Starting time-domain feature extraction\n",
      "2024-10-24 18:59:46,934 - Feature extraction completed in 0:00:00.001542\n",
      "2024-10-24 18:59:46,934 - Starting frequency-domain feature extraction\n",
      "2024-10-24 18:59:46,934 - Frequency-domain feature extraction completed in 0:00:00\n",
      "2024-10-24 18:59:46,969 - Starting statistical feature extraction\n",
      "2024-10-24 18:59:47,077 - Statistical feature extraction completed in 0:00:00.086872\n"
     ]
    },
    {
     "name": "stdout",
     "output_type": "stream",
     "text": [
      "\u001b[1m79/79\u001b[0m \u001b[32m━━━━━━━━━━━━━━━━━━━━\u001b[0m\u001b[37m\u001b[0m \u001b[1m2s\u001b[0m 21ms/step\n"
     ]
    },
    {
     "name": "stderr",
     "output_type": "stream",
     "text": [
      "2024-10-24 18:59:50,435 - Starting time-domain feature extraction\n",
      "2024-10-24 18:59:50,435 - Feature extraction completed in 0:00:00\n",
      "2024-10-24 18:59:50,452 - Starting frequency-domain feature extraction\n",
      "2024-10-24 18:59:50,483 - Frequency-domain feature extraction completed in 0:00:00.001046\n",
      "2024-10-24 18:59:50,492 - Starting statistical feature extraction\n",
      "2024-10-24 18:59:50,510 - Statistical feature extraction completed in 0:00:00.015120\n"
     ]
    },
    {
     "name": "stdout",
     "output_type": "stream",
     "text": [
      "\u001b[1m94/94\u001b[0m \u001b[32m━━━━━━━━━━━━━━━━━━━━\u001b[0m\u001b[37m\u001b[0m \u001b[1m2s\u001b[0m 16ms/step\n"
     ]
    },
    {
     "name": "stderr",
     "output_type": "stream",
     "text": [
      "2024-10-24 18:59:54,875 - Starting time-domain feature extraction\n",
      "2024-10-24 18:59:54,875 - Feature extraction completed in 0:00:00\n",
      "2024-10-24 18:59:54,875 - Starting frequency-domain feature extraction\n",
      "2024-10-24 18:59:54,899 - Frequency-domain feature extraction completed in 0:00:00.001001\n",
      "2024-10-24 18:59:54,901 - Starting statistical feature extraction\n",
      "2024-10-24 18:59:54,937 - Statistical feature extraction completed in 0:00:00.034105\n"
     ]
    },
    {
     "name": "stdout",
     "output_type": "stream",
     "text": [
      "\u001b[1m94/94\u001b[0m \u001b[32m━━━━━━━━━━━━━━━━━━━━\u001b[0m\u001b[37m\u001b[0m \u001b[1m2s\u001b[0m 16ms/step\n"
     ]
    },
    {
     "name": "stderr",
     "output_type": "stream",
     "text": [
      "2024-10-24 18:59:58,929 - Starting time-domain feature extraction\n",
      "2024-10-24 18:59:58,947 - Feature extraction completed in 0:00:00\n",
      "2024-10-24 18:59:58,947 - Starting frequency-domain feature extraction\n",
      "2024-10-24 18:59:58,964 - Frequency-domain feature extraction completed in 0:00:00\n",
      "2024-10-24 18:59:58,964 - Starting statistical feature extraction\n",
      "2024-10-24 18:59:59,005 - Statistical feature extraction completed in 0:00:00.041385\n"
     ]
    },
    {
     "name": "stdout",
     "output_type": "stream",
     "text": [
      "\u001b[1m177/177\u001b[0m \u001b[32m━━━━━━━━━━━━━━━━━━━━\u001b[0m\u001b[37m\u001b[0m \u001b[1m3s\u001b[0m 14ms/step\n"
     ]
    },
    {
     "name": "stderr",
     "output_type": "stream",
     "text": [
      "2024-10-24 19:00:06,049 - Starting time-domain feature extraction\n",
      "2024-10-24 19:00:06,074 - Feature extraction completed in 0:00:00.024332\n",
      "2024-10-24 19:00:06,077 - Starting frequency-domain feature extraction\n",
      "2024-10-24 19:00:06,083 - Frequency-domain feature extraction completed in 0:00:00\n",
      "2024-10-24 19:00:06,083 - Starting statistical feature extraction\n",
      "2024-10-24 19:00:06,123 - Statistical feature extraction completed in 0:00:00.015680\n"
     ]
    },
    {
     "name": "stdout",
     "output_type": "stream",
     "text": [
      "\u001b[1m121/121\u001b[0m \u001b[32m━━━━━━━━━━━━━━━━━━━━\u001b[0m\u001b[37m\u001b[0m \u001b[1m3s\u001b[0m 18ms/step\n"
     ]
    },
    {
     "name": "stderr",
     "output_type": "stream",
     "text": [
      "2024-10-24 19:00:10,070 - Starting time-domain feature extraction\n",
      "2024-10-24 19:00:10,087 - Feature extraction completed in 0:00:00.017034\n",
      "2024-10-24 19:00:10,087 - Starting frequency-domain feature extraction\n",
      "2024-10-24 19:00:10,087 - Frequency-domain feature extraction completed in 0:00:00\n",
      "2024-10-24 19:00:10,087 - Starting statistical feature extraction\n",
      "2024-10-24 19:00:10,104 - Statistical feature extraction completed in 0:00:00\n"
     ]
    },
    {
     "name": "stdout",
     "output_type": "stream",
     "text": [
      "\u001b[1m40/40\u001b[0m \u001b[32m━━━━━━━━━━━━━━━━━━━━\u001b[0m\u001b[37m\u001b[0m \u001b[1m1s\u001b[0m 22ms/step\n"
     ]
    },
    {
     "name": "stderr",
     "output_type": "stream",
     "text": [
      "2024-10-24 19:00:14,627 - Starting time-domain feature extraction\n",
      "2024-10-24 19:00:14,627 - Feature extraction completed in 0:00:00\n",
      "2024-10-24 19:00:14,627 - Starting frequency-domain feature extraction\n",
      "2024-10-24 19:00:14,666 - Frequency-domain feature extraction completed in 0:00:00\n",
      "2024-10-24 19:00:14,673 - Starting statistical feature extraction\n",
      "2024-10-24 19:00:14,685 - Statistical feature extraction completed in 0:00:00.004002\n"
     ]
    },
    {
     "name": "stdout",
     "output_type": "stream",
     "text": [
      "\u001b[1m31/31\u001b[0m \u001b[32m━━━━━━━━━━━━━━━━━━━━\u001b[0m\u001b[37m\u001b[0m \u001b[1m3s\u001b[0m 57ms/step\n"
     ]
    },
    {
     "name": "stderr",
     "output_type": "stream",
     "text": [
      "2024-10-24 19:00:20,262 - Starting time-domain feature extraction\n",
      "2024-10-24 19:00:20,278 - Feature extraction completed in 0:00:00.015633\n",
      "2024-10-24 19:00:20,283 - Starting frequency-domain feature extraction\n",
      "2024-10-24 19:00:20,330 - Frequency-domain feature extraction completed in 0:00:00.011654\n",
      "2024-10-24 19:00:20,334 - Starting statistical feature extraction\n",
      "2024-10-24 19:00:20,481 - Statistical feature extraction completed in 0:00:00.135845\n"
     ]
    },
    {
     "name": "stdout",
     "output_type": "stream",
     "text": [
      "\u001b[1m213/213\u001b[0m \u001b[32m━━━━━━━━━━━━━━━━━━━━\u001b[0m\u001b[37m\u001b[0m \u001b[1m7s\u001b[0m 27ms/step\n"
     ]
    },
    {
     "name": "stderr",
     "output_type": "stream",
     "text": [
      "2024-10-24 19:00:33,145 - Starting time-domain feature extraction\n",
      "2024-10-24 19:00:33,164 - Feature extraction completed in 0:00:00.017009\n",
      "2024-10-24 19:00:33,229 - Starting frequency-domain feature extraction\n",
      "2024-10-24 19:00:33,404 - Frequency-domain feature extraction completed in 0:00:00.155797\n",
      "2024-10-24 19:00:33,410 - Starting statistical feature extraction\n",
      "2024-10-24 19:00:33,436 - Statistical feature extraction completed in 0:00:00.023260\n"
     ]
    },
    {
     "name": "stdout",
     "output_type": "stream",
     "text": [
      "\u001b[1m115/115\u001b[0m \u001b[32m━━━━━━━━━━━━━━━━━━━━\u001b[0m\u001b[37m\u001b[0m \u001b[1m4s\u001b[0m 27ms/step\n",
      "\n",
      "Directory Classification Results:\n",
      "================================\n",
      "\n",
      "File: 0_hw00001.svc\n",
      "Predicted Emotion: Stress\n",
      "Confidence: 99.84%\n",
      "\n",
      "File: 0_hw00002.svc\n",
      "Predicted Emotion: Stress\n",
      "Confidence: 99.85%\n",
      "\n",
      "File: 0_hw00003.svc\n",
      "Predicted Emotion: Stress\n",
      "Confidence: 99.84%\n",
      "\n",
      "File: 0_hw00004.svc\n",
      "Predicted Emotion: Stress\n",
      "Confidence: 99.84%\n",
      "\n",
      "File: 0_hw00005.svc\n",
      "Predicted Emotion: Stress\n",
      "Confidence: 99.84%\n",
      "\n",
      "File: 0_hw00006.svc\n",
      "Predicted Emotion: Stress\n",
      "Confidence: 99.84%\n",
      "\n",
      "File: 0_hw00007.svc\n",
      "Predicted Emotion: Stress\n",
      "Confidence: 99.84%\n",
      "\n",
      "File: 1_hw00001.svc\n",
      "Predicted Emotion: Stress\n",
      "Confidence: 99.84%\n",
      "\n",
      "File: 1_hw00002.svc\n",
      "Predicted Emotion: Stress\n",
      "Confidence: 99.84%\n",
      "\n",
      "File: 1_hw00003.svc\n",
      "Predicted Emotion: Stress\n",
      "Confidence: 99.84%\n",
      "\n",
      "File: 1_hw00004.svc\n",
      "Predicted Emotion: Stress\n",
      "Confidence: 99.84%\n",
      "\n",
      "File: 1_hw00005.svc\n",
      "Predicted Emotion: Stress\n",
      "Confidence: 99.84%\n",
      "\n",
      "File: 1_hw00006.svc\n",
      "Predicted Emotion: Stress\n",
      "Confidence: 99.84%\n",
      "\n",
      "File: 1_hw00007.svc\n",
      "Predicted Emotion: Stress\n",
      "Confidence: 99.84%\n",
      "\n",
      "File: 2_hw00001.svc\n",
      "Predicted Emotion: Stress\n",
      "Confidence: 99.84%\n",
      "\n",
      "File: 2_hw00002.svc\n",
      "Predicted Emotion: Stress\n",
      "Confidence: 99.84%\n",
      "\n",
      "File: 2_hw00003.svc\n",
      "Predicted Emotion: Stress\n",
      "Confidence: 99.84%\n",
      "\n",
      "File: 2_hw00004.svc\n",
      "Predicted Emotion: Stress\n",
      "Confidence: 99.84%\n",
      "\n",
      "File: 2_hw00005.svc\n",
      "Predicted Emotion: Stress\n",
      "Confidence: 99.84%\n",
      "\n",
      "File: 2_hw00006.svc\n",
      "Predicted Emotion: Stress\n",
      "Confidence: 99.84%\n",
      "\n",
      "File: 2_hw00007.svc\n",
      "Predicted Emotion: Stress\n",
      "Confidence: 99.84%\n",
      "\n",
      "File: 3_hw00001.svc\n",
      "Predicted Emotion: Stress\n",
      "Confidence: 99.84%\n",
      "\n",
      "File: 3_hw00002.svc\n",
      "Predicted Emotion: Stress\n",
      "Confidence: 99.85%\n",
      "\n",
      "File: 3_hw00003.svc\n",
      "Predicted Emotion: Stress\n",
      "Confidence: 99.84%\n",
      "\n",
      "File: 3_hw00004.svc\n",
      "Predicted Emotion: Stress\n",
      "Confidence: 99.84%\n",
      "\n",
      "File: 3_hw00005.svc\n",
      "Predicted Emotion: Stress\n",
      "Confidence: 99.84%\n",
      "\n",
      "File: 3_hw00006.svc\n",
      "Predicted Emotion: Stress\n",
      "Confidence: 99.85%\n",
      "\n",
      "File: 3_hw00007.svc\n",
      "Predicted Emotion: Stress\n",
      "Confidence: 99.84%\n"
     ]
    }
   ],
   "source": [
    "# New Cell 9 - Classifier using saved model\n",
    "import numpy as np\n",
    "import tensorflow as tf\n",
    "import os\n",
    "from tensorflow.keras.models import load_model\n",
    "\n",
    "def load_and_preprocess_file(file_path):\n",
    "    \"\"\"\n",
    "    Load and preprocess a single file for classification\n",
    "    \"\"\"\n",
    "    try:\n",
    "        # Read the file\n",
    "        with open(file_path, 'r') as f:\n",
    "            lines = [line.strip() for line in f.readlines() if line.strip()]\n",
    "\n",
    "        # Convert to DataFrame\n",
    "        df = pd.DataFrame([line.split() for line in lines])\n",
    "        \n",
    "        # Skip empty files\n",
    "        if df.empty:\n",
    "            raise ValueError(f\"File is empty after processing\")\n",
    "\n",
    "        # First row contains total number of rows\n",
    "        total_rows = int(df.iloc[0, 0])\n",
    "        \n",
    "        # Extract feature data\n",
    "        data = df.iloc[1:, :].values\n",
    "        \n",
    "        # Ensure each row has 7 features\n",
    "        reshaped_data = []\n",
    "        for row in data:\n",
    "            if len(row) == 7:\n",
    "                reshaped_data.append(row)\n",
    "        \n",
    "        if not reshaped_data:\n",
    "            raise ValueError(\"No valid data rows found\")\n",
    "        \n",
    "        # Convert to numpy array\n",
    "        reshaped_data = np.array(reshaped_data, dtype=float)\n",
    "        \n",
    "        # Extract features\n",
    "        time_features = extract_time_domain_features(reshaped_data)\n",
    "        freq_features = extract_frequency_domain_features(reshaped_data)\n",
    "        stat_features = extract_statistical_features(reshaped_data)\n",
    "        \n",
    "        # Combine features\n",
    "        combined_features = np.concatenate((time_features, freq_features, stat_features), axis=1)\n",
    "        \n",
    "        return combined_features\n",
    "        \n",
    "    except Exception as e:\n",
    "        raise Exception(f\"Error processing file {file_path}: {e}\")\n",
    "\n",
    "def classify_emotion(model_path, file_path):\n",
    "    \"\"\"\n",
    "    Classify emotion using saved model\n",
    "    \"\"\"\n",
    "    try:\n",
    "        # Load the saved model\n",
    "        model = load_model(model_path)\n",
    "        \n",
    "        # Process the input file\n",
    "        features = load_and_preprocess_file(file_path)\n",
    "        \n",
    "        # Make prediction\n",
    "        prediction = model.predict(features)\n",
    "        \n",
    "        # Get the most common predicted class across all sequences\n",
    "        predicted_class = np.argmax(np.mean(prediction, axis=0))\n",
    "        \n",
    "        # Map class indices to labels\n",
    "        class_labels = ['Normal', 'Depression', 'Anxiety', 'Stress']\n",
    "        predicted_emotion = class_labels[predicted_class]\n",
    "        \n",
    "        # Calculate confidence\n",
    "        confidence = np.mean(prediction, axis=0)[predicted_class] * 100\n",
    "        \n",
    "        return predicted_emotion, confidence\n",
    "        \n",
    "    except Exception as e:\n",
    "        raise Exception(f\"Classification error: {e}\")\n",
    "\n",
    "def classify_directory(model_path, directory_path):\n",
    "    \"\"\"\n",
    "    Classify all .svc files in a directory\n",
    "    \"\"\"\n",
    "    results = []\n",
    "    \n",
    "    # Find all .svc files\n",
    "    file_paths = glob.glob(os.path.join(directory_path, \"*.svc\"))\n",
    "    \n",
    "    if not file_paths:\n",
    "        raise ValueError(\"No .svc files found in the directory\")\n",
    "    \n",
    "    for file_path in file_paths:\n",
    "        try:\n",
    "            emotion, confidence = classify_emotion(model_path, file_path)\n",
    "            results.append({\n",
    "                'file': os.path.basename(file_path),\n",
    "                'predicted_emotion': emotion,\n",
    "                'confidence': confidence\n",
    "            })\n",
    "        except Exception as e:\n",
    "            print(f\"Error processing {file_path}: {e}\")\n",
    "            continue\n",
    "    \n",
    "    return results\n",
    "\n",
    "# Example usage:\n",
    "if __name__ == \"__main__\":\n",
    "    # Path to your saved model\n",
    "    model_path = './saved_models/emotion_classifier.keras'\n",
    "    \n",
    "    # # Example 1: Classify a single file\n",
    "    # try:\n",
    "    #     file_path = './input_files/0_hw00001.svc'\n",
    "    #     emotion, confidence = classify_emotion(model_path, file_path)\n",
    "    #     print(f\"\\nFile: {os.path.basename(file_path)}\")\n",
    "    #     print(f\"Predicted Emotion: {emotion}\")\n",
    "    #     print(f\"Confidence: {confidence:.2f}%\")\n",
    "    # except Exception as e:\n",
    "    #     print(f\"Error classifying single file: {e}\")\n",
    "    \n",
    "    # Example 2: Classify all files in a directory\n",
    "    try:\n",
    "        directory_path = '../test/label copy/'\n",
    "        results = classify_directory(model_path, directory_path)\n",
    "        \n",
    "        print(\"\\nDirectory Classification Results:\")\n",
    "        print(\"================================\")\n",
    "        for result in results:\n",
    "            print(f\"\\nFile: {result['file']}\")\n",
    "            print(f\"Predicted Emotion: {result['predicted_emotion']}\")\n",
    "            print(f\"Confidence: {result['confidence']:.2f}%\")\n",
    "    except Exception as e:\n",
    "        print(f\"Error classifying directory: {e}\")\n",
    "\n"
   ]
  },
  {
   "cell_type": "markdown",
   "metadata": {},
   "source": [
    "# END\n"
   ]
  }
 ],
 "metadata": {
  "kernelspec": {
   "display_name": "base",
   "language": "python",
   "name": "python3"
  },
  "language_info": {
   "codemirror_mode": {
    "name": "ipython",
    "version": 3
   },
   "file_extension": ".py",
   "mimetype": "text/x-python",
   "name": "python",
   "nbconvert_exporter": "python",
   "pygments_lexer": "ipython3",
   "version": "3.11.5"
  }
 },
 "nbformat": 4,
 "nbformat_minor": 2
}
